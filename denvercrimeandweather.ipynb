{
 "cells": [
  {
   "cell_type": "code",
   "execution_count": 1,
   "metadata": {},
   "outputs": [],
   "source": [
    "import pandas as pd\n",
    "import numpy as np\n",
    "import pickle\n",
    "import matplotlib.pyplot as plt"
   ]
  },
  {
   "cell_type": "code",
   "execution_count": 2,
   "metadata": {},
   "outputs": [],
   "source": [
    "crimeDF= pd.read_csv(\"crime.csv\", encoding='windows-1254')\n",
    "weatherDF = pd.read_csv(\"weather_data_long.csv\")\n"
   ]
  },
  {
   "cell_type": "code",
   "execution_count": 3,
   "metadata": {},
   "outputs": [],
   "source": [
    "del weatherDF['Time']\n",
    "del weatherDF[\"WinSpeed\"]\n",
    "del weatherDF[\"Pressure\"]\n",
    "del weatherDF[\"Humidity\"]\n",
    "del weatherDF[\"Wind\"]\n",
    "del weatherDF[\"DewPoint\"]\n",
    "del weatherDF[\"WindGust\"]\n",
    "del weatherDF[\"Precip.\"]\n",
    "del weatherDF[\"Condition\"]"
   ]
  },
  {
   "cell_type": "code",
   "execution_count": 4,
   "metadata": {},
   "outputs": [],
   "source": [
    "crimeDF[\"OCCURRENCE_DATE\"] = pd.to_datetime(crimeDF[\"FIRST_OCCURRENCE_DATE\"]).dt.date\n",
    "crimeDF.rename(columns={'OCCURRENCE_DATE':'Date'},inplace =True)"
   ]
  },
  {
   "cell_type": "code",
   "execution_count": 5,
   "metadata": {},
   "outputs": [],
   "source": [
    "del crimeDF[\"incident_id\"]\n",
    "del crimeDF[\"offense_id\"]\n",
    "del crimeDF[\"OFFENSE_CODE\"]\n",
    "del crimeDF[\"OFFENSE_CODE_EXTENSION\"]\n",
    "del crimeDF[\"FIRST_OCCURRENCE_DATE\"]\n",
    "del crimeDF[\"LAST_OCCURRENCE_DATE\"]\n",
    "del crimeDF[\"REPORTED_DATE\"]\n",
    "del crimeDF[\"VICTIM_COUNT\"]\n",
    "del crimeDF[\"GEO_X\"]\n",
    "del crimeDF[\"GEO_Y\"]\n",
    "del crimeDF[\"GEO_LON\"]\n",
    "del crimeDF[\"GEO_LAT\"]\n",
    "del crimeDF[\"DISTRICT_ID\"]\n",
    "del crimeDF[\"PRECINCT_ID\"]\n",
    "del crimeDF[\"NEIGHBORHOOD_ID\"]\n",
    "del crimeDF[\"IS_CRIME\"]\n",
    "del crimeDF[\"IS_TRAFFIC\"]\n",
    "del crimeDF[\"INCIDENT_ADDRESS\"]"
   ]
  },
  {
   "cell_type": "code",
   "execution_count": 6,
   "metadata": {},
   "outputs": [],
   "source": [
    "crimeDF['Date']= pd.to_datetime(crimeDF['Date'])\n",
    "weatherDF['Date']= pd.to_datetime(weatherDF['Date'])"
   ]
  },
  {
   "cell_type": "code",
   "execution_count": 7,
   "metadata": {},
   "outputs": [],
   "source": [
    "weatherDF= weatherDF.groupby(['Date']).mean()"
   ]
  },
  {
   "cell_type": "code",
   "execution_count": 8,
   "metadata": {},
   "outputs": [
    {
     "data": {
      "text/html": [
       "<div>\n",
       "<style scoped>\n",
       "    .dataframe tbody tr th:only-of-type {\n",
       "        vertical-align: middle;\n",
       "    }\n",
       "\n",
       "    .dataframe tbody tr th {\n",
       "        vertical-align: top;\n",
       "    }\n",
       "\n",
       "    .dataframe thead th {\n",
       "        text-align: right;\n",
       "    }\n",
       "</style>\n",
       "<table border=\"1\" class=\"dataframe\">\n",
       "  <thead>\n",
       "    <tr style=\"text-align: right;\">\n",
       "      <th></th>\n",
       "      <th>OFFENSE_TYPE_ID</th>\n",
       "      <th>OFFENSE_CATEGORY_ID</th>\n",
       "      <th>Date</th>\n",
       "      <th>Temperature</th>\n",
       "    </tr>\n",
       "  </thead>\n",
       "  <tbody>\n",
       "    <tr>\n",
       "      <th>0</th>\n",
       "      <td>criminal-mischief-other</td>\n",
       "      <td>public-disorder</td>\n",
       "      <td>2017-06-25</td>\n",
       "      <td>60</td>\n",
       "    </tr>\n",
       "    <tr>\n",
       "      <th>1</th>\n",
       "      <td>criminal-mischief-other</td>\n",
       "      <td>public-disorder</td>\n",
       "      <td>2017-06-25</td>\n",
       "      <td>60</td>\n",
       "    </tr>\n",
       "    <tr>\n",
       "      <th>2</th>\n",
       "      <td>criminal-mischief-other</td>\n",
       "      <td>public-disorder</td>\n",
       "      <td>2017-06-25</td>\n",
       "      <td>60</td>\n",
       "    </tr>\n",
       "    <tr>\n",
       "      <th>3</th>\n",
       "      <td>criminal-mischief-other</td>\n",
       "      <td>public-disorder</td>\n",
       "      <td>2017-06-25</td>\n",
       "      <td>60</td>\n",
       "    </tr>\n",
       "    <tr>\n",
       "      <th>4</th>\n",
       "      <td>criminal-mischief-other</td>\n",
       "      <td>public-disorder</td>\n",
       "      <td>2017-06-25</td>\n",
       "      <td>60</td>\n",
       "    </tr>\n",
       "    <tr>\n",
       "      <th>...</th>\n",
       "      <td>...</td>\n",
       "      <td>...</td>\n",
       "      <td>...</td>\n",
       "      <td>...</td>\n",
       "    </tr>\n",
       "    <tr>\n",
       "      <th>379047</th>\n",
       "      <td>fraud-by-use-of-computer</td>\n",
       "      <td>white-collar-crime</td>\n",
       "      <td>2019-01-14</td>\n",
       "      <td>29</td>\n",
       "    </tr>\n",
       "    <tr>\n",
       "      <th>379048</th>\n",
       "      <td>fraud-by-use-of-computer</td>\n",
       "      <td>white-collar-crime</td>\n",
       "      <td>2019-01-14</td>\n",
       "      <td>29</td>\n",
       "    </tr>\n",
       "    <tr>\n",
       "      <th>379049</th>\n",
       "      <td>pawn-broker-viol</td>\n",
       "      <td>all-other-crimes</td>\n",
       "      <td>2019-01-14</td>\n",
       "      <td>29</td>\n",
       "    </tr>\n",
       "    <tr>\n",
       "      <th>379050</th>\n",
       "      <td>outside-steal-recovered-veh</td>\n",
       "      <td>all-other-crimes</td>\n",
       "      <td>2019-01-14</td>\n",
       "      <td>29</td>\n",
       "    </tr>\n",
       "    <tr>\n",
       "      <th>379051</th>\n",
       "      <td>outside-steal-recovered-veh</td>\n",
       "      <td>all-other-crimes</td>\n",
       "      <td>2019-01-14</td>\n",
       "      <td>29</td>\n",
       "    </tr>\n",
       "  </tbody>\n",
       "</table>\n",
       "<p>228089 rows × 4 columns</p>\n",
       "</div>"
      ],
      "text/plain": [
       "                    OFFENSE_TYPE_ID OFFENSE_CATEGORY_ID       Date  \\\n",
       "0           criminal-mischief-other     public-disorder 2017-06-25   \n",
       "1           criminal-mischief-other     public-disorder 2017-06-25   \n",
       "2           criminal-mischief-other     public-disorder 2017-06-25   \n",
       "3           criminal-mischief-other     public-disorder 2017-06-25   \n",
       "4           criminal-mischief-other     public-disorder 2017-06-25   \n",
       "...                             ...                 ...        ...   \n",
       "379047     fraud-by-use-of-computer  white-collar-crime 2019-01-14   \n",
       "379048     fraud-by-use-of-computer  white-collar-crime 2019-01-14   \n",
       "379049             pawn-broker-viol    all-other-crimes 2019-01-14   \n",
       "379050  outside-steal-recovered-veh    all-other-crimes 2019-01-14   \n",
       "379051  outside-steal-recovered-veh    all-other-crimes 2019-01-14   \n",
       "\n",
       "        Temperature  \n",
       "0                60  \n",
       "1                60  \n",
       "2                60  \n",
       "3                60  \n",
       "4                60  \n",
       "...             ...  \n",
       "379047           29  \n",
       "379048           29  \n",
       "379049           29  \n",
       "379050           29  \n",
       "379051           29  \n",
       "\n",
       "[228089 rows x 4 columns]"
      ]
     },
     "metadata": {},
     "output_type": "display_data"
    }
   ],
   "source": [
    "mergeOnDate = pd.merge(crimeDF, weatherDF, how='outer',on='Date')\n",
    "mergeOnDate=mergeOnDate.dropna(subset=['OFFENSE_TYPE_ID'])\n",
    "mergeOnDate=mergeOnDate.dropna(subset=['Temperature'])\n",
    "mergeOnDate['Temperature'] =mergeOnDate['Temperature'].astype('int')\n",
    "display(mergeOnDate)"
   ]
  },
  {
   "cell_type": "code",
   "execution_count": 9,
   "metadata": {},
   "outputs": [],
   "source": [
    "types ={'auto-theft': 'property',\n",
    "        'robbery': 'property',\n",
    "        'arson': 'property',\n",
    "        'theft-from-motor-vehicle': 'property',\n",
    "        'burglary': 'property',\n",
    "        'larceny': 'property',\n",
    "        'sexual-assault': 'person',\n",
    "        'drug-alcohol':'society',\n",
    "        'other-crimes-against-persons': 'person',\n",
    "        'aggravated-assault': 'person',\n",
    "        'murder': 'person',\n",
    "        'white-collar-crime': 'society',\n",
    "        'public-disorder': 'society',\n",
    "        'all-other-crimes': 'other'}"
   ]
  },
  {
   "cell_type": "code",
   "execution_count": 10,
   "metadata": {},
   "outputs": [
    {
     "data": {
      "text/html": [
       "<div>\n",
       "<style scoped>\n",
       "    .dataframe tbody tr th:only-of-type {\n",
       "        vertical-align: middle;\n",
       "    }\n",
       "\n",
       "    .dataframe tbody tr th {\n",
       "        vertical-align: top;\n",
       "    }\n",
       "\n",
       "    .dataframe thead th {\n",
       "        text-align: right;\n",
       "    }\n",
       "</style>\n",
       "<table border=\"1\" class=\"dataframe\">\n",
       "  <thead>\n",
       "    <tr style=\"text-align: right;\">\n",
       "      <th></th>\n",
       "      <th>OFFENSE_TYPE_ID</th>\n",
       "      <th>OFFENSE_CATEGORY_ID</th>\n",
       "      <th>Date</th>\n",
       "      <th>Temperature</th>\n",
       "    </tr>\n",
       "  </thead>\n",
       "  <tbody>\n",
       "    <tr>\n",
       "      <th>0</th>\n",
       "      <td>criminal-mischief-other</td>\n",
       "      <td>society</td>\n",
       "      <td>2017-06-25</td>\n",
       "      <td>60</td>\n",
       "    </tr>\n",
       "    <tr>\n",
       "      <th>1</th>\n",
       "      <td>criminal-mischief-other</td>\n",
       "      <td>society</td>\n",
       "      <td>2017-06-25</td>\n",
       "      <td>60</td>\n",
       "    </tr>\n",
       "    <tr>\n",
       "      <th>2</th>\n",
       "      <td>criminal-mischief-other</td>\n",
       "      <td>society</td>\n",
       "      <td>2017-06-25</td>\n",
       "      <td>60</td>\n",
       "    </tr>\n",
       "    <tr>\n",
       "      <th>3</th>\n",
       "      <td>criminal-mischief-other</td>\n",
       "      <td>society</td>\n",
       "      <td>2017-06-25</td>\n",
       "      <td>60</td>\n",
       "    </tr>\n",
       "    <tr>\n",
       "      <th>4</th>\n",
       "      <td>criminal-mischief-other</td>\n",
       "      <td>society</td>\n",
       "      <td>2017-06-25</td>\n",
       "      <td>60</td>\n",
       "    </tr>\n",
       "    <tr>\n",
       "      <th>...</th>\n",
       "      <td>...</td>\n",
       "      <td>...</td>\n",
       "      <td>...</td>\n",
       "      <td>...</td>\n",
       "    </tr>\n",
       "    <tr>\n",
       "      <th>379047</th>\n",
       "      <td>fraud-by-use-of-computer</td>\n",
       "      <td>society</td>\n",
       "      <td>2019-01-14</td>\n",
       "      <td>29</td>\n",
       "    </tr>\n",
       "    <tr>\n",
       "      <th>379048</th>\n",
       "      <td>fraud-by-use-of-computer</td>\n",
       "      <td>society</td>\n",
       "      <td>2019-01-14</td>\n",
       "      <td>29</td>\n",
       "    </tr>\n",
       "    <tr>\n",
       "      <th>379049</th>\n",
       "      <td>pawn-broker-viol</td>\n",
       "      <td>other</td>\n",
       "      <td>2019-01-14</td>\n",
       "      <td>29</td>\n",
       "    </tr>\n",
       "    <tr>\n",
       "      <th>379050</th>\n",
       "      <td>outside-steal-recovered-veh</td>\n",
       "      <td>other</td>\n",
       "      <td>2019-01-14</td>\n",
       "      <td>29</td>\n",
       "    </tr>\n",
       "    <tr>\n",
       "      <th>379051</th>\n",
       "      <td>outside-steal-recovered-veh</td>\n",
       "      <td>other</td>\n",
       "      <td>2019-01-14</td>\n",
       "      <td>29</td>\n",
       "    </tr>\n",
       "  </tbody>\n",
       "</table>\n",
       "<p>228089 rows × 4 columns</p>\n",
       "</div>"
      ],
      "text/plain": [
       "                    OFFENSE_TYPE_ID OFFENSE_CATEGORY_ID       Date  \\\n",
       "0           criminal-mischief-other             society 2017-06-25   \n",
       "1           criminal-mischief-other             society 2017-06-25   \n",
       "2           criminal-mischief-other             society 2017-06-25   \n",
       "3           criminal-mischief-other             society 2017-06-25   \n",
       "4           criminal-mischief-other             society 2017-06-25   \n",
       "...                             ...                 ...        ...   \n",
       "379047     fraud-by-use-of-computer             society 2019-01-14   \n",
       "379048     fraud-by-use-of-computer             society 2019-01-14   \n",
       "379049             pawn-broker-viol               other 2019-01-14   \n",
       "379050  outside-steal-recovered-veh               other 2019-01-14   \n",
       "379051  outside-steal-recovered-veh               other 2019-01-14   \n",
       "\n",
       "        Temperature  \n",
       "0                60  \n",
       "1                60  \n",
       "2                60  \n",
       "3                60  \n",
       "4                60  \n",
       "...             ...  \n",
       "379047           29  \n",
       "379048           29  \n",
       "379049           29  \n",
       "379050           29  \n",
       "379051           29  \n",
       "\n",
       "[228089 rows x 4 columns]"
      ]
     },
     "metadata": {},
     "output_type": "display_data"
    }
   ],
   "source": [
    "mergeOnDate[\"OFFENSE_CATEGORY_ID\"] = mergeOnDate[\"OFFENSE_CATEGORY_ID\"].replace(types)\n",
    "display(mergeOnDate)"
   ]
  },
  {
   "cell_type": "code",
   "execution_count": 11,
   "metadata": {},
   "outputs": [
    {
     "name": "stdout",
     "output_type": "stream",
     "text": [
      "228089\n"
     ]
    }
   ],
   "source": [
    "hotDays = mergeOnDate[mergeOnDate['Temperature'] > 75]\n",
    "mildDays = mergeOnDate[(mergeOnDate['Temperature'] >= 45) & (mergeOnDate['Temperature'] <= 75)]\n",
    "coldDays = mergeOnDate[mergeOnDate['Temperature'] < 45]\n",
    "\n",
    "numofweathercrimes = len(mergeOnDate.index)\n",
    "print(numofweathercrimes)"
   ]
  },
  {
   "cell_type": "code",
   "execution_count": 12,
   "metadata": {},
   "outputs": [
    {
     "data": {
      "text/html": [
       "<div>\n",
       "<style scoped>\n",
       "    .dataframe tbody tr th:only-of-type {\n",
       "        vertical-align: middle;\n",
       "    }\n",
       "\n",
       "    .dataframe tbody tr th {\n",
       "        vertical-align: top;\n",
       "    }\n",
       "\n",
       "    .dataframe thead th {\n",
       "        text-align: right;\n",
       "    }\n",
       "</style>\n",
       "<table border=\"1\" class=\"dataframe\">\n",
       "  <thead>\n",
       "    <tr style=\"text-align: right;\">\n",
       "      <th></th>\n",
       "      <th>OFFENSE_TYPE_ID</th>\n",
       "      <th>OFFENSE_CATEGORY_ID</th>\n",
       "      <th>Date</th>\n",
       "      <th>Temperature</th>\n",
       "    </tr>\n",
       "  </thead>\n",
       "  <tbody>\n",
       "    <tr>\n",
       "      <th>347</th>\n",
       "      <td>criminal-mischief-other</td>\n",
       "      <td>society</td>\n",
       "      <td>2017-06-27</td>\n",
       "      <td>77</td>\n",
       "    </tr>\n",
       "    <tr>\n",
       "      <th>348</th>\n",
       "      <td>criminal-mischief-other</td>\n",
       "      <td>society</td>\n",
       "      <td>2017-06-27</td>\n",
       "      <td>77</td>\n",
       "    </tr>\n",
       "    <tr>\n",
       "      <th>349</th>\n",
       "      <td>criminal-mischief-other</td>\n",
       "      <td>society</td>\n",
       "      <td>2017-06-27</td>\n",
       "      <td>77</td>\n",
       "    </tr>\n",
       "    <tr>\n",
       "      <th>350</th>\n",
       "      <td>criminal-mischief-other</td>\n",
       "      <td>society</td>\n",
       "      <td>2017-06-27</td>\n",
       "      <td>77</td>\n",
       "    </tr>\n",
       "    <tr>\n",
       "      <th>351</th>\n",
       "      <td>criminal-mischief-other</td>\n",
       "      <td>society</td>\n",
       "      <td>2017-06-27</td>\n",
       "      <td>77</td>\n",
       "    </tr>\n",
       "    <tr>\n",
       "      <th>...</th>\n",
       "      <td>...</td>\n",
       "      <td>...</td>\n",
       "      <td>...</td>\n",
       "      <td>...</td>\n",
       "    </tr>\n",
       "    <tr>\n",
       "      <th>377513</th>\n",
       "      <td>theft-unauth-use-of-ftd</td>\n",
       "      <td>society</td>\n",
       "      <td>2018-07-02</td>\n",
       "      <td>78</td>\n",
       "    </tr>\n",
       "    <tr>\n",
       "      <th>377514</th>\n",
       "      <td>fraud-by-use-of-computer</td>\n",
       "      <td>society</td>\n",
       "      <td>2018-07-02</td>\n",
       "      <td>78</td>\n",
       "    </tr>\n",
       "    <tr>\n",
       "      <th>377515</th>\n",
       "      <td>fraud-by-use-of-computer</td>\n",
       "      <td>society</td>\n",
       "      <td>2018-07-02</td>\n",
       "      <td>78</td>\n",
       "    </tr>\n",
       "    <tr>\n",
       "      <th>377516</th>\n",
       "      <td>fraud-by-use-of-computer</td>\n",
       "      <td>society</td>\n",
       "      <td>2018-07-02</td>\n",
       "      <td>78</td>\n",
       "    </tr>\n",
       "    <tr>\n",
       "      <th>377517</th>\n",
       "      <td>outside-steal-recovered-veh</td>\n",
       "      <td>other</td>\n",
       "      <td>2018-07-02</td>\n",
       "      <td>78</td>\n",
       "    </tr>\n",
       "  </tbody>\n",
       "</table>\n",
       "<p>25110 rows × 4 columns</p>\n",
       "</div>"
      ],
      "text/plain": [
       "                    OFFENSE_TYPE_ID OFFENSE_CATEGORY_ID       Date  \\\n",
       "347         criminal-mischief-other             society 2017-06-27   \n",
       "348         criminal-mischief-other             society 2017-06-27   \n",
       "349         criminal-mischief-other             society 2017-06-27   \n",
       "350         criminal-mischief-other             society 2017-06-27   \n",
       "351         criminal-mischief-other             society 2017-06-27   \n",
       "...                             ...                 ...        ...   \n",
       "377513      theft-unauth-use-of-ftd             society 2018-07-02   \n",
       "377514     fraud-by-use-of-computer             society 2018-07-02   \n",
       "377515     fraud-by-use-of-computer             society 2018-07-02   \n",
       "377516     fraud-by-use-of-computer             society 2018-07-02   \n",
       "377517  outside-steal-recovered-veh               other 2018-07-02   \n",
       "\n",
       "        Temperature  \n",
       "347              77  \n",
       "348              77  \n",
       "349              77  \n",
       "350              77  \n",
       "351              77  \n",
       "...             ...  \n",
       "377513           78  \n",
       "377514           78  \n",
       "377515           78  \n",
       "377516           78  \n",
       "377517           78  \n",
       "\n",
       "[25110 rows x 4 columns]"
      ]
     },
     "metadata": {},
     "output_type": "display_data"
    },
    {
     "data": {
      "text/html": [
       "<div>\n",
       "<style scoped>\n",
       "    .dataframe tbody tr th:only-of-type {\n",
       "        vertical-align: middle;\n",
       "    }\n",
       "\n",
       "    .dataframe tbody tr th {\n",
       "        vertical-align: top;\n",
       "    }\n",
       "\n",
       "    .dataframe thead th {\n",
       "        text-align: right;\n",
       "    }\n",
       "</style>\n",
       "<table border=\"1\" class=\"dataframe\">\n",
       "  <thead>\n",
       "    <tr style=\"text-align: right;\">\n",
       "      <th></th>\n",
       "      <th>OFFENSE_TYPE_ID</th>\n",
       "      <th>OFFENSE_CATEGORY_ID</th>\n",
       "      <th>Date</th>\n",
       "      <th>Temperature</th>\n",
       "    </tr>\n",
       "  </thead>\n",
       "  <tbody>\n",
       "    <tr>\n",
       "      <th>0</th>\n",
       "      <td>criminal-mischief-other</td>\n",
       "      <td>society</td>\n",
       "      <td>2017-06-25</td>\n",
       "      <td>60</td>\n",
       "    </tr>\n",
       "    <tr>\n",
       "      <th>1</th>\n",
       "      <td>criminal-mischief-other</td>\n",
       "      <td>society</td>\n",
       "      <td>2017-06-25</td>\n",
       "      <td>60</td>\n",
       "    </tr>\n",
       "    <tr>\n",
       "      <th>2</th>\n",
       "      <td>criminal-mischief-other</td>\n",
       "      <td>society</td>\n",
       "      <td>2017-06-25</td>\n",
       "      <td>60</td>\n",
       "    </tr>\n",
       "    <tr>\n",
       "      <th>3</th>\n",
       "      <td>criminal-mischief-other</td>\n",
       "      <td>society</td>\n",
       "      <td>2017-06-25</td>\n",
       "      <td>60</td>\n",
       "    </tr>\n",
       "    <tr>\n",
       "      <th>4</th>\n",
       "      <td>criminal-mischief-other</td>\n",
       "      <td>society</td>\n",
       "      <td>2017-06-25</td>\n",
       "      <td>60</td>\n",
       "    </tr>\n",
       "    <tr>\n",
       "      <th>...</th>\n",
       "      <td>...</td>\n",
       "      <td>...</td>\n",
       "      <td>...</td>\n",
       "      <td>...</td>\n",
       "    </tr>\n",
       "    <tr>\n",
       "      <th>377019</th>\n",
       "      <td>theft-of-motor-vehicle</td>\n",
       "      <td>property</td>\n",
       "      <td>2018-04-08</td>\n",
       "      <td>54</td>\n",
       "    </tr>\n",
       "    <tr>\n",
       "      <th>377020</th>\n",
       "      <td>theft-of-motor-vehicle</td>\n",
       "      <td>property</td>\n",
       "      <td>2018-04-08</td>\n",
       "      <td>54</td>\n",
       "    </tr>\n",
       "    <tr>\n",
       "      <th>377021</th>\n",
       "      <td>drug-forgery-to-obtain</td>\n",
       "      <td>society</td>\n",
       "      <td>2018-04-08</td>\n",
       "      <td>54</td>\n",
       "    </tr>\n",
       "    <tr>\n",
       "      <th>377022</th>\n",
       "      <td>drug-forgery-to-obtain</td>\n",
       "      <td>society</td>\n",
       "      <td>2018-04-08</td>\n",
       "      <td>54</td>\n",
       "    </tr>\n",
       "    <tr>\n",
       "      <th>377023</th>\n",
       "      <td>outside-steal-recovered-veh</td>\n",
       "      <td>other</td>\n",
       "      <td>2018-04-08</td>\n",
       "      <td>54</td>\n",
       "    </tr>\n",
       "  </tbody>\n",
       "</table>\n",
       "<p>123539 rows × 4 columns</p>\n",
       "</div>"
      ],
      "text/plain": [
       "                    OFFENSE_TYPE_ID OFFENSE_CATEGORY_ID       Date  \\\n",
       "0           criminal-mischief-other             society 2017-06-25   \n",
       "1           criminal-mischief-other             society 2017-06-25   \n",
       "2           criminal-mischief-other             society 2017-06-25   \n",
       "3           criminal-mischief-other             society 2017-06-25   \n",
       "4           criminal-mischief-other             society 2017-06-25   \n",
       "...                             ...                 ...        ...   \n",
       "377019       theft-of-motor-vehicle            property 2018-04-08   \n",
       "377020       theft-of-motor-vehicle            property 2018-04-08   \n",
       "377021       drug-forgery-to-obtain             society 2018-04-08   \n",
       "377022       drug-forgery-to-obtain             society 2018-04-08   \n",
       "377023  outside-steal-recovered-veh               other 2018-04-08   \n",
       "\n",
       "        Temperature  \n",
       "0                60  \n",
       "1                60  \n",
       "2                60  \n",
       "3                60  \n",
       "4                60  \n",
       "...             ...  \n",
       "377019           54  \n",
       "377020           54  \n",
       "377021           54  \n",
       "377022           54  \n",
       "377023           54  \n",
       "\n",
       "[123539 rows x 4 columns]"
      ]
     },
     "metadata": {},
     "output_type": "display_data"
    },
    {
     "data": {
      "text/html": [
       "<div>\n",
       "<style scoped>\n",
       "    .dataframe tbody tr th:only-of-type {\n",
       "        vertical-align: middle;\n",
       "    }\n",
       "\n",
       "    .dataframe tbody tr th {\n",
       "        vertical-align: top;\n",
       "    }\n",
       "\n",
       "    .dataframe thead th {\n",
       "        text-align: right;\n",
       "    }\n",
       "</style>\n",
       "<table border=\"1\" class=\"dataframe\">\n",
       "  <thead>\n",
       "    <tr style=\"text-align: right;\">\n",
       "      <th></th>\n",
       "      <th>OFFENSE_TYPE_ID</th>\n",
       "      <th>OFFENSE_CATEGORY_ID</th>\n",
       "      <th>Date</th>\n",
       "      <th>Temperature</th>\n",
       "    </tr>\n",
       "  </thead>\n",
       "  <tbody>\n",
       "    <tr>\n",
       "      <th>2034</th>\n",
       "      <td>criminal-mischief-other</td>\n",
       "      <td>society</td>\n",
       "      <td>2017-04-01</td>\n",
       "      <td>35</td>\n",
       "    </tr>\n",
       "    <tr>\n",
       "      <th>2035</th>\n",
       "      <td>criminal-mischief-other</td>\n",
       "      <td>society</td>\n",
       "      <td>2017-04-01</td>\n",
       "      <td>35</td>\n",
       "    </tr>\n",
       "    <tr>\n",
       "      <th>2036</th>\n",
       "      <td>criminal-mischief-other</td>\n",
       "      <td>society</td>\n",
       "      <td>2017-04-01</td>\n",
       "      <td>35</td>\n",
       "    </tr>\n",
       "    <tr>\n",
       "      <th>2037</th>\n",
       "      <td>criminal-mischief-other</td>\n",
       "      <td>society</td>\n",
       "      <td>2017-04-01</td>\n",
       "      <td>35</td>\n",
       "    </tr>\n",
       "    <tr>\n",
       "      <th>2038</th>\n",
       "      <td>criminal-mischief-other</td>\n",
       "      <td>society</td>\n",
       "      <td>2017-04-01</td>\n",
       "      <td>35</td>\n",
       "    </tr>\n",
       "    <tr>\n",
       "      <th>...</th>\n",
       "      <td>...</td>\n",
       "      <td>...</td>\n",
       "      <td>...</td>\n",
       "      <td>...</td>\n",
       "    </tr>\n",
       "    <tr>\n",
       "      <th>379047</th>\n",
       "      <td>fraud-by-use-of-computer</td>\n",
       "      <td>society</td>\n",
       "      <td>2019-01-14</td>\n",
       "      <td>29</td>\n",
       "    </tr>\n",
       "    <tr>\n",
       "      <th>379048</th>\n",
       "      <td>fraud-by-use-of-computer</td>\n",
       "      <td>society</td>\n",
       "      <td>2019-01-14</td>\n",
       "      <td>29</td>\n",
       "    </tr>\n",
       "    <tr>\n",
       "      <th>379049</th>\n",
       "      <td>pawn-broker-viol</td>\n",
       "      <td>other</td>\n",
       "      <td>2019-01-14</td>\n",
       "      <td>29</td>\n",
       "    </tr>\n",
       "    <tr>\n",
       "      <th>379050</th>\n",
       "      <td>outside-steal-recovered-veh</td>\n",
       "      <td>other</td>\n",
       "      <td>2019-01-14</td>\n",
       "      <td>29</td>\n",
       "    </tr>\n",
       "    <tr>\n",
       "      <th>379051</th>\n",
       "      <td>outside-steal-recovered-veh</td>\n",
       "      <td>other</td>\n",
       "      <td>2019-01-14</td>\n",
       "      <td>29</td>\n",
       "    </tr>\n",
       "  </tbody>\n",
       "</table>\n",
       "<p>79440 rows × 4 columns</p>\n",
       "</div>"
      ],
      "text/plain": [
       "                    OFFENSE_TYPE_ID OFFENSE_CATEGORY_ID       Date  \\\n",
       "2034        criminal-mischief-other             society 2017-04-01   \n",
       "2035        criminal-mischief-other             society 2017-04-01   \n",
       "2036        criminal-mischief-other             society 2017-04-01   \n",
       "2037        criminal-mischief-other             society 2017-04-01   \n",
       "2038        criminal-mischief-other             society 2017-04-01   \n",
       "...                             ...                 ...        ...   \n",
       "379047     fraud-by-use-of-computer             society 2019-01-14   \n",
       "379048     fraud-by-use-of-computer             society 2019-01-14   \n",
       "379049             pawn-broker-viol               other 2019-01-14   \n",
       "379050  outside-steal-recovered-veh               other 2019-01-14   \n",
       "379051  outside-steal-recovered-veh               other 2019-01-14   \n",
       "\n",
       "        Temperature  \n",
       "2034             35  \n",
       "2035             35  \n",
       "2036             35  \n",
       "2037             35  \n",
       "2038             35  \n",
       "...             ...  \n",
       "379047           29  \n",
       "379048           29  \n",
       "379049           29  \n",
       "379050           29  \n",
       "379051           29  \n",
       "\n",
       "[79440 rows x 4 columns]"
      ]
     },
     "metadata": {},
     "output_type": "display_data"
    }
   ],
   "source": [
    "display(hotDays)\n",
    "display(mildDays)\n",
    "display(coldDays)"
   ]
  },
  {
   "cell_type": "code",
   "execution_count": 13,
   "metadata": {},
   "outputs": [
    {
     "data": {
      "text/plain": [
       "OFFENSE_CATEGORY_ID\n",
       "other        37218\n",
       "person       29619\n",
       "property    105089\n",
       "society      56163\n",
       "dtype: int64"
      ]
     },
     "execution_count": 13,
     "metadata": {},
     "output_type": "execute_result"
    }
   ],
   "source": [
    "crimetypes = mergeOnDate.groupby([\"OFFENSE_CATEGORY_ID\"]).size()\n",
    "crimetypes.head(15)"
   ]
  },
  {
   "cell_type": "code",
   "execution_count": 14,
   "metadata": {},
   "outputs": [
    {
     "data": {
      "text/plain": [
       "OFFENSE_CATEGORY_ID\n",
       "other        3824\n",
       "person       3392\n",
       "property    11917\n",
       "society      5977\n",
       "dtype: int64"
      ]
     },
     "execution_count": 14,
     "metadata": {},
     "output_type": "execute_result"
    }
   ],
   "source": [
    "hotTypes=hotDays.groupby([\"OFFENSE_CATEGORY_ID\"]).size()\n",
    "hotTypes.head(15)"
   ]
  },
  {
   "cell_type": "code",
   "execution_count": 15,
   "metadata": {},
   "outputs": [
    {
     "data": {
      "text/plain": [
       "OFFENSE_CATEGORY_ID\n",
       "other       20179\n",
       "person      16167\n",
       "property    56670\n",
       "society     30523\n",
       "dtype: int64"
      ]
     },
     "execution_count": 15,
     "metadata": {},
     "output_type": "execute_result"
    }
   ],
   "source": [
    "mildTypes =mildDays.groupby([\"OFFENSE_CATEGORY_ID\"]).size()\n",
    "mildTypes.head(15)"
   ]
  },
  {
   "cell_type": "code",
   "execution_count": 16,
   "metadata": {},
   "outputs": [
    {
     "data": {
      "text/plain": [
       "OFFENSE_CATEGORY_ID\n",
       "other       13215\n",
       "person      10060\n",
       "property    36502\n",
       "society     19663\n",
       "dtype: int64"
      ]
     },
     "execution_count": 16,
     "metadata": {},
     "output_type": "execute_result"
    }
   ],
   "source": [
    "coldTypes = coldDays.groupby([\"OFFENSE_CATEGORY_ID\"]).size()\n",
    "coldTypes.head(15)"
   ]
  },
  {
   "cell_type": "code",
   "execution_count": 17,
   "metadata": {},
   "outputs": [
    {
     "name": "stdout",
     "output_type": "stream",
     "text": [
      "% of a crime category happening on a Hot day\n"
     ]
    },
    {
     "data": {
      "text/plain": [
       "OFFENSE_CATEGORY_ID\n",
       "other       10.274598\n",
       "person      11.452108\n",
       "property    11.339912\n",
       "society     10.642238\n",
       "dtype: float64"
      ]
     },
     "metadata": {},
     "output_type": "display_data"
    }
   ],
   "source": [
    "hotDaysProb = (hotTypes.div(crimetypes))*100\n",
    "print(\"% of a crime category happening on a Hot day\")\n",
    "display(hotDaysProb)"
   ]
  },
  {
   "cell_type": "code",
   "execution_count": 18,
   "metadata": {},
   "outputs": [
    {
     "name": "stdout",
     "output_type": "stream",
     "text": [
      "% of a crime category happening on a Cold day\n"
     ]
    },
    {
     "data": {
      "text/plain": [
       "OFFENSE_CATEGORY_ID\n",
       "other       35.507013\n",
       "person      33.964685\n",
       "property    34.734368\n",
       "society     35.010594\n",
       "dtype: float64"
      ]
     },
     "metadata": {},
     "output_type": "display_data"
    }
   ],
   "source": [
    "coldDaysProb = (coldTypes.div(crimetypes))*100\n",
    "print(\"% of a crime category happening on a Cold day\")\n",
    "display(coldDaysProb)"
   ]
  },
  {
   "cell_type": "code",
   "execution_count": 19,
   "metadata": {},
   "outputs": [
    {
     "name": "stdout",
     "output_type": "stream",
     "text": [
      "% of a crime category happening on a Mild day\n"
     ]
    },
    {
     "data": {
      "text/plain": [
       "OFFENSE_CATEGORY_ID\n",
       "other       54.218389\n",
       "person      54.583207\n",
       "property    53.925720\n",
       "society     54.347168\n",
       "dtype: float64"
      ]
     },
     "metadata": {},
     "output_type": "display_data"
    }
   ],
   "source": [
    "mildDaysProb = (mildTypes.div(crimetypes))*100\n",
    "print(\"% of a crime category happening on a Mild day\")\n",
    "display(mildDaysProb)"
   ]
  },
  {
   "cell_type": "markdown",
   "metadata": {},
   "source": []
  },
  {
   "cell_type": "markdown",
   "metadata": {},
   "source": [
    "Property:theft, robbery,arson,burglary,auto-theft,larceny,theft-from-motor-vehicle\n",
    "Person:aggravated-assault,murder,other-crimes-against persons, sexual assault, drug-alcohol\n",
    "society: white-collar-crimes,public-disorder\n",
    "Error: all other"
   ]
  },
  {
   "cell_type": "markdown",
   "metadata": {},
   "source": []
  },
  {
   "cell_type": "code",
   "execution_count": 20,
   "metadata": {},
   "outputs": [
    {
     "data": {
      "text/plain": [
       "OFFENSE_CATEGORY_ID\n",
       "other        37218\n",
       "person       29619\n",
       "property    105089\n",
       "society      56163\n",
       "dtype: int64"
      ]
     },
     "metadata": {},
     "output_type": "display_data"
    }
   ],
   "source": [
    "crimeTypeSPPO = mergeOnDate.groupby('OFFENSE_CATEGORY_ID').size()\n",
    "display(crimeTypeSPPO)\n"
   ]
  },
  {
   "cell_type": "code",
   "execution_count": 22,
   "metadata": {},
   "outputs": [
    {
     "data": {
      "text/plain": [
       "OFFENSE_CATEGORY_ID\n",
       "other        3824\n",
       "person       3392\n",
       "property    11917\n",
       "society      5977\n",
       "dtype: int64"
      ]
     },
     "metadata": {},
     "output_type": "display_data"
    }
   ],
   "source": [
    "SPPOhot = hotDays.groupby('OFFENSE_CATEGORY_ID').size()\n",
    "display(SPPOhot)"
   ]
  },
  {
   "cell_type": "code",
   "execution_count": 24,
   "metadata": {},
   "outputs": [
    {
     "data": {
      "text/plain": [
       "OFFENSE_CATEGORY_ID\n",
       "other       20179\n",
       "person      16167\n",
       "property    56670\n",
       "society     30523\n",
       "dtype: int64"
      ]
     },
     "metadata": {},
     "output_type": "display_data"
    }
   ],
   "source": [
    "SPPOmild = mildDays.groupby('OFFENSE_CATEGORY_ID').size()\n",
    "display(SPPOmild)"
   ]
  },
  {
   "cell_type": "code",
   "execution_count": 25,
   "metadata": {},
   "outputs": [
    {
     "data": {
      "text/plain": [
       "OFFENSE_CATEGORY_ID\n",
       "other       13215\n",
       "person      10060\n",
       "property    36502\n",
       "society     19663\n",
       "dtype: int64"
      ]
     },
     "metadata": {},
     "output_type": "display_data"
    }
   ],
   "source": [
    "SPPOcold = coldDays.groupby('OFFENSE_CATEGORY_ID').size()\n",
    "display(SPPOcold)"
   ]
  },
  {
   "cell_type": "markdown",
   "metadata": {},
   "source": []
  }
 ],
 "metadata": {
  "kernelspec": {
   "display_name": "Python 3.9.6 64-bit",
   "language": "python",
   "name": "python3"
  },
  "language_info": {
   "codemirror_mode": {
    "name": "ipython",
    "version": 3
   },
   "file_extension": ".py",
   "mimetype": "text/x-python",
   "name": "python",
   "nbconvert_exporter": "python",
   "pygments_lexer": "ipython3",
   "version": "3.9.6"
  },
  "orig_nbformat": 4,
  "vscode": {
   "interpreter": {
    "hash": "aee8b7b246df8f9039afb4144a1f6fd8d2ca17a180786b69acc140d282b71a49"
   }
  }
 },
 "nbformat": 4,
 "nbformat_minor": 2
}
