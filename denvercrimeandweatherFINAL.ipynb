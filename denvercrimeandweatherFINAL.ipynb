{
 "cells": [
  {
   "cell_type": "markdown",
   "metadata": {},
   "source": [
    "<h1>Crime and Weather<h1>\n",
    "<h2>Graphs and Exploratory Analysis<h2>\n",
    "<h3>Lauren Paredes<h3>\n",
    "\n"
   ]
  },
  {
   "cell_type": "code",
   "execution_count": 60,
   "metadata": {},
   "outputs": [],
   "source": [
    "import pandas as pd\n",
    "import numpy as np\n",
    "import pickle\n",
    "import matplotlib.pyplot as plt"
   ]
  },
  {
   "cell_type": "markdown",
   "metadata": {},
   "source": [
    "Read in both crime and weather into data frames using pandas."
   ]
  },
  {
   "cell_type": "code",
   "execution_count": 61,
   "metadata": {},
   "outputs": [],
   "source": [
    "crimeDF= pd.read_csv(\"crime.csv\", encoding='windows-1254')\n",
    "weatherDF = pd.read_csv(\"weather_data_long.csv\")\n"
   ]
  },
  {
   "cell_type": "markdown",
   "metadata": {},
   "source": [
    "Clean up and trim down the dataframes"
   ]
  },
  {
   "cell_type": "code",
   "execution_count": 62,
   "metadata": {},
   "outputs": [],
   "source": [
    "del weatherDF['Time']\n",
    "del weatherDF[\"WinSpeed\"]\n",
    "del weatherDF[\"Pressure\"]\n",
    "del weatherDF[\"Humidity\"]\n",
    "del weatherDF[\"Wind\"]\n",
    "del weatherDF[\"DewPoint\"]\n",
    "del weatherDF[\"WindGust\"]\n",
    "del weatherDF[\"Precip.\"]\n",
    "del weatherDF[\"Condition\"]"
   ]
  },
  {
   "cell_type": "code",
   "execution_count": 63,
   "metadata": {},
   "outputs": [],
   "source": [
    "# need the occurance date to be in the format of datetime\n",
    "crimeDF['Date'] = pd.to_datetime(crimeDF[\"FIRST_OCCURRENCE_DATE\"]).dt.date\n",
    "# crimeDF.rename(columns={'OCCURRENCE_DATE':'Date'},inplace =True)"
   ]
  },
  {
   "cell_type": "code",
   "execution_count": 64,
   "metadata": {},
   "outputs": [],
   "source": [
    "del crimeDF[\"incident_id\"]\n",
    "del crimeDF[\"offense_id\"]\n",
    "del crimeDF[\"OFFENSE_CODE\"]\n",
    "del crimeDF[\"OFFENSE_CODE_EXTENSION\"]\n",
    "del crimeDF[\"FIRST_OCCURRENCE_DATE\"]\n",
    "del crimeDF[\"LAST_OCCURRENCE_DATE\"]\n",
    "del crimeDF[\"REPORTED_DATE\"]\n",
    "del crimeDF[\"VICTIM_COUNT\"]\n",
    "del crimeDF[\"GEO_X\"]\n",
    "del crimeDF[\"GEO_Y\"]\n",
    "del crimeDF[\"GEO_LON\"]\n",
    "del crimeDF[\"GEO_LAT\"]\n",
    "del crimeDF[\"DISTRICT_ID\"]\n",
    "del crimeDF[\"PRECINCT_ID\"]\n",
    "del crimeDF[\"NEIGHBORHOOD_ID\"]\n",
    "del crimeDF[\"IS_CRIME\"]\n",
    "del crimeDF[\"IS_TRAFFIC\"]\n",
    "del crimeDF[\"INCIDENT_ADDRESS\"]"
   ]
  },
  {
   "cell_type": "code",
   "execution_count": 65,
   "metadata": {},
   "outputs": [],
   "source": [
    "# Making sure both dataframes have a common col to merge on with the correct datatype\n",
    "crimeDF['Date']= pd.to_datetime(crimeDF['Date'])\n",
    "weatherDF['Date']= pd.to_datetime(weatherDF['Date'])"
   ]
  },
  {
   "cell_type": "code",
   "execution_count": 66,
   "metadata": {},
   "outputs": [],
   "source": [
    "# Set the temperature for the average divided by group\n",
    "weatherDF= weatherDF.groupby(['Date']).max()"
   ]
  },
  {
   "cell_type": "markdown",
   "metadata": {},
   "source": [
    "<h3> Merging crime and weather on a common date<h3>"
   ]
  },
  {
   "cell_type": "code",
   "execution_count": 67,
   "metadata": {},
   "outputs": [
    {
     "data": {
      "text/html": [
       "<div>\n",
       "<style scoped>\n",
       "    .dataframe tbody tr th:only-of-type {\n",
       "        vertical-align: middle;\n",
       "    }\n",
       "\n",
       "    .dataframe tbody tr th {\n",
       "        vertical-align: top;\n",
       "    }\n",
       "\n",
       "    .dataframe thead th {\n",
       "        text-align: right;\n",
       "    }\n",
       "</style>\n",
       "<table border=\"1\" class=\"dataframe\">\n",
       "  <thead>\n",
       "    <tr style=\"text-align: right;\">\n",
       "      <th></th>\n",
       "      <th>OFFENSE_TYPE_ID</th>\n",
       "      <th>OFFENSE_CATEGORY_ID</th>\n",
       "      <th>Date</th>\n",
       "      <th>Temperature</th>\n",
       "    </tr>\n",
       "  </thead>\n",
       "  <tbody>\n",
       "    <tr>\n",
       "      <th>0</th>\n",
       "      <td>criminal-mischief-other</td>\n",
       "      <td>public-disorder</td>\n",
       "      <td>2017-06-25</td>\n",
       "      <td>73</td>\n",
       "    </tr>\n",
       "    <tr>\n",
       "      <th>1</th>\n",
       "      <td>criminal-mischief-other</td>\n",
       "      <td>public-disorder</td>\n",
       "      <td>2017-06-25</td>\n",
       "      <td>73</td>\n",
       "    </tr>\n",
       "    <tr>\n",
       "      <th>2</th>\n",
       "      <td>criminal-mischief-other</td>\n",
       "      <td>public-disorder</td>\n",
       "      <td>2017-06-25</td>\n",
       "      <td>73</td>\n",
       "    </tr>\n",
       "    <tr>\n",
       "      <th>3</th>\n",
       "      <td>criminal-mischief-other</td>\n",
       "      <td>public-disorder</td>\n",
       "      <td>2017-06-25</td>\n",
       "      <td>73</td>\n",
       "    </tr>\n",
       "    <tr>\n",
       "      <th>4</th>\n",
       "      <td>criminal-mischief-other</td>\n",
       "      <td>public-disorder</td>\n",
       "      <td>2017-06-25</td>\n",
       "      <td>73</td>\n",
       "    </tr>\n",
       "    <tr>\n",
       "      <th>...</th>\n",
       "      <td>...</td>\n",
       "      <td>...</td>\n",
       "      <td>...</td>\n",
       "      <td>...</td>\n",
       "    </tr>\n",
       "    <tr>\n",
       "      <th>379047</th>\n",
       "      <td>fraud-by-use-of-computer</td>\n",
       "      <td>white-collar-crime</td>\n",
       "      <td>2019-01-14</td>\n",
       "      <td>43</td>\n",
       "    </tr>\n",
       "    <tr>\n",
       "      <th>379048</th>\n",
       "      <td>fraud-by-use-of-computer</td>\n",
       "      <td>white-collar-crime</td>\n",
       "      <td>2019-01-14</td>\n",
       "      <td>43</td>\n",
       "    </tr>\n",
       "    <tr>\n",
       "      <th>379049</th>\n",
       "      <td>pawn-broker-viol</td>\n",
       "      <td>all-other-crimes</td>\n",
       "      <td>2019-01-14</td>\n",
       "      <td>43</td>\n",
       "    </tr>\n",
       "    <tr>\n",
       "      <th>379050</th>\n",
       "      <td>outside-steal-recovered-veh</td>\n",
       "      <td>all-other-crimes</td>\n",
       "      <td>2019-01-14</td>\n",
       "      <td>43</td>\n",
       "    </tr>\n",
       "    <tr>\n",
       "      <th>379051</th>\n",
       "      <td>outside-steal-recovered-veh</td>\n",
       "      <td>all-other-crimes</td>\n",
       "      <td>2019-01-14</td>\n",
       "      <td>43</td>\n",
       "    </tr>\n",
       "  </tbody>\n",
       "</table>\n",
       "<p>228089 rows × 4 columns</p>\n",
       "</div>"
      ],
      "text/plain": [
       "                    OFFENSE_TYPE_ID OFFENSE_CATEGORY_ID       Date  \\\n",
       "0           criminal-mischief-other     public-disorder 2017-06-25   \n",
       "1           criminal-mischief-other     public-disorder 2017-06-25   \n",
       "2           criminal-mischief-other     public-disorder 2017-06-25   \n",
       "3           criminal-mischief-other     public-disorder 2017-06-25   \n",
       "4           criminal-mischief-other     public-disorder 2017-06-25   \n",
       "...                             ...                 ...        ...   \n",
       "379047     fraud-by-use-of-computer  white-collar-crime 2019-01-14   \n",
       "379048     fraud-by-use-of-computer  white-collar-crime 2019-01-14   \n",
       "379049             pawn-broker-viol    all-other-crimes 2019-01-14   \n",
       "379050  outside-steal-recovered-veh    all-other-crimes 2019-01-14   \n",
       "379051  outside-steal-recovered-veh    all-other-crimes 2019-01-14   \n",
       "\n",
       "        Temperature  \n",
       "0                73  \n",
       "1                73  \n",
       "2                73  \n",
       "3                73  \n",
       "4                73  \n",
       "...             ...  \n",
       "379047           43  \n",
       "379048           43  \n",
       "379049           43  \n",
       "379050           43  \n",
       "379051           43  \n",
       "\n",
       "[228089 rows x 4 columns]"
      ]
     },
     "metadata": {},
     "output_type": "display_data"
    }
   ],
   "source": [
    "mergeOnDate = pd.merge(crimeDF, weatherDF, how='outer',on='Date')\n",
    "mergeOnDate=mergeOnDate.dropna(subset=['OFFENSE_TYPE_ID'])\n",
    "mergeOnDate=mergeOnDate.dropna(subset=['Temperature'])\n",
    "mergeOnDate['Temperature'] =mergeOnDate['Temperature'].astype('int')\n",
    "display(mergeOnDate)"
   ]
  },
  {
   "cell_type": "markdown",
   "metadata": {},
   "source": [
    "<h2>Graphs<h2>"
   ]
  },
  {
   "cell_type": "code",
   "execution_count": 68,
   "metadata": {},
   "outputs": [],
   "source": [
    "graphJoin =mergeOnDate\n",
    "graphJoin['Year'] = pd.DatetimeIndex(graphJoin['Date']).year\n",
    "graphJoin['Month'] = pd.DatetimeIndex(graphJoin['Date']).month"
   ]
  },
  {
   "cell_type": "code",
   "execution_count": 69,
   "metadata": {},
   "outputs": [
    {
     "data": {
      "image/png": "[encoded data removed]",
      "text/plain": [
       "<Figure size 432x288 with 1 Axes>"
      ]
     },
     "metadata": {
      "needs_background": "light"
     },
     "output_type": "display_data"
    }
   ],
   "source": [
    "plt.scatter(graphJoin['Year'],graphJoin['Temperature'])\n",
    "plt.title(\"Temperature vs year Denver\")\n",
    "\n",
    "plt.xticks(np.arange( min(graphJoin[\"Year\"]) , max(graphJoin[\"Year\"]+1 ),1.0))\n",
    "plt.xlabel(\"Date\")\n",
    "plt.ylabel(\"Temp(F)\")\n",
    "plt.show()"
   ]
  },
  {
   "cell_type": "code",
   "execution_count": 70,
   "metadata": {},
   "outputs": [
    {
     "data": {
      "image/png": "[encoded data removed]",
      "text/plain": [
       "<Figure size 432x288 with 1 Axes>"
      ]
     },
     "metadata": {
      "needs_background": "light"
     },
     "output_type": "display_data"
    }
   ],
   "source": [
    "plt.scatter(graphJoin['Month'],graphJoin['Temperature'])\n",
    "plt.title(\"Temperature vs month Denver\")\n",
    "\n",
    "plt.xticks(np.arange( min(graphJoin[\"Month\"]) , max(graphJoin[\"Month\"]+1 ),1.0))\n",
    "plt.xlabel(\"Date\")\n",
    "plt.ylabel(\"Temp(F)\")\n",
    "plt.show()"
   ]
  },
  {
   "cell_type": "code",
   "execution_count": 71,
   "metadata": {},
   "outputs": [
    {
     "data": {
      "image/png": "[encoded data removed]",
      "text/plain": [
       "<Figure size 432x288 with 1 Axes>"
      ]
     },
     "metadata": {
      "needs_background": "light"
     },
     "output_type": "display_data"
    }
   ],
   "source": [
    "ax = graphJoin.groupby(\"Month\").size().plot(kind = \"bar\", title= \"Total Crime Events by Month Denver\")\n",
    "ax.set_ylabel(\"Number of Occurrences\")\n",
    "plt.xticks(rotation=0)\n",
    "plt.show()"
   ]
  },
  {
   "cell_type": "code",
   "execution_count": 72,
   "metadata": {},
   "outputs": [
    {
     "data": {
      "image/png": "[encoded data removed]",
      "text/plain": [
       "<Figure size 432x288 with 1 Axes>"
      ]
     },
     "metadata": {
      "needs_background": "light"
     },
     "output_type": "display_data"
    }
   ],
   "source": [
    "ax = graphJoin.groupby(\"Year\").size().plot(kind = \"bar\", title= \"Total Crime Events by Year Denver\")\n",
    "ax.set_ylabel(\"Number of Occurrences\")\n",
    "plt.xticks(rotation=0)\n",
    "plt.show()"
   ]
  },
  {
   "cell_type": "markdown",
   "metadata": {},
   "source": [
    "Assigning crime types in terms of society, person, property. This categorization logic is explained in report."
   ]
  },
  {
   "cell_type": "code",
   "execution_count": 73,
   "metadata": {},
   "outputs": [],
   "source": [
    "types ={'auto-theft': 'property',\n",
    "        'robbery': 'property',\n",
    "        'arson': 'property',\n",
    "        'theft-from-motor-vehicle': 'property',\n",
    "        'burglary': 'property',\n",
    "        'larceny': 'property',\n",
    "        'sexual-assault': 'person',\n",
    "        'drug-alcohol':'society',\n",
    "        'other-crimes-against-persons': 'person',\n",
    "        'aggravated-assault': 'person',\n",
    "        'murder': 'person',\n",
    "        'white-collar-crime': 'society',\n",
    "        'public-disorder': 'society',\n",
    "        'all-other-crimes': 'society'}"
   ]
  },
  {
   "cell_type": "code",
   "execution_count": 74,
   "metadata": {},
   "outputs": [
    {
     "data": {
      "text/html": [
       "<div>\n",
       "<style scoped>\n",
       "    .dataframe tbody tr th:only-of-type {\n",
       "        vertical-align: middle;\n",
       "    }\n",
       "\n",
       "    .dataframe tbody tr th {\n",
       "        vertical-align: top;\n",
       "    }\n",
       "\n",
       "    .dataframe thead th {\n",
       "        text-align: right;\n",
       "    }\n",
       "</style>\n",
       "<table border=\"1\" class=\"dataframe\">\n",
       "  <thead>\n",
       "    <tr style=\"text-align: right;\">\n",
       "      <th></th>\n",
       "      <th>OFFENSE_TYPE_ID</th>\n",
       "      <th>OFFENSE_CATEGORY_ID</th>\n",
       "      <th>Date</th>\n",
       "      <th>Temperature</th>\n",
       "      <th>Year</th>\n",
       "      <th>Month</th>\n",
       "    </tr>\n",
       "  </thead>\n",
       "  <tbody>\n",
       "    <tr>\n",
       "      <th>0</th>\n",
       "      <td>criminal-mischief-other</td>\n",
       "      <td>society</td>\n",
       "      <td>2017-06-25</td>\n",
       "      <td>73</td>\n",
       "      <td>2017</td>\n",
       "      <td>6</td>\n",
       "    </tr>\n",
       "    <tr>\n",
       "      <th>1</th>\n",
       "      <td>criminal-mischief-other</td>\n",
       "      <td>society</td>\n",
       "      <td>2017-06-25</td>\n",
       "      <td>73</td>\n",
       "      <td>2017</td>\n",
       "      <td>6</td>\n",
       "    </tr>\n",
       "    <tr>\n",
       "      <th>2</th>\n",
       "      <td>criminal-mischief-other</td>\n",
       "      <td>society</td>\n",
       "      <td>2017-06-25</td>\n",
       "      <td>73</td>\n",
       "      <td>2017</td>\n",
       "      <td>6</td>\n",
       "    </tr>\n",
       "    <tr>\n",
       "      <th>3</th>\n",
       "      <td>criminal-mischief-other</td>\n",
       "      <td>society</td>\n",
       "      <td>2017-06-25</td>\n",
       "      <td>73</td>\n",
       "      <td>2017</td>\n",
       "      <td>6</td>\n",
       "    </tr>\n",
       "    <tr>\n",
       "      <th>4</th>\n",
       "      <td>criminal-mischief-other</td>\n",
       "      <td>society</td>\n",
       "      <td>2017-06-25</td>\n",
       "      <td>73</td>\n",
       "      <td>2017</td>\n",
       "      <td>6</td>\n",
       "    </tr>\n",
       "    <tr>\n",
       "      <th>...</th>\n",
       "      <td>...</td>\n",
       "      <td>...</td>\n",
       "      <td>...</td>\n",
       "      <td>...</td>\n",
       "      <td>...</td>\n",
       "      <td>...</td>\n",
       "    </tr>\n",
       "    <tr>\n",
       "      <th>379047</th>\n",
       "      <td>fraud-by-use-of-computer</td>\n",
       "      <td>society</td>\n",
       "      <td>2019-01-14</td>\n",
       "      <td>43</td>\n",
       "      <td>2019</td>\n",
       "      <td>1</td>\n",
       "    </tr>\n",
       "    <tr>\n",
       "      <th>379048</th>\n",
       "      <td>fraud-by-use-of-computer</td>\n",
       "      <td>society</td>\n",
       "      <td>2019-01-14</td>\n",
       "      <td>43</td>\n",
       "      <td>2019</td>\n",
       "      <td>1</td>\n",
       "    </tr>\n",
       "    <tr>\n",
       "      <th>379049</th>\n",
       "      <td>pawn-broker-viol</td>\n",
       "      <td>society</td>\n",
       "      <td>2019-01-14</td>\n",
       "      <td>43</td>\n",
       "      <td>2019</td>\n",
       "      <td>1</td>\n",
       "    </tr>\n",
       "    <tr>\n",
       "      <th>379050</th>\n",
       "      <td>outside-steal-recovered-veh</td>\n",
       "      <td>society</td>\n",
       "      <td>2019-01-14</td>\n",
       "      <td>43</td>\n",
       "      <td>2019</td>\n",
       "      <td>1</td>\n",
       "    </tr>\n",
       "    <tr>\n",
       "      <th>379051</th>\n",
       "      <td>outside-steal-recovered-veh</td>\n",
       "      <td>society</td>\n",
       "      <td>2019-01-14</td>\n",
       "      <td>43</td>\n",
       "      <td>2019</td>\n",
       "      <td>1</td>\n",
       "    </tr>\n",
       "  </tbody>\n",
       "</table>\n",
       "<p>228089 rows × 6 columns</p>\n",
       "</div>"
      ],
      "text/plain": [
       "                    OFFENSE_TYPE_ID OFFENSE_CATEGORY_ID       Date  \\\n",
       "0           criminal-mischief-other             society 2017-06-25   \n",
       "1           criminal-mischief-other             society 2017-06-25   \n",
       "2           criminal-mischief-other             society 2017-06-25   \n",
       "3           criminal-mischief-other             society 2017-06-25   \n",
       "4           criminal-mischief-other             society 2017-06-25   \n",
       "...                             ...                 ...        ...   \n",
       "379047     fraud-by-use-of-computer             society 2019-01-14   \n",
       "379048     fraud-by-use-of-computer             society 2019-01-14   \n",
       "379049             pawn-broker-viol             society 2019-01-14   \n",
       "379050  outside-steal-recovered-veh             society 2019-01-14   \n",
       "379051  outside-steal-recovered-veh             society 2019-01-14   \n",
       "\n",
       "        Temperature  Year  Month  \n",
       "0                73  2017      6  \n",
       "1                73  2017      6  \n",
       "2                73  2017      6  \n",
       "3                73  2017      6  \n",
       "4                73  2017      6  \n",
       "...             ...   ...    ...  \n",
       "379047           43  2019      1  \n",
       "379048           43  2019      1  \n",
       "379049           43  2019      1  \n",
       "379050           43  2019      1  \n",
       "379051           43  2019      1  \n",
       "\n",
       "[228089 rows x 6 columns]"
      ]
     },
     "metadata": {},
     "output_type": "display_data"
    }
   ],
   "source": [
    "mergeOnDate[\"OFFENSE_CATEGORY_ID\"] = mergeOnDate[\"OFFENSE_CATEGORY_ID\"].map(types)\n",
    "display(mergeOnDate)"
   ]
  },
  {
   "cell_type": "markdown",
   "metadata": {},
   "source": [
    "Separate into hot, mild, cold dataframes"
   ]
  },
  {
   "cell_type": "code",
   "execution_count": 75,
   "metadata": {},
   "outputs": [
    {
     "name": "stdout",
     "output_type": "stream",
     "text": [
      "Total Entry Count:  228089\n",
      "Hot days overview\n"
     ]
    },
    {
     "data": {
      "text/html": [
       "<div>\n",
       "<style scoped>\n",
       "    .dataframe tbody tr th:only-of-type {\n",
       "        vertical-align: middle;\n",
       "    }\n",
       "\n",
       "    .dataframe tbody tr th {\n",
       "        vertical-align: top;\n",
       "    }\n",
       "\n",
       "    .dataframe thead th {\n",
       "        text-align: right;\n",
       "    }\n",
       "</style>\n",
       "<table border=\"1\" class=\"dataframe\">\n",
       "  <thead>\n",
       "    <tr style=\"text-align: right;\">\n",
       "      <th></th>\n",
       "      <th>OFFENSE_TYPE_ID</th>\n",
       "      <th>OFFENSE_CATEGORY_ID</th>\n",
       "      <th>Date</th>\n",
       "      <th>Temperature</th>\n",
       "      <th>Year</th>\n",
       "      <th>Month</th>\n",
       "    </tr>\n",
       "  </thead>\n",
       "  <tbody>\n",
       "    <tr>\n",
       "      <th>347</th>\n",
       "      <td>criminal-mischief-other</td>\n",
       "      <td>society</td>\n",
       "      <td>2017-06-27</td>\n",
       "      <td>96</td>\n",
       "      <td>2017</td>\n",
       "      <td>6</td>\n",
       "    </tr>\n",
       "    <tr>\n",
       "      <th>348</th>\n",
       "      <td>criminal-mischief-other</td>\n",
       "      <td>society</td>\n",
       "      <td>2017-06-27</td>\n",
       "      <td>96</td>\n",
       "      <td>2017</td>\n",
       "      <td>6</td>\n",
       "    </tr>\n",
       "    <tr>\n",
       "      <th>349</th>\n",
       "      <td>criminal-mischief-other</td>\n",
       "      <td>society</td>\n",
       "      <td>2017-06-27</td>\n",
       "      <td>96</td>\n",
       "      <td>2017</td>\n",
       "      <td>6</td>\n",
       "    </tr>\n",
       "    <tr>\n",
       "      <th>350</th>\n",
       "      <td>criminal-mischief-other</td>\n",
       "      <td>society</td>\n",
       "      <td>2017-06-27</td>\n",
       "      <td>96</td>\n",
       "      <td>2017</td>\n",
       "      <td>6</td>\n",
       "    </tr>\n",
       "    <tr>\n",
       "      <th>351</th>\n",
       "      <td>criminal-mischief-other</td>\n",
       "      <td>society</td>\n",
       "      <td>2017-06-27</td>\n",
       "      <td>96</td>\n",
       "      <td>2017</td>\n",
       "      <td>6</td>\n",
       "    </tr>\n",
       "    <tr>\n",
       "      <th>...</th>\n",
       "      <td>...</td>\n",
       "      <td>...</td>\n",
       "      <td>...</td>\n",
       "      <td>...</td>\n",
       "      <td>...</td>\n",
       "      <td>...</td>\n",
       "    </tr>\n",
       "    <tr>\n",
       "      <th>377513</th>\n",
       "      <td>theft-unauth-use-of-ftd</td>\n",
       "      <td>society</td>\n",
       "      <td>2018-07-02</td>\n",
       "      <td>94</td>\n",
       "      <td>2018</td>\n",
       "      <td>7</td>\n",
       "    </tr>\n",
       "    <tr>\n",
       "      <th>377514</th>\n",
       "      <td>fraud-by-use-of-computer</td>\n",
       "      <td>society</td>\n",
       "      <td>2018-07-02</td>\n",
       "      <td>94</td>\n",
       "      <td>2018</td>\n",
       "      <td>7</td>\n",
       "    </tr>\n",
       "    <tr>\n",
       "      <th>377515</th>\n",
       "      <td>fraud-by-use-of-computer</td>\n",
       "      <td>society</td>\n",
       "      <td>2018-07-02</td>\n",
       "      <td>94</td>\n",
       "      <td>2018</td>\n",
       "      <td>7</td>\n",
       "    </tr>\n",
       "    <tr>\n",
       "      <th>377516</th>\n",
       "      <td>fraud-by-use-of-computer</td>\n",
       "      <td>society</td>\n",
       "      <td>2018-07-02</td>\n",
       "      <td>94</td>\n",
       "      <td>2018</td>\n",
       "      <td>7</td>\n",
       "    </tr>\n",
       "    <tr>\n",
       "      <th>377517</th>\n",
       "      <td>outside-steal-recovered-veh</td>\n",
       "      <td>society</td>\n",
       "      <td>2018-07-02</td>\n",
       "      <td>94</td>\n",
       "      <td>2018</td>\n",
       "      <td>7</td>\n",
       "    </tr>\n",
       "  </tbody>\n",
       "</table>\n",
       "<p>74701 rows × 6 columns</p>\n",
       "</div>"
      ],
      "text/plain": [
       "                    OFFENSE_TYPE_ID OFFENSE_CATEGORY_ID       Date  \\\n",
       "347         criminal-mischief-other             society 2017-06-27   \n",
       "348         criminal-mischief-other             society 2017-06-27   \n",
       "349         criminal-mischief-other             society 2017-06-27   \n",
       "350         criminal-mischief-other             society 2017-06-27   \n",
       "351         criminal-mischief-other             society 2017-06-27   \n",
       "...                             ...                 ...        ...   \n",
       "377513      theft-unauth-use-of-ftd             society 2018-07-02   \n",
       "377514     fraud-by-use-of-computer             society 2018-07-02   \n",
       "377515     fraud-by-use-of-computer             society 2018-07-02   \n",
       "377516     fraud-by-use-of-computer             society 2018-07-02   \n",
       "377517  outside-steal-recovered-veh             society 2018-07-02   \n",
       "\n",
       "        Temperature  Year  Month  \n",
       "347              96  2017      6  \n",
       "348              96  2017      6  \n",
       "349              96  2017      6  \n",
       "350              96  2017      6  \n",
       "351              96  2017      6  \n",
       "...             ...   ...    ...  \n",
       "377513           94  2018      7  \n",
       "377514           94  2018      7  \n",
       "377515           94  2018      7  \n",
       "377516           94  2018      7  \n",
       "377517           94  2018      7  \n",
       "\n",
       "[74701 rows x 6 columns]"
      ]
     },
     "metadata": {},
     "output_type": "display_data"
    },
    {
     "name": "stdout",
     "output_type": "stream",
     "text": [
      "Mild days overview\n"
     ]
    },
    {
     "data": {
      "text/html": [
       "<div>\n",
       "<style scoped>\n",
       "    .dataframe tbody tr th:only-of-type {\n",
       "        vertical-align: middle;\n",
       "    }\n",
       "\n",
       "    .dataframe tbody tr th {\n",
       "        vertical-align: top;\n",
       "    }\n",
       "\n",
       "    .dataframe thead th {\n",
       "        text-align: right;\n",
       "    }\n",
       "</style>\n",
       "<table border=\"1\" class=\"dataframe\">\n",
       "  <thead>\n",
       "    <tr style=\"text-align: right;\">\n",
       "      <th></th>\n",
       "      <th>OFFENSE_TYPE_ID</th>\n",
       "      <th>OFFENSE_CATEGORY_ID</th>\n",
       "      <th>Date</th>\n",
       "      <th>Temperature</th>\n",
       "      <th>Year</th>\n",
       "      <th>Month</th>\n",
       "    </tr>\n",
       "  </thead>\n",
       "  <tbody>\n",
       "    <tr>\n",
       "      <th>0</th>\n",
       "      <td>criminal-mischief-other</td>\n",
       "      <td>society</td>\n",
       "      <td>2017-06-25</td>\n",
       "      <td>73</td>\n",
       "      <td>2017</td>\n",
       "      <td>6</td>\n",
       "    </tr>\n",
       "    <tr>\n",
       "      <th>1</th>\n",
       "      <td>criminal-mischief-other</td>\n",
       "      <td>society</td>\n",
       "      <td>2017-06-25</td>\n",
       "      <td>73</td>\n",
       "      <td>2017</td>\n",
       "      <td>6</td>\n",
       "    </tr>\n",
       "    <tr>\n",
       "      <th>2</th>\n",
       "      <td>criminal-mischief-other</td>\n",
       "      <td>society</td>\n",
       "      <td>2017-06-25</td>\n",
       "      <td>73</td>\n",
       "      <td>2017</td>\n",
       "      <td>6</td>\n",
       "    </tr>\n",
       "    <tr>\n",
       "      <th>3</th>\n",
       "      <td>criminal-mischief-other</td>\n",
       "      <td>society</td>\n",
       "      <td>2017-06-25</td>\n",
       "      <td>73</td>\n",
       "      <td>2017</td>\n",
       "      <td>6</td>\n",
       "    </tr>\n",
       "    <tr>\n",
       "      <th>4</th>\n",
       "      <td>criminal-mischief-other</td>\n",
       "      <td>society</td>\n",
       "      <td>2017-06-25</td>\n",
       "      <td>73</td>\n",
       "      <td>2017</td>\n",
       "      <td>6</td>\n",
       "    </tr>\n",
       "    <tr>\n",
       "      <th>...</th>\n",
       "      <td>...</td>\n",
       "      <td>...</td>\n",
       "      <td>...</td>\n",
       "      <td>...</td>\n",
       "      <td>...</td>\n",
       "      <td>...</td>\n",
       "    </tr>\n",
       "    <tr>\n",
       "      <th>377019</th>\n",
       "      <td>theft-of-motor-vehicle</td>\n",
       "      <td>property</td>\n",
       "      <td>2018-04-08</td>\n",
       "      <td>63</td>\n",
       "      <td>2018</td>\n",
       "      <td>4</td>\n",
       "    </tr>\n",
       "    <tr>\n",
       "      <th>377020</th>\n",
       "      <td>theft-of-motor-vehicle</td>\n",
       "      <td>property</td>\n",
       "      <td>2018-04-08</td>\n",
       "      <td>63</td>\n",
       "      <td>2018</td>\n",
       "      <td>4</td>\n",
       "    </tr>\n",
       "    <tr>\n",
       "      <th>377021</th>\n",
       "      <td>drug-forgery-to-obtain</td>\n",
       "      <td>society</td>\n",
       "      <td>2018-04-08</td>\n",
       "      <td>63</td>\n",
       "      <td>2018</td>\n",
       "      <td>4</td>\n",
       "    </tr>\n",
       "    <tr>\n",
       "      <th>377022</th>\n",
       "      <td>drug-forgery-to-obtain</td>\n",
       "      <td>society</td>\n",
       "      <td>2018-04-08</td>\n",
       "      <td>63</td>\n",
       "      <td>2018</td>\n",
       "      <td>4</td>\n",
       "    </tr>\n",
       "    <tr>\n",
       "      <th>377023</th>\n",
       "      <td>outside-steal-recovered-veh</td>\n",
       "      <td>society</td>\n",
       "      <td>2018-04-08</td>\n",
       "      <td>63</td>\n",
       "      <td>2018</td>\n",
       "      <td>4</td>\n",
       "    </tr>\n",
       "  </tbody>\n",
       "</table>\n",
       "<p>106455 rows × 6 columns</p>\n",
       "</div>"
      ],
      "text/plain": [
       "                    OFFENSE_TYPE_ID OFFENSE_CATEGORY_ID       Date  \\\n",
       "0           criminal-mischief-other             society 2017-06-25   \n",
       "1           criminal-mischief-other             society 2017-06-25   \n",
       "2           criminal-mischief-other             society 2017-06-25   \n",
       "3           criminal-mischief-other             society 2017-06-25   \n",
       "4           criminal-mischief-other             society 2017-06-25   \n",
       "...                             ...                 ...        ...   \n",
       "377019       theft-of-motor-vehicle            property 2018-04-08   \n",
       "377020       theft-of-motor-vehicle            property 2018-04-08   \n",
       "377021       drug-forgery-to-obtain             society 2018-04-08   \n",
       "377022       drug-forgery-to-obtain             society 2018-04-08   \n",
       "377023  outside-steal-recovered-veh             society 2018-04-08   \n",
       "\n",
       "        Temperature  Year  Month  \n",
       "0                73  2017      6  \n",
       "1                73  2017      6  \n",
       "2                73  2017      6  \n",
       "3                73  2017      6  \n",
       "4                73  2017      6  \n",
       "...             ...   ...    ...  \n",
       "377019           63  2018      4  \n",
       "377020           63  2018      4  \n",
       "377021           63  2018      4  \n",
       "377022           63  2018      4  \n",
       "377023           63  2018      4  \n",
       "\n",
       "[106455 rows x 6 columns]"
      ]
     },
     "metadata": {},
     "output_type": "display_data"
    },
    {
     "name": "stdout",
     "output_type": "stream",
     "text": [
      "cold days overview\n"
     ]
    },
    {
     "data": {
      "text/html": [
       "<div>\n",
       "<style scoped>\n",
       "    .dataframe tbody tr th:only-of-type {\n",
       "        vertical-align: middle;\n",
       "    }\n",
       "\n",
       "    .dataframe tbody tr th {\n",
       "        vertical-align: top;\n",
       "    }\n",
       "\n",
       "    .dataframe thead th {\n",
       "        text-align: right;\n",
       "    }\n",
       "</style>\n",
       "<table border=\"1\" class=\"dataframe\">\n",
       "  <thead>\n",
       "    <tr style=\"text-align: right;\">\n",
       "      <th></th>\n",
       "      <th>OFFENSE_TYPE_ID</th>\n",
       "      <th>OFFENSE_CATEGORY_ID</th>\n",
       "      <th>Date</th>\n",
       "      <th>Temperature</th>\n",
       "      <th>Year</th>\n",
       "      <th>Month</th>\n",
       "    </tr>\n",
       "  </thead>\n",
       "  <tbody>\n",
       "    <tr>\n",
       "      <th>2034</th>\n",
       "      <td>criminal-mischief-other</td>\n",
       "      <td>society</td>\n",
       "      <td>2017-04-01</td>\n",
       "      <td>40</td>\n",
       "      <td>2017</td>\n",
       "      <td>4</td>\n",
       "    </tr>\n",
       "    <tr>\n",
       "      <th>2035</th>\n",
       "      <td>criminal-mischief-other</td>\n",
       "      <td>society</td>\n",
       "      <td>2017-04-01</td>\n",
       "      <td>40</td>\n",
       "      <td>2017</td>\n",
       "      <td>4</td>\n",
       "    </tr>\n",
       "    <tr>\n",
       "      <th>2036</th>\n",
       "      <td>criminal-mischief-other</td>\n",
       "      <td>society</td>\n",
       "      <td>2017-04-01</td>\n",
       "      <td>40</td>\n",
       "      <td>2017</td>\n",
       "      <td>4</td>\n",
       "    </tr>\n",
       "    <tr>\n",
       "      <th>2037</th>\n",
       "      <td>criminal-mischief-other</td>\n",
       "      <td>society</td>\n",
       "      <td>2017-04-01</td>\n",
       "      <td>40</td>\n",
       "      <td>2017</td>\n",
       "      <td>4</td>\n",
       "    </tr>\n",
       "    <tr>\n",
       "      <th>2038</th>\n",
       "      <td>criminal-mischief-other</td>\n",
       "      <td>society</td>\n",
       "      <td>2017-04-01</td>\n",
       "      <td>40</td>\n",
       "      <td>2017</td>\n",
       "      <td>4</td>\n",
       "    </tr>\n",
       "    <tr>\n",
       "      <th>...</th>\n",
       "      <td>...</td>\n",
       "      <td>...</td>\n",
       "      <td>...</td>\n",
       "      <td>...</td>\n",
       "      <td>...</td>\n",
       "      <td>...</td>\n",
       "    </tr>\n",
       "    <tr>\n",
       "      <th>379047</th>\n",
       "      <td>fraud-by-use-of-computer</td>\n",
       "      <td>society</td>\n",
       "      <td>2019-01-14</td>\n",
       "      <td>43</td>\n",
       "      <td>2019</td>\n",
       "      <td>1</td>\n",
       "    </tr>\n",
       "    <tr>\n",
       "      <th>379048</th>\n",
       "      <td>fraud-by-use-of-computer</td>\n",
       "      <td>society</td>\n",
       "      <td>2019-01-14</td>\n",
       "      <td>43</td>\n",
       "      <td>2019</td>\n",
       "      <td>1</td>\n",
       "    </tr>\n",
       "    <tr>\n",
       "      <th>379049</th>\n",
       "      <td>pawn-broker-viol</td>\n",
       "      <td>society</td>\n",
       "      <td>2019-01-14</td>\n",
       "      <td>43</td>\n",
       "      <td>2019</td>\n",
       "      <td>1</td>\n",
       "    </tr>\n",
       "    <tr>\n",
       "      <th>379050</th>\n",
       "      <td>outside-steal-recovered-veh</td>\n",
       "      <td>society</td>\n",
       "      <td>2019-01-14</td>\n",
       "      <td>43</td>\n",
       "      <td>2019</td>\n",
       "      <td>1</td>\n",
       "    </tr>\n",
       "    <tr>\n",
       "      <th>379051</th>\n",
       "      <td>outside-steal-recovered-veh</td>\n",
       "      <td>society</td>\n",
       "      <td>2019-01-14</td>\n",
       "      <td>43</td>\n",
       "      <td>2019</td>\n",
       "      <td>1</td>\n",
       "    </tr>\n",
       "  </tbody>\n",
       "</table>\n",
       "<p>46933 rows × 6 columns</p>\n",
       "</div>"
      ],
      "text/plain": [
       "                    OFFENSE_TYPE_ID OFFENSE_CATEGORY_ID       Date  \\\n",
       "2034        criminal-mischief-other             society 2017-04-01   \n",
       "2035        criminal-mischief-other             society 2017-04-01   \n",
       "2036        criminal-mischief-other             society 2017-04-01   \n",
       "2037        criminal-mischief-other             society 2017-04-01   \n",
       "2038        criminal-mischief-other             society 2017-04-01   \n",
       "...                             ...                 ...        ...   \n",
       "379047     fraud-by-use-of-computer             society 2019-01-14   \n",
       "379048     fraud-by-use-of-computer             society 2019-01-14   \n",
       "379049             pawn-broker-viol             society 2019-01-14   \n",
       "379050  outside-steal-recovered-veh             society 2019-01-14   \n",
       "379051  outside-steal-recovered-veh             society 2019-01-14   \n",
       "\n",
       "        Temperature  Year  Month  \n",
       "2034             40  2017      4  \n",
       "2035             40  2017      4  \n",
       "2036             40  2017      4  \n",
       "2037             40  2017      4  \n",
       "2038             40  2017      4  \n",
       "...             ...   ...    ...  \n",
       "379047           43  2019      1  \n",
       "379048           43  2019      1  \n",
       "379049           43  2019      1  \n",
       "379050           43  2019      1  \n",
       "379051           43  2019      1  \n",
       "\n",
       "[46933 rows x 6 columns]"
      ]
     },
     "metadata": {},
     "output_type": "display_data"
    }
   ],
   "source": [
    "hotDays = mergeOnDate[mergeOnDate['Temperature'] > 80]\n",
    "mildDays = mergeOnDate[(mergeOnDate['Temperature'] >= 50) & (mergeOnDate['Temperature'] <= 80)]\n",
    "coldDays = mergeOnDate[mergeOnDate['Temperature'] < 50]\n",
    "\n",
    "numofweathercrimes = len(mergeOnDate.index)\n",
    "print(\"Total Entry Count: \",numofweathercrimes)\n",
    "print(\"Hot days overview\")\n",
    "display(hotDays)\n",
    "print(\"Mild days overview\")\n",
    "display(mildDays)\n",
    "print(\"cold days overview\")\n",
    "display(coldDays)"
   ]
  },
  {
   "cell_type": "markdown",
   "metadata": {},
   "source": [
    "<h4>General distributions of crime types on different temperature categories<h4>"
   ]
  },
  {
   "cell_type": "code",
   "execution_count": 76,
   "metadata": {},
   "outputs": [
    {
     "name": "stdout",
     "output_type": "stream",
     "text": [
      "All Data grouped by categoryID counts\n",
      "OFFENSE_CATEGORY_ID\n",
      "person       29619\n",
      "property    105089\n",
      "society      93381\n",
      "dtype: int64\n",
      "(228089, 6)\n"
     ]
    }
   ],
   "source": [
    "# overall merged data counts\n",
    "print(\"All Data grouped by categoryID counts\")\n",
    "crimetypes = mergeOnDate.groupby([\"OFFENSE_CATEGORY_ID\"]).size()\n",
    "print(crimetypes.head())\n",
    "print(mergeOnDate.shape)"
   ]
  },
  {
   "cell_type": "code",
   "execution_count": 77,
   "metadata": {},
   "outputs": [
    {
     "name": "stdout",
     "output_type": "stream",
     "text": [
      "Hot Data grouped by categoryID counts\n",
      "OFFENSE_CATEGORY_ID\n",
      "person       9834\n",
      "property    34876\n",
      "society     29991\n",
      "dtype: int64\n",
      "(74701, 6)\n"
     ]
    }
   ],
   "source": [
    "# category types on hot days from the hotDays dataframe\n",
    "print(\"Hot Data grouped by categoryID counts\")\n",
    "hotTypes=hotDays.groupby([\"OFFENSE_CATEGORY_ID\"]).size()\n",
    "print(hotTypes.head())\n",
    "print(hotDays.shape)\n"
   ]
  },
  {
   "cell_type": "code",
   "execution_count": 78,
   "metadata": {},
   "outputs": [
    {
     "name": "stdout",
     "output_type": "stream",
     "text": [
      "Mild Data grouped by categoryID counts\n",
      "OFFENSE_CATEGORY_ID\n",
      "person      13786\n",
      "property    48464\n",
      "society     44205\n",
      "dtype: int64\n",
      "(106455, 6)\n"
     ]
    }
   ],
   "source": [
    "# category types on mild days from the mildDays dataframe\n",
    "print(\"Mild Data grouped by categoryID counts\")\n",
    "mildTypes =mildDays.groupby([\"OFFENSE_CATEGORY_ID\"]).size()\n",
    "print(mildTypes.head())\n",
    "print(mildDays.shape)"
   ]
  },
  {
   "cell_type": "code",
   "execution_count": 79,
   "metadata": {},
   "outputs": [
    {
     "name": "stdout",
     "output_type": "stream",
     "text": [
      "Cold Data grouped by categoryID counts\n",
      "OFFENSE_CATEGORY_ID\n",
      "person       5999\n",
      "property    21749\n",
      "society     19185\n",
      "dtype: int64\n",
      "(46933, 6)\n"
     ]
    }
   ],
   "source": [
    "# category types on cold days from the coldDays dataframe\n",
    "print(\"Cold Data grouped by categoryID counts\")\n",
    "coldTypes = coldDays.groupby([\"OFFENSE_CATEGORY_ID\"]).size()\n",
    "print(coldTypes.head())\n",
    "print(coldDays.shape)"
   ]
  },
  {
   "cell_type": "code",
   "execution_count": 80,
   "metadata": {},
   "outputs": [
    {
     "name": "stdout",
     "output_type": "stream",
     "text": [
      "General Disributions for type and temperature\n",
      "Hot general Distribution:\n"
     ]
    },
    {
     "data": {
      "text/plain": [
       "OFFENSE_CATEGORY_ID\n",
       "person       4.311475\n",
       "property    15.290523\n",
       "society     13.148815\n",
       "dtype: float64"
      ]
     },
     "metadata": {},
     "output_type": "display_data"
    },
    {
     "name": "stdout",
     "output_type": "stream",
     "text": [
      "Mild general Distribution:\n"
     ]
    },
    {
     "data": {
      "text/plain": [
       "OFFENSE_CATEGORY_ID\n",
       "person       6.044132\n",
       "property    21.247846\n",
       "society     19.380593\n",
       "dtype: float64"
      ]
     },
     "metadata": {},
     "output_type": "display_data"
    },
    {
     "name": "stdout",
     "output_type": "stream",
     "text": [
      "Cold general Distribution:\n"
     ]
    },
    {
     "data": {
      "text/plain": [
       "OFFENSE_CATEGORY_ID\n",
       "person      2.630114\n",
       "property    9.535313\n",
       "society     8.411190\n",
       "dtype: float64"
      ]
     },
     "metadata": {},
     "output_type": "display_data"
    }
   ],
   "source": [
    "pdisHot=(hotTypes/numofweathercrimes)*100\n",
    "pdisCold=(coldTypes/numofweathercrimes)*100\n",
    "pdisMild = (mildTypes/numofweathercrimes)*100\n",
    "print(\"General Disributions for type and temperature\")\n",
    "print(\"Hot general Distribution:\")\n",
    "display(pdisHot)\n",
    "print(\"Mild general Distribution:\")\n",
    "display(pdisMild)\n",
    "print(\"Cold general Distribution:\")\n",
    "display(pdisCold)"
   ]
  },
  {
   "cell_type": "markdown",
   "metadata": {},
   "source": [
    "<h3>Bayesian Classifications<h3>"
   ]
  },
  {
   "cell_type": "markdown",
   "metadata": {},
   "source": [
    "P(Category|Temp) = /frac{(P(C and T))}{P(T)}`"
   ]
  },
  {
   "cell_type": "markdown",
   "metadata": {},
   "source": [
    "P(Category) is represented by a series with Person, Property, and Society crimes\n",
    "P(Temperature) is represented by a series with Hot, Mild, and Cold days"
   ]
  },
  {
   "cell_type": "code",
   "execution_count": 81,
   "metadata": {},
   "outputs": [],
   "source": [
    "# def calculateClassPropbs(dataset):\n",
    "#     numDataPoint = dataset.size\n",
    "#     classProbs= {}\n",
    "#     for dataPoint in "
   ]
  },
  {
   "cell_type": "code",
   "execution_count": 82,
   "metadata": {},
   "outputs": [
    {
     "name": "stdout",
     "output_type": "stream",
     "text": [
      "Prior Probabilities of Categories\n"
     ]
    },
    {
     "data": {
      "text/plain": [
       "OFFENSE_CATEGORY_ID\n",
       "person      0.129857\n",
       "property    0.460737\n",
       "society     0.409406\n",
       "dtype: float64"
      ]
     },
     "metadata": {},
     "output_type": "display_data"
    },
    {
     "name": "stdout",
     "output_type": "stream",
     "text": [
      "Sum of percentages of Categories:  1.0\n"
     ]
    }
   ],
   "source": [
    "priorCategories = (crimetypes / (numofweathercrimes))\n",
    "print(\"Prior Probabilities of Categories\")\n",
    "display(priorCategories)\n",
    "print(\"Sum of percentages of Categories: \",priorCategories.sum())\n",
    "\n"
   ]
  },
  {
   "cell_type": "code",
   "execution_count": 83,
   "metadata": {},
   "outputs": [
    {
     "name": "stdout",
     "output_type": "stream",
     "text": [
      "Probabilities of Temperatures\n"
     ]
    },
    {
     "data": {
      "text/plain": [
       "Hot     0.327508\n",
       "Mild    0.466726\n",
       "Cold    0.205766\n",
       "dtype: float64"
      ]
     },
     "metadata": {},
     "output_type": "display_data"
    },
    {
     "name": "stdout",
     "output_type": "stream",
     "text": [
      "Sum of percentages of Temperatures 1.0\n"
     ]
    }
   ],
   "source": [
    "pHot = ((hotDays.shape[0])/numofweathercrimes)\n",
    "pMild= ((mildDays.shape[0])/numofweathercrimes)\n",
    "pCold=((coldDays.shape[0])/numofweathercrimes)\n",
    "d = {'Hot':pHot, 'Mild':pMild,'Cold':pCold}\n",
    "priorTemperatures= pd.Series(data=d, index=['Hot','Mild','Cold'])\n",
    "print(\"Probabilities of Temperatures\")\n",
    "display(priorTemperatures)\n",
    "print(\"Sum of percentages of Temperatures\",priorTemperatures.sum())"
   ]
  },
  {
   "cell_type": "markdown",
   "metadata": {},
   "source": []
  },
  {
   "cell_type": "markdown",
   "metadata": {},
   "source": [
    "P(T|C)= P(T and C)* P(C)"
   ]
  },
  {
   "cell_type": "code",
   "execution_count": 84,
   "metadata": {},
   "outputs": [
    {
     "name": "stdout",
     "output_type": "stream",
     "text": [
      "Given a hot day probability of a type of crime: \n",
      "Total sum:  100.0\n"
     ]
    },
    {
     "data": {
      "text/plain": [
       "OFFENSE_CATEGORY_ID\n",
       "person      13.164482\n",
       "property    46.687461\n",
       "society     40.148057\n",
       "dtype: float64"
      ]
     },
     "metadata": {},
     "output_type": "display_data"
    },
    {
     "name": "stdout",
     "output_type": "stream",
     "text": [
      "Given a mild day probability of a type of crime: \n",
      "Total sum:  100.0\n"
     ]
    },
    {
     "data": {
      "text/plain": [
       "OFFENSE_CATEGORY_ID\n",
       "person      12.782051\n",
       "property    46.340528\n",
       "society     40.877421\n",
       "dtype: float64"
      ]
     },
     "metadata": {},
     "output_type": "display_data"
    },
    {
     "name": "stdout",
     "output_type": "stream",
     "text": [
      "Given a cold day probability of a type of crime: \n",
      "Total sum:  100.0\n"
     ]
    },
    {
     "data": {
      "text/plain": [
       "OFFENSE_CATEGORY_ID\n",
       "person      12.950073\n",
       "property    45.525339\n",
       "society     41.524588\n",
       "dtype: float64"
      ]
     },
     "metadata": {},
     "output_type": "display_data"
    }
   ],
   "source": [
    "\n",
    "pHotTypes=(hotTypes/hotDays.shape[0])*100\n",
    "pColdTypes=(coldTypes/coldDays.shape[0])*100\n",
    "pMildTypes = (mildTypes/mildDays.shape[0])*100\n",
    "print(\"Given a hot day probability of a type of crime: \")\n",
    "print(\"Total sum: \", pHotTypes.sum())\n",
    "display(pHotTypes)\n",
    "print(\"Given a mild day probability of a type of crime: \")\n",
    "print(\"Total sum: \", pColdTypes.sum())\n",
    "display(pColdTypes)\n",
    "print(\"Given a cold day probability of a type of crime: \")\n",
    "print(\"Total sum: \", pMildTypes.sum())\n",
    "display(pMildTypes)\n",
    "# display(hotTypes.sum())\n",
    "\n",
    "\n"
   ]
  }
 ],
 "metadata": {
  "kernelspec": {
   "display_name": "Python 3.9.6 64-bit",
   "language": "python",
   "name": "python3"
  },
  "language_info": {
   "codemirror_mode": {
    "name": "ipython",
    "version": 3
   },
   "file_extension": ".py",
   "mimetype": "text/x-python",
   "name": "python",
   "nbconvert_exporter": "python",
   "pygments_lexer": "ipython3",
   "version": "3.9.6"
  },
  "orig_nbformat": 4,
  "vscode": {
   "interpreter": {
    "hash": "aee8b7b246df8f9039afb4144a1f6fd8d2ca17a180786b69acc140d282b71a49"
   }
  }
 },
 "nbformat": 4,
 "nbformat_minor": 2
}
