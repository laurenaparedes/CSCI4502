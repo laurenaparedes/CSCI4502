{
 "cells": [
  {
   "cell_type": "markdown",
   "metadata": {},
   "source": [
    "<h1>Crime and Weather<h1>\n",
    "<h2>Graphs and Exploratory Analysis<h2>\n",
    "<h3>Lauren Paredes<h3>\n",
    "\n"
   ]
  },
  {
   "cell_type": "code",
   "execution_count": 1,
   "metadata": {},
   "outputs": [],
   "source": [
    "import pandas as pd\n",
    "import numpy as np\n",
    "import pickle\n",
    "import matplotlib.pyplot as plt"
   ]
  },
  {
   "cell_type": "markdown",
   "metadata": {},
   "source": [
    "Read in both crime and weather into data frames using pandas."
   ]
  },
  {
   "cell_type": "code",
   "execution_count": 2,
   "metadata": {},
   "outputs": [],
   "source": [
    "crimeDF= pd.read_csv(\"crime.csv\", encoding='windows-1254')\n",
    "weatherDF = pd.read_csv(\"weather_data_long.csv\")\n"
   ]
  },
  {
   "cell_type": "markdown",
   "metadata": {},
   "source": [
    "Clean up and trim down the dataframes"
   ]
  },
  {
   "cell_type": "code",
   "execution_count": 3,
   "metadata": {},
   "outputs": [],
   "source": [
    "del weatherDF['Time']\n",
    "del weatherDF[\"WinSpeed\"]\n",
    "del weatherDF[\"Pressure\"]\n",
    "del weatherDF[\"Humidity\"]\n",
    "del weatherDF[\"Wind\"]\n",
    "del weatherDF[\"DewPoint\"]\n",
    "del weatherDF[\"WindGust\"]\n",
    "del weatherDF[\"Precip.\"]\n",
    "del weatherDF[\"Condition\"]"
   ]
  },
  {
   "cell_type": "code",
   "execution_count": 4,
   "metadata": {},
   "outputs": [],
   "source": [
    "del crimeDF[\"incident_id\"]\n",
    "del crimeDF[\"offense_id\"]\n",
    "del crimeDF[\"OFFENSE_CODE\"]\n",
    "del crimeDF[\"OFFENSE_CODE_EXTENSION\"]\n",
    "del crimeDF[\"LAST_OCCURRENCE_DATE\"]\n",
    "del crimeDF[\"REPORTED_DATE\"]\n",
    "del crimeDF[\"VICTIM_COUNT\"]\n",
    "del crimeDF[\"GEO_X\"]\n",
    "del crimeDF[\"GEO_Y\"]\n",
    "del crimeDF[\"GEO_LON\"]\n",
    "del crimeDF[\"GEO_LAT\"]\n",
    "del crimeDF[\"DISTRICT_ID\"]\n",
    "del crimeDF[\"PRECINCT_ID\"]\n",
    "del crimeDF[\"NEIGHBORHOOD_ID\"]\n",
    "del crimeDF[\"IS_CRIME\"]\n",
    "del crimeDF[\"IS_TRAFFIC\"]\n",
    "del crimeDF[\"INCIDENT_ADDRESS\"]"
   ]
  },
  {
   "cell_type": "code",
   "execution_count": 5,
   "metadata": {},
   "outputs": [],
   "source": [
    "# need the occurance date to be in the format of datetime\n",
    "crimeDF['Date'] = pd.to_datetime(crimeDF[\"FIRST_OCCURRENCE_DATE\"]).dt.date\n",
    "del crimeDF[\"FIRST_OCCURRENCE_DATE\"]\n",
    "# crimeDF.rename(columns={'OCCURRENCE_DATE':'Date'},inplace =True)"
   ]
  },
  {
   "cell_type": "code",
   "execution_count": 6,
   "metadata": {},
   "outputs": [],
   "source": [
    "# Making sure both dataframes have a common col to merge on with the correct datatype\n",
    "crimeDF['Date']= pd.to_datetime(crimeDF['Date'])\n",
    "weatherDF['Date']= pd.to_datetime(weatherDF['Date'])"
   ]
  },
  {
   "cell_type": "code",
   "execution_count": 7,
   "metadata": {},
   "outputs": [],
   "source": [
    "# Set the temperature for the average divided by group\n",
    "weatherDF= weatherDF.groupby(['Date']).max()"
   ]
  },
  {
   "cell_type": "markdown",
   "metadata": {},
   "source": [
    "<h3> Merging crime and weather on a common date<h3>"
   ]
  },
  {
   "cell_type": "code",
   "execution_count": 8,
   "metadata": {},
   "outputs": [
    {
     "data": {
      "text/html": [
       "<div>\n",
       "<style scoped>\n",
       "    .dataframe tbody tr th:only-of-type {\n",
       "        vertical-align: middle;\n",
       "    }\n",
       "\n",
       "    .dataframe tbody tr th {\n",
       "        vertical-align: top;\n",
       "    }\n",
       "\n",
       "    .dataframe thead th {\n",
       "        text-align: right;\n",
       "    }\n",
       "</style>\n",
       "<table border=\"1\" class=\"dataframe\">\n",
       "  <thead>\n",
       "    <tr style=\"text-align: right;\">\n",
       "      <th></th>\n",
       "      <th>OFFENSE_TYPE_ID</th>\n",
       "      <th>OFFENSE_CATEGORY_ID</th>\n",
       "      <th>Date</th>\n",
       "      <th>Temperature</th>\n",
       "    </tr>\n",
       "  </thead>\n",
       "  <tbody>\n",
       "    <tr>\n",
       "      <th>0</th>\n",
       "      <td>criminal-mischief-other</td>\n",
       "      <td>public-disorder</td>\n",
       "      <td>2017-06-25</td>\n",
       "      <td>73</td>\n",
       "    </tr>\n",
       "    <tr>\n",
       "      <th>1</th>\n",
       "      <td>criminal-mischief-other</td>\n",
       "      <td>public-disorder</td>\n",
       "      <td>2017-06-25</td>\n",
       "      <td>73</td>\n",
       "    </tr>\n",
       "    <tr>\n",
       "      <th>2</th>\n",
       "      <td>criminal-mischief-other</td>\n",
       "      <td>public-disorder</td>\n",
       "      <td>2017-06-25</td>\n",
       "      <td>73</td>\n",
       "    </tr>\n",
       "    <tr>\n",
       "      <th>3</th>\n",
       "      <td>criminal-mischief-other</td>\n",
       "      <td>public-disorder</td>\n",
       "      <td>2017-06-25</td>\n",
       "      <td>73</td>\n",
       "    </tr>\n",
       "    <tr>\n",
       "      <th>4</th>\n",
       "      <td>criminal-mischief-other</td>\n",
       "      <td>public-disorder</td>\n",
       "      <td>2017-06-25</td>\n",
       "      <td>73</td>\n",
       "    </tr>\n",
       "    <tr>\n",
       "      <th>...</th>\n",
       "      <td>...</td>\n",
       "      <td>...</td>\n",
       "      <td>...</td>\n",
       "      <td>...</td>\n",
       "    </tr>\n",
       "    <tr>\n",
       "      <th>379047</th>\n",
       "      <td>fraud-by-use-of-computer</td>\n",
       "      <td>white-collar-crime</td>\n",
       "      <td>2019-01-14</td>\n",
       "      <td>43</td>\n",
       "    </tr>\n",
       "    <tr>\n",
       "      <th>379048</th>\n",
       "      <td>fraud-by-use-of-computer</td>\n",
       "      <td>white-collar-crime</td>\n",
       "      <td>2019-01-14</td>\n",
       "      <td>43</td>\n",
       "    </tr>\n",
       "    <tr>\n",
       "      <th>379049</th>\n",
       "      <td>pawn-broker-viol</td>\n",
       "      <td>all-other-crimes</td>\n",
       "      <td>2019-01-14</td>\n",
       "      <td>43</td>\n",
       "    </tr>\n",
       "    <tr>\n",
       "      <th>379050</th>\n",
       "      <td>outside-steal-recovered-veh</td>\n",
       "      <td>all-other-crimes</td>\n",
       "      <td>2019-01-14</td>\n",
       "      <td>43</td>\n",
       "    </tr>\n",
       "    <tr>\n",
       "      <th>379051</th>\n",
       "      <td>outside-steal-recovered-veh</td>\n",
       "      <td>all-other-crimes</td>\n",
       "      <td>2019-01-14</td>\n",
       "      <td>43</td>\n",
       "    </tr>\n",
       "  </tbody>\n",
       "</table>\n",
       "<p>228089 rows × 4 columns</p>\n",
       "</div>"
      ],
      "text/plain": [
       "                    OFFENSE_TYPE_ID OFFENSE_CATEGORY_ID       Date  \\\n",
       "0           criminal-mischief-other     public-disorder 2017-06-25   \n",
       "1           criminal-mischief-other     public-disorder 2017-06-25   \n",
       "2           criminal-mischief-other     public-disorder 2017-06-25   \n",
       "3           criminal-mischief-other     public-disorder 2017-06-25   \n",
       "4           criminal-mischief-other     public-disorder 2017-06-25   \n",
       "...                             ...                 ...        ...   \n",
       "379047     fraud-by-use-of-computer  white-collar-crime 2019-01-14   \n",
       "379048     fraud-by-use-of-computer  white-collar-crime 2019-01-14   \n",
       "379049             pawn-broker-viol    all-other-crimes 2019-01-14   \n",
       "379050  outside-steal-recovered-veh    all-other-crimes 2019-01-14   \n",
       "379051  outside-steal-recovered-veh    all-other-crimes 2019-01-14   \n",
       "\n",
       "        Temperature  \n",
       "0                73  \n",
       "1                73  \n",
       "2                73  \n",
       "3                73  \n",
       "4                73  \n",
       "...             ...  \n",
       "379047           43  \n",
       "379048           43  \n",
       "379049           43  \n",
       "379050           43  \n",
       "379051           43  \n",
       "\n",
       "[228089 rows x 4 columns]"
      ]
     },
     "metadata": {},
     "output_type": "display_data"
    }
   ],
   "source": [
    "mergeOnDate = pd.merge(crimeDF, weatherDF, how='outer',on='Date')\n",
    "mergeOnDate=mergeOnDate.dropna(subset=['OFFENSE_TYPE_ID'])\n",
    "mergeOnDate=mergeOnDate.dropna(subset=['Temperature'])\n",
    "mergeOnDate['Temperature'] =mergeOnDate['Temperature'].astype('int')\n",
    "display(mergeOnDate)"
   ]
  },
  {
   "cell_type": "markdown",
   "metadata": {},
   "source": [
    "<h2>Graphs and Exploratory Analysis<h2>"
   ]
  },
  {
   "cell_type": "code",
   "execution_count": null,
   "metadata": {},
   "outputs": [],
   "source": [
    "graphJoin =mergeOnDate\n",
    "graphJoin['Year'] = pd.DatetimeIndex(graphJoin['Date']).year\n",
    "graphJoin['Month'] = pd.DatetimeIndex(graphJoin['Date']).month"
   ]
  },
  {
   "cell_type": "code",
   "execution_count": null,
   "metadata": {},
   "outputs": [],
   "source": [
    "plt.scatter(graphJoin['Year'],graphJoin['Temperature'])\n",
    "plt.title(\"Temperature vs year Denver\")\n",
    "\n",
    "plt.xticks(np.arange( min(graphJoin[\"Year\"]) , max(graphJoin[\"Year\"]+1 ),1.0))\n",
    "plt.xlabel(\"Date\")\n",
    "plt.ylabel(\"Temp(F)\")\n",
    "plt.show()"
   ]
  },
  {
   "cell_type": "code",
   "execution_count": null,
   "metadata": {},
   "outputs": [],
   "source": [
    "plt.scatter(graphJoin['Month'],graphJoin['Temperature'])\n",
    "plt.title(\"Temperature vs month Denver\")\n",
    "\n",
    "plt.xticks(np.arange( min(graphJoin[\"Month\"]) , max(graphJoin[\"Month\"]+1 ),1.0))\n",
    "plt.xlabel(\"Date\")\n",
    "plt.ylabel(\"Temp(F)\")\n",
    "plt.show()"
   ]
  },
  {
   "cell_type": "code",
   "execution_count": null,
   "metadata": {},
   "outputs": [],
   "source": [
    "ax = graphJoin.groupby(\"Month\").size().plot(kind = \"bar\", title= \"Total Crime Events by Month Denver\")\n",
    "ax.set_ylabel(\"Number of Occurrences\")\n",
    "plt.xticks(rotation=0)\n",
    "plt.show()"
   ]
  },
  {
   "cell_type": "code",
   "execution_count": null,
   "metadata": {},
   "outputs": [],
   "source": [
    "ax = graphJoin.groupby(\"Year\").size().plot(kind = \"bar\", title= \"Total Crime Events by Year Denver\")\n",
    "ax.set_ylabel(\"Number of Occurrences\")\n",
    "plt.xticks(rotation=0)\n",
    "plt.show()"
   ]
  },
  {
   "cell_type": "markdown",
   "metadata": {},
   "source": [
    "Assigning crime types in terms of society, person, property. This categorization logic is explained in report."
   ]
  },
  {
   "cell_type": "code",
   "execution_count": 9,
   "metadata": {},
   "outputs": [
    {
     "name": "stdout",
     "output_type": "stream",
     "text": [
      "(228089, 4)\n"
     ]
    },
    {
     "data": {
      "text/html": [
       "<div>\n",
       "<style scoped>\n",
       "    .dataframe tbody tr th:only-of-type {\n",
       "        vertical-align: middle;\n",
       "    }\n",
       "\n",
       "    .dataframe tbody tr th {\n",
       "        vertical-align: top;\n",
       "    }\n",
       "\n",
       "    .dataframe thead th {\n",
       "        text-align: right;\n",
       "    }\n",
       "</style>\n",
       "<table border=\"1\" class=\"dataframe\">\n",
       "  <thead>\n",
       "    <tr style=\"text-align: right;\">\n",
       "      <th></th>\n",
       "      <th>OFFENSE_TYPE_ID</th>\n",
       "      <th>OFFENSE_CATEGORY_ID</th>\n",
       "      <th>Date</th>\n",
       "      <th>Temperature</th>\n",
       "    </tr>\n",
       "  </thead>\n",
       "  <tbody>\n",
       "    <tr>\n",
       "      <th>0</th>\n",
       "      <td>criminal-mischief-other</td>\n",
       "      <td>public-disorder</td>\n",
       "      <td>2017-06-25</td>\n",
       "      <td>73</td>\n",
       "    </tr>\n",
       "    <tr>\n",
       "      <th>1</th>\n",
       "      <td>criminal-mischief-other</td>\n",
       "      <td>public-disorder</td>\n",
       "      <td>2017-06-25</td>\n",
       "      <td>73</td>\n",
       "    </tr>\n",
       "    <tr>\n",
       "      <th>2</th>\n",
       "      <td>criminal-mischief-other</td>\n",
       "      <td>public-disorder</td>\n",
       "      <td>2017-06-25</td>\n",
       "      <td>73</td>\n",
       "    </tr>\n",
       "    <tr>\n",
       "      <th>3</th>\n",
       "      <td>criminal-mischief-other</td>\n",
       "      <td>public-disorder</td>\n",
       "      <td>2017-06-25</td>\n",
       "      <td>73</td>\n",
       "    </tr>\n",
       "    <tr>\n",
       "      <th>4</th>\n",
       "      <td>criminal-mischief-other</td>\n",
       "      <td>public-disorder</td>\n",
       "      <td>2017-06-25</td>\n",
       "      <td>73</td>\n",
       "    </tr>\n",
       "    <tr>\n",
       "      <th>...</th>\n",
       "      <td>...</td>\n",
       "      <td>...</td>\n",
       "      <td>...</td>\n",
       "      <td>...</td>\n",
       "    </tr>\n",
       "    <tr>\n",
       "      <th>379037</th>\n",
       "      <td>theft-of-motor-vehicle</td>\n",
       "      <td>auto-theft</td>\n",
       "      <td>2019-01-14</td>\n",
       "      <td>43</td>\n",
       "    </tr>\n",
       "    <tr>\n",
       "      <th>379038</th>\n",
       "      <td>theft-of-motor-vehicle</td>\n",
       "      <td>auto-theft</td>\n",
       "      <td>2019-01-14</td>\n",
       "      <td>43</td>\n",
       "    </tr>\n",
       "    <tr>\n",
       "      <th>379039</th>\n",
       "      <td>theft-of-motor-vehicle</td>\n",
       "      <td>auto-theft</td>\n",
       "      <td>2019-01-14</td>\n",
       "      <td>43</td>\n",
       "    </tr>\n",
       "    <tr>\n",
       "      <th>379040</th>\n",
       "      <td>theft-of-motor-vehicle</td>\n",
       "      <td>auto-theft</td>\n",
       "      <td>2019-01-14</td>\n",
       "      <td>43</td>\n",
       "    </tr>\n",
       "    <tr>\n",
       "      <th>379041</th>\n",
       "      <td>theft-of-motor-vehicle</td>\n",
       "      <td>auto-theft</td>\n",
       "      <td>2019-01-14</td>\n",
       "      <td>43</td>\n",
       "    </tr>\n",
       "  </tbody>\n",
       "</table>\n",
       "<p>131376 rows × 4 columns</p>\n",
       "</div>"
      ],
      "text/plain": [
       "                OFFENSE_TYPE_ID OFFENSE_CATEGORY_ID       Date  Temperature\n",
       "0       criminal-mischief-other     public-disorder 2017-06-25           73\n",
       "1       criminal-mischief-other     public-disorder 2017-06-25           73\n",
       "2       criminal-mischief-other     public-disorder 2017-06-25           73\n",
       "3       criminal-mischief-other     public-disorder 2017-06-25           73\n",
       "4       criminal-mischief-other     public-disorder 2017-06-25           73\n",
       "...                         ...                 ...        ...          ...\n",
       "379037   theft-of-motor-vehicle          auto-theft 2019-01-14           43\n",
       "379038   theft-of-motor-vehicle          auto-theft 2019-01-14           43\n",
       "379039   theft-of-motor-vehicle          auto-theft 2019-01-14           43\n",
       "379040   theft-of-motor-vehicle          auto-theft 2019-01-14           43\n",
       "379041   theft-of-motor-vehicle          auto-theft 2019-01-14           43\n",
       "\n",
       "[131376 rows x 4 columns]"
      ]
     },
     "metadata": {},
     "output_type": "display_data"
    },
    {
     "data": {
      "text/plain": [
       "OFFENSE_CATEGORY_ID\n",
       "all-other-crimes                11557\n",
       "auto-theft                      20412\n",
       "burglary                         5803\n",
       "larceny                         28935\n",
       "other-crimes-against-persons    15521\n",
       "public-disorder                 19475\n",
       "theft-from-motor-vehicle        29673\n",
       "dtype: int64"
      ]
     },
     "metadata": {},
     "output_type": "display_data"
    },
    {
     "name": "stdout",
     "output_type": "stream",
     "text": [
      "(131376, 4)\n"
     ]
    }
   ],
   "source": [
    "# all-other-crimes = 37218/total size = 12.92\n",
    "offenseType =(mergeOnDate[\"OFFENSE_TYPE_ID\"].value_counts())\n",
    "print(mergeOnDate.shape)\n",
    "mergeOnDate= mergeOnDate[~mergeOnDate['OFFENSE_TYPE_ID'].isin(offenseType[offenseType < 5000].index)]\n",
    "\n",
    "t=mergeOnDate.groupby('OFFENSE_CATEGORY_ID').size()\n",
    "display(mergeOnDate)\n",
    "display(t)\n",
    "print(mergeOnDate.shape)"
   ]
  },
  {
   "cell_type": "code",
   "execution_count": null,
   "metadata": {},
   "outputs": [],
   "source": [
    "h= mergeOnDate.groupby(['OFFENSE_TYPE_ID']).size()\n",
    "\n",
    "h.shape\n",
    "h.head(30)"
   ]
  },
  {
   "cell_type": "code",
   "execution_count": 10,
   "metadata": {},
   "outputs": [],
   "source": [
    "types ={'auto-theft': 'property',\n",
    "        'robbery': 'property',\n",
    "        'arson': 'property',\n",
    "        'theft-from-motor-vehicle': 'property',\n",
    "        'burglary': 'property',\n",
    "        'larceny': 'property',\n",
    "        'sexual-assault': 'person',\n",
    "        'drug-alcohol':'society',\n",
    "        'other-crimes-against-persons': 'person',\n",
    "        'aggravated-assault': 'person',\n",
    "        'murder': 'person',\n",
    "        'white-collar-crime': 'society',\n",
    "        'public-disorder': 'society',\n",
    "        'all-other-crimes': 'society'}"
   ]
  },
  {
   "cell_type": "code",
   "execution_count": 11,
   "metadata": {},
   "outputs": [
    {
     "data": {
      "text/html": [
       "<div>\n",
       "<style scoped>\n",
       "    .dataframe tbody tr th:only-of-type {\n",
       "        vertical-align: middle;\n",
       "    }\n",
       "\n",
       "    .dataframe tbody tr th {\n",
       "        vertical-align: top;\n",
       "    }\n",
       "\n",
       "    .dataframe thead th {\n",
       "        text-align: right;\n",
       "    }\n",
       "</style>\n",
       "<table border=\"1\" class=\"dataframe\">\n",
       "  <thead>\n",
       "    <tr style=\"text-align: right;\">\n",
       "      <th></th>\n",
       "      <th>OFFENSE_TYPE_ID</th>\n",
       "      <th>OFFENSE_CATEGORY_ID</th>\n",
       "      <th>Date</th>\n",
       "      <th>Temperature</th>\n",
       "    </tr>\n",
       "  </thead>\n",
       "  <tbody>\n",
       "    <tr>\n",
       "      <th>0</th>\n",
       "      <td>criminal-mischief-other</td>\n",
       "      <td>society</td>\n",
       "      <td>2017-06-25</td>\n",
       "      <td>73</td>\n",
       "    </tr>\n",
       "    <tr>\n",
       "      <th>1</th>\n",
       "      <td>criminal-mischief-other</td>\n",
       "      <td>society</td>\n",
       "      <td>2017-06-25</td>\n",
       "      <td>73</td>\n",
       "    </tr>\n",
       "    <tr>\n",
       "      <th>2</th>\n",
       "      <td>criminal-mischief-other</td>\n",
       "      <td>society</td>\n",
       "      <td>2017-06-25</td>\n",
       "      <td>73</td>\n",
       "    </tr>\n",
       "    <tr>\n",
       "      <th>3</th>\n",
       "      <td>criminal-mischief-other</td>\n",
       "      <td>society</td>\n",
       "      <td>2017-06-25</td>\n",
       "      <td>73</td>\n",
       "    </tr>\n",
       "    <tr>\n",
       "      <th>4</th>\n",
       "      <td>criminal-mischief-other</td>\n",
       "      <td>society</td>\n",
       "      <td>2017-06-25</td>\n",
       "      <td>73</td>\n",
       "    </tr>\n",
       "    <tr>\n",
       "      <th>...</th>\n",
       "      <td>...</td>\n",
       "      <td>...</td>\n",
       "      <td>...</td>\n",
       "      <td>...</td>\n",
       "    </tr>\n",
       "    <tr>\n",
       "      <th>379037</th>\n",
       "      <td>theft-of-motor-vehicle</td>\n",
       "      <td>property</td>\n",
       "      <td>2019-01-14</td>\n",
       "      <td>43</td>\n",
       "    </tr>\n",
       "    <tr>\n",
       "      <th>379038</th>\n",
       "      <td>theft-of-motor-vehicle</td>\n",
       "      <td>property</td>\n",
       "      <td>2019-01-14</td>\n",
       "      <td>43</td>\n",
       "    </tr>\n",
       "    <tr>\n",
       "      <th>379039</th>\n",
       "      <td>theft-of-motor-vehicle</td>\n",
       "      <td>property</td>\n",
       "      <td>2019-01-14</td>\n",
       "      <td>43</td>\n",
       "    </tr>\n",
       "    <tr>\n",
       "      <th>379040</th>\n",
       "      <td>theft-of-motor-vehicle</td>\n",
       "      <td>property</td>\n",
       "      <td>2019-01-14</td>\n",
       "      <td>43</td>\n",
       "    </tr>\n",
       "    <tr>\n",
       "      <th>379041</th>\n",
       "      <td>theft-of-motor-vehicle</td>\n",
       "      <td>property</td>\n",
       "      <td>2019-01-14</td>\n",
       "      <td>43</td>\n",
       "    </tr>\n",
       "  </tbody>\n",
       "</table>\n",
       "<p>131376 rows × 4 columns</p>\n",
       "</div>"
      ],
      "text/plain": [
       "                OFFENSE_TYPE_ID OFFENSE_CATEGORY_ID       Date  Temperature\n",
       "0       criminal-mischief-other             society 2017-06-25           73\n",
       "1       criminal-mischief-other             society 2017-06-25           73\n",
       "2       criminal-mischief-other             society 2017-06-25           73\n",
       "3       criminal-mischief-other             society 2017-06-25           73\n",
       "4       criminal-mischief-other             society 2017-06-25           73\n",
       "...                         ...                 ...        ...          ...\n",
       "379037   theft-of-motor-vehicle            property 2019-01-14           43\n",
       "379038   theft-of-motor-vehicle            property 2019-01-14           43\n",
       "379039   theft-of-motor-vehicle            property 2019-01-14           43\n",
       "379040   theft-of-motor-vehicle            property 2019-01-14           43\n",
       "379041   theft-of-motor-vehicle            property 2019-01-14           43\n",
       "\n",
       "[131376 rows x 4 columns]"
      ]
     },
     "metadata": {},
     "output_type": "display_data"
    }
   ],
   "source": [
    "mergeOnDate[\"OFFENSE_CATEGORY_ID\"] = mergeOnDate[\"OFFENSE_CATEGORY_ID\"].map(types)\n",
    "display(mergeOnDate)"
   ]
  },
  {
   "cell_type": "markdown",
   "metadata": {},
   "source": []
  },
  {
   "cell_type": "markdown",
   "metadata": {},
   "source": [
    "Separate into hot, mild, cold dataframes"
   ]
  },
  {
   "cell_type": "code",
   "execution_count": 13,
   "metadata": {},
   "outputs": [
    {
     "ename": "TypeError",
     "evalue": "'>' not supported between instances of 'str' and 'int'",
     "output_type": "error",
     "traceback": [
      "\u001b[0;31m---------------------------------------------------------------------------\u001b[0m",
      "\u001b[0;31mTypeError\u001b[0m                                 Traceback (most recent call last)",
      "\u001b[0;32m/var/folders/pd/tbnq7vld3nz_s0qzjlhjvr2w0000gn/T/ipykernel_7533/3525427270.py\u001b[0m in \u001b[0;36m<module>\u001b[0;34m\u001b[0m\n\u001b[0;32m----> 1\u001b[0;31m \u001b[0mhotDays\u001b[0m \u001b[0;34m=\u001b[0m \u001b[0mmergeOnDate\u001b[0m\u001b[0;34m[\u001b[0m\u001b[0mmergeOnDate\u001b[0m\u001b[0;34m[\u001b[0m\u001b[0;34m'Temperature'\u001b[0m\u001b[0;34m]\u001b[0m \u001b[0;34m>\u001b[0m \u001b[0;36m80\u001b[0m\u001b[0;34m]\u001b[0m\u001b[0;34m\u001b[0m\u001b[0;34m\u001b[0m\u001b[0m\n\u001b[0m\u001b[1;32m      2\u001b[0m \u001b[0mmildDays\u001b[0m \u001b[0;34m=\u001b[0m \u001b[0mmergeOnDate\u001b[0m\u001b[0;34m[\u001b[0m\u001b[0;34m(\u001b[0m\u001b[0mmergeOnDate\u001b[0m\u001b[0;34m[\u001b[0m\u001b[0;34m'Temperature'\u001b[0m\u001b[0;34m]\u001b[0m \u001b[0;34m>=\u001b[0m \u001b[0;36m50\u001b[0m\u001b[0;34m)\u001b[0m \u001b[0;34m&\u001b[0m \u001b[0;34m(\u001b[0m\u001b[0mmergeOnDate\u001b[0m\u001b[0;34m[\u001b[0m\u001b[0;34m'Temperature'\u001b[0m\u001b[0;34m]\u001b[0m \u001b[0;34m<=\u001b[0m \u001b[0;36m80\u001b[0m\u001b[0;34m)\u001b[0m\u001b[0;34m]\u001b[0m\u001b[0;34m\u001b[0m\u001b[0;34m\u001b[0m\u001b[0m\n\u001b[1;32m      3\u001b[0m \u001b[0mcoldDays\u001b[0m \u001b[0;34m=\u001b[0m \u001b[0mmergeOnDate\u001b[0m\u001b[0;34m[\u001b[0m\u001b[0mmergeOnDate\u001b[0m\u001b[0;34m[\u001b[0m\u001b[0;34m'Temperature'\u001b[0m\u001b[0;34m]\u001b[0m \u001b[0;34m<\u001b[0m \u001b[0;36m50\u001b[0m\u001b[0;34m]\u001b[0m\u001b[0;34m\u001b[0m\u001b[0;34m\u001b[0m\u001b[0m\n\u001b[1;32m      4\u001b[0m \u001b[0;34m\u001b[0m\u001b[0m\n\u001b[1;32m      5\u001b[0m \u001b[0mnumofweathercrimes\u001b[0m \u001b[0;34m=\u001b[0m \u001b[0mlen\u001b[0m\u001b[0;34m(\u001b[0m\u001b[0mmergeOnDate\u001b[0m\u001b[0;34m.\u001b[0m\u001b[0mindex\u001b[0m\u001b[0;34m)\u001b[0m\u001b[0;34m\u001b[0m\u001b[0;34m\u001b[0m\u001b[0m\n",
      "\u001b[0;32m/Library/Frameworks/Python.framework/Versions/3.9/lib/python3.9/site-packages/pandas/core/ops/common.py\u001b[0m in \u001b[0;36mnew_method\u001b[0;34m(self, other)\u001b[0m\n\u001b[1;32m     68\u001b[0m         \u001b[0mother\u001b[0m \u001b[0;34m=\u001b[0m \u001b[0mitem_from_zerodim\u001b[0m\u001b[0;34m(\u001b[0m\u001b[0mother\u001b[0m\u001b[0;34m)\u001b[0m\u001b[0;34m\u001b[0m\u001b[0;34m\u001b[0m\u001b[0m\n\u001b[1;32m     69\u001b[0m \u001b[0;34m\u001b[0m\u001b[0m\n\u001b[0;32m---> 70\u001b[0;31m         \u001b[0;32mreturn\u001b[0m \u001b[0mmethod\u001b[0m\u001b[0;34m(\u001b[0m\u001b[0mself\u001b[0m\u001b[0;34m,\u001b[0m \u001b[0mother\u001b[0m\u001b[0;34m)\u001b[0m\u001b[0;34m\u001b[0m\u001b[0;34m\u001b[0m\u001b[0m\n\u001b[0m\u001b[1;32m     71\u001b[0m \u001b[0;34m\u001b[0m\u001b[0m\n\u001b[1;32m     72\u001b[0m     \u001b[0;32mreturn\u001b[0m \u001b[0mnew_method\u001b[0m\u001b[0;34m\u001b[0m\u001b[0;34m\u001b[0m\u001b[0m\n",
      "\u001b[0;32m/Library/Frameworks/Python.framework/Versions/3.9/lib/python3.9/site-packages/pandas/core/arraylike.py\u001b[0m in \u001b[0;36m__gt__\u001b[0;34m(self, other)\u001b[0m\n\u001b[1;32m     54\u001b[0m     \u001b[0;34m@\u001b[0m\u001b[0munpack_zerodim_and_defer\u001b[0m\u001b[0;34m(\u001b[0m\u001b[0;34m\"__gt__\"\u001b[0m\u001b[0;34m)\u001b[0m\u001b[0;34m\u001b[0m\u001b[0;34m\u001b[0m\u001b[0m\n\u001b[1;32m     55\u001b[0m     \u001b[0;32mdef\u001b[0m \u001b[0m__gt__\u001b[0m\u001b[0;34m(\u001b[0m\u001b[0mself\u001b[0m\u001b[0;34m,\u001b[0m \u001b[0mother\u001b[0m\u001b[0;34m)\u001b[0m\u001b[0;34m:\u001b[0m\u001b[0;34m\u001b[0m\u001b[0;34m\u001b[0m\u001b[0m\n\u001b[0;32m---> 56\u001b[0;31m         \u001b[0;32mreturn\u001b[0m \u001b[0mself\u001b[0m\u001b[0;34m.\u001b[0m\u001b[0m_cmp_method\u001b[0m\u001b[0;34m(\u001b[0m\u001b[0mother\u001b[0m\u001b[0;34m,\u001b[0m \u001b[0moperator\u001b[0m\u001b[0;34m.\u001b[0m\u001b[0mgt\u001b[0m\u001b[0;34m)\u001b[0m\u001b[0;34m\u001b[0m\u001b[0;34m\u001b[0m\u001b[0m\n\u001b[0m\u001b[1;32m     57\u001b[0m \u001b[0;34m\u001b[0m\u001b[0m\n\u001b[1;32m     58\u001b[0m     \u001b[0;34m@\u001b[0m\u001b[0munpack_zerodim_and_defer\u001b[0m\u001b[0;34m(\u001b[0m\u001b[0;34m\"__ge__\"\u001b[0m\u001b[0;34m)\u001b[0m\u001b[0;34m\u001b[0m\u001b[0;34m\u001b[0m\u001b[0m\n",
      "\u001b[0;32m/Library/Frameworks/Python.framework/Versions/3.9/lib/python3.9/site-packages/pandas/core/series.py\u001b[0m in \u001b[0;36m_cmp_method\u001b[0;34m(self, other, op)\u001b[0m\n\u001b[1;32m   5621\u001b[0m \u001b[0;34m\u001b[0m\u001b[0m\n\u001b[1;32m   5622\u001b[0m         \u001b[0;32mwith\u001b[0m \u001b[0mnp\u001b[0m\u001b[0;34m.\u001b[0m\u001b[0merrstate\u001b[0m\u001b[0;34m(\u001b[0m\u001b[0mall\u001b[0m\u001b[0;34m=\u001b[0m\u001b[0;34m\"ignore\"\u001b[0m\u001b[0;34m)\u001b[0m\u001b[0;34m:\u001b[0m\u001b[0;34m\u001b[0m\u001b[0;34m\u001b[0m\u001b[0m\n\u001b[0;32m-> 5623\u001b[0;31m             \u001b[0mres_values\u001b[0m \u001b[0;34m=\u001b[0m \u001b[0mops\u001b[0m\u001b[0;34m.\u001b[0m\u001b[0mcomparison_op\u001b[0m\u001b[0;34m(\u001b[0m\u001b[0mlvalues\u001b[0m\u001b[0;34m,\u001b[0m \u001b[0mrvalues\u001b[0m\u001b[0;34m,\u001b[0m \u001b[0mop\u001b[0m\u001b[0;34m)\u001b[0m\u001b[0;34m\u001b[0m\u001b[0;34m\u001b[0m\u001b[0m\n\u001b[0m\u001b[1;32m   5624\u001b[0m \u001b[0;34m\u001b[0m\u001b[0m\n\u001b[1;32m   5625\u001b[0m         \u001b[0;32mreturn\u001b[0m \u001b[0mself\u001b[0m\u001b[0;34m.\u001b[0m\u001b[0m_construct_result\u001b[0m\u001b[0;34m(\u001b[0m\u001b[0mres_values\u001b[0m\u001b[0;34m,\u001b[0m \u001b[0mname\u001b[0m\u001b[0;34m=\u001b[0m\u001b[0mres_name\u001b[0m\u001b[0;34m)\u001b[0m\u001b[0;34m\u001b[0m\u001b[0;34m\u001b[0m\u001b[0m\n",
      "\u001b[0;32m/Library/Frameworks/Python.framework/Versions/3.9/lib/python3.9/site-packages/pandas/core/ops/array_ops.py\u001b[0m in \u001b[0;36mcomparison_op\u001b[0;34m(left, right, op)\u001b[0m\n\u001b[1;32m    281\u001b[0m \u001b[0;34m\u001b[0m\u001b[0m\n\u001b[1;32m    282\u001b[0m     \u001b[0;32melif\u001b[0m \u001b[0mis_object_dtype\u001b[0m\u001b[0;34m(\u001b[0m\u001b[0mlvalues\u001b[0m\u001b[0;34m.\u001b[0m\u001b[0mdtype\u001b[0m\u001b[0;34m)\u001b[0m \u001b[0;32mor\u001b[0m \u001b[0misinstance\u001b[0m\u001b[0;34m(\u001b[0m\u001b[0mrvalues\u001b[0m\u001b[0;34m,\u001b[0m \u001b[0mstr\u001b[0m\u001b[0;34m)\u001b[0m\u001b[0;34m:\u001b[0m\u001b[0;34m\u001b[0m\u001b[0;34m\u001b[0m\u001b[0m\n\u001b[0;32m--> 283\u001b[0;31m         \u001b[0mres_values\u001b[0m \u001b[0;34m=\u001b[0m \u001b[0mcomp_method_OBJECT_ARRAY\u001b[0m\u001b[0;34m(\u001b[0m\u001b[0mop\u001b[0m\u001b[0;34m,\u001b[0m \u001b[0mlvalues\u001b[0m\u001b[0;34m,\u001b[0m \u001b[0mrvalues\u001b[0m\u001b[0;34m)\u001b[0m\u001b[0;34m\u001b[0m\u001b[0;34m\u001b[0m\u001b[0m\n\u001b[0m\u001b[1;32m    284\u001b[0m \u001b[0;34m\u001b[0m\u001b[0m\n\u001b[1;32m    285\u001b[0m     \u001b[0;32melse\u001b[0m\u001b[0;34m:\u001b[0m\u001b[0;34m\u001b[0m\u001b[0;34m\u001b[0m\u001b[0m\n",
      "\u001b[0;32m/Library/Frameworks/Python.framework/Versions/3.9/lib/python3.9/site-packages/pandas/core/ops/array_ops.py\u001b[0m in \u001b[0;36mcomp_method_OBJECT_ARRAY\u001b[0;34m(op, x, y)\u001b[0m\n\u001b[1;32m     71\u001b[0m         \u001b[0mresult\u001b[0m \u001b[0;34m=\u001b[0m \u001b[0mlibops\u001b[0m\u001b[0;34m.\u001b[0m\u001b[0mvec_compare\u001b[0m\u001b[0;34m(\u001b[0m\u001b[0mx\u001b[0m\u001b[0;34m.\u001b[0m\u001b[0mravel\u001b[0m\u001b[0;34m(\u001b[0m\u001b[0;34m)\u001b[0m\u001b[0;34m,\u001b[0m \u001b[0my\u001b[0m\u001b[0;34m.\u001b[0m\u001b[0mravel\u001b[0m\u001b[0;34m(\u001b[0m\u001b[0;34m)\u001b[0m\u001b[0;34m,\u001b[0m \u001b[0mop\u001b[0m\u001b[0;34m)\u001b[0m\u001b[0;34m\u001b[0m\u001b[0;34m\u001b[0m\u001b[0m\n\u001b[1;32m     72\u001b[0m     \u001b[0;32melse\u001b[0m\u001b[0;34m:\u001b[0m\u001b[0;34m\u001b[0m\u001b[0;34m\u001b[0m\u001b[0m\n\u001b[0;32m---> 73\u001b[0;31m         \u001b[0mresult\u001b[0m \u001b[0;34m=\u001b[0m \u001b[0mlibops\u001b[0m\u001b[0;34m.\u001b[0m\u001b[0mscalar_compare\u001b[0m\u001b[0;34m(\u001b[0m\u001b[0mx\u001b[0m\u001b[0;34m.\u001b[0m\u001b[0mravel\u001b[0m\u001b[0;34m(\u001b[0m\u001b[0;34m)\u001b[0m\u001b[0;34m,\u001b[0m \u001b[0my\u001b[0m\u001b[0;34m,\u001b[0m \u001b[0mop\u001b[0m\u001b[0;34m)\u001b[0m\u001b[0;34m\u001b[0m\u001b[0;34m\u001b[0m\u001b[0m\n\u001b[0m\u001b[1;32m     74\u001b[0m     \u001b[0;32mreturn\u001b[0m \u001b[0mresult\u001b[0m\u001b[0;34m.\u001b[0m\u001b[0mreshape\u001b[0m\u001b[0;34m(\u001b[0m\u001b[0mx\u001b[0m\u001b[0;34m.\u001b[0m\u001b[0mshape\u001b[0m\u001b[0;34m)\u001b[0m\u001b[0;34m\u001b[0m\u001b[0;34m\u001b[0m\u001b[0m\n\u001b[1;32m     75\u001b[0m \u001b[0;34m\u001b[0m\u001b[0m\n",
      "\u001b[0;32m/Library/Frameworks/Python.framework/Versions/3.9/lib/python3.9/site-packages/pandas/_libs/ops.pyx\u001b[0m in \u001b[0;36mpandas._libs.ops.scalar_compare\u001b[0;34m()\u001b[0m\n",
      "\u001b[0;31mTypeError\u001b[0m: '>' not supported between instances of 'str' and 'int'"
     ]
    }
   ],
   "source": [
    "hotDays = mergeOnDate[mergeOnDate['Temperature'] > 80]\n",
    "mildDays = mergeOnDate[(mergeOnDate['Temperature'] >= 50) & (mergeOnDate['Temperature'] <= 80)]\n",
    "coldDays = mergeOnDate[mergeOnDate['Temperature'] < 50]\n",
    "\n",
    "numofweathercrimes = len(mergeOnDate.index)\n",
    "print(\"Total Entry Count: \",numofweathercrimes)\n",
    "print(\"Hot days overview\")\n",
    "display(hotDays)\n",
    "print(\"Mild days overview\")\n",
    "display(mildDays)\n",
    "print(\"cold days overview\")\n",
    "display(coldDays)"
   ]
  },
  {
   "cell_type": "markdown",
   "metadata": {},
   "source": [
    "<h4>General distributions of crime types on different temperature categories<h4>"
   ]
  },
  {
   "cell_type": "code",
   "execution_count": null,
   "metadata": {},
   "outputs": [],
   "source": [
    "# overall merged data counts\n",
    "print(\"All Data grouped by categoryID counts\")\n",
    "crimetypes = mergeOnDate.groupby([\"OFFENSE_CATEGORY_ID\"]).size()\n",
    "print(crimetypes.head())\n",
    "print(mergeOnDate.shape)"
   ]
  },
  {
   "cell_type": "code",
   "execution_count": null,
   "metadata": {},
   "outputs": [],
   "source": [
    "# category types on hot days from the hotDays dataframe\n",
    "print(\"Hot Data grouped by categoryID counts\")\n",
    "hotTypes=hotDays.groupby([\"OFFENSE_CATEGORY_ID\"]).size()\n",
    "print(hotTypes.head())\n",
    "print(hotDays.shape)\n"
   ]
  },
  {
   "cell_type": "code",
   "execution_count": null,
   "metadata": {},
   "outputs": [],
   "source": [
    "# category types on mild days from the mildDays dataframe\n",
    "print(\"Mild Data grouped by categoryID counts\")\n",
    "mildTypes =mildDays.groupby([\"OFFENSE_CATEGORY_ID\"]).size()\n",
    "print(mildTypes.head())\n",
    "print(mildDays.shape)"
   ]
  },
  {
   "cell_type": "code",
   "execution_count": null,
   "metadata": {},
   "outputs": [],
   "source": [
    "# category types on cold days from the coldDays dataframe\n",
    "print(\"Cold Data grouped by categoryID counts\")\n",
    "coldTypes = coldDays.groupby([\"OFFENSE_CATEGORY_ID\"]).size()\n",
    "print(coldTypes.head())\n",
    "print(coldDays.shape)"
   ]
  },
  {
   "cell_type": "code",
   "execution_count": null,
   "metadata": {},
   "outputs": [],
   "source": [
    "pdisHot=(hotTypes/numofweathercrimes)*100\n",
    "pdisCold=(coldTypes/numofweathercrimes)*100\n",
    "pdisMild = (mildTypes/numofweathercrimes)*100\n",
    "print(\"General Disributions for type and temperature\")\n",
    "print(\"Hot general Distribution:\")\n",
    "display(pdisHot)\n",
    "print(\"Mild general Distribution:\")\n",
    "display(pdisMild)\n",
    "print(\"Cold general Distribution:\")\n",
    "display(pdisCold)"
   ]
  },
  {
   "cell_type": "markdown",
   "metadata": {},
   "source": [
    "<h3>Bayesian Classifications<h3>"
   ]
  },
  {
   "cell_type": "markdown",
   "metadata": {},
   "source": [
    "P(Category|Temp) = /frac{(P(C and T))}{P(T)}`"
   ]
  },
  {
   "cell_type": "markdown",
   "metadata": {},
   "source": [
    "P(Category) is represented by a series with Person, Property, and Society crimes\n",
    "P(Temperature) is represented by a series with Hot, Mild, and Cold days"
   ]
  },
  {
   "cell_type": "code",
   "execution_count": null,
   "metadata": {},
   "outputs": [],
   "source": [
    "# def calculateClassPropbs(dataset):\n",
    "#     numDataPoint = dataset.size\n",
    "#     classProbs= {}\n",
    "#     for dataPoint in "
   ]
  },
  {
   "cell_type": "code",
   "execution_count": null,
   "metadata": {},
   "outputs": [],
   "source": [
    "priorCategories = (crimetypes / (numofweathercrimes))\n",
    "print(\"Prior Probabilities of Categories\")\n",
    "display(priorCategories)\n",
    "print(\"Sum of percentages of Categories: \",priorCategories.sum())\n",
    "\n"
   ]
  },
  {
   "cell_type": "code",
   "execution_count": null,
   "metadata": {},
   "outputs": [],
   "source": [
    "pHot = ((hotDays.shape[0])/numofweathercrimes)\n",
    "pMild= ((mildDays.shape[0])/numofweathercrimes)\n",
    "pCold=((coldDays.shape[0])/numofweathercrimes)\n",
    "d = {'Hot':pHot, 'Mild':pMild,'Cold':pCold}\n",
    "priorTemperatures= pd.Series(data=d, index=['Hot','Mild','Cold'])\n",
    "print(\"Probabilities of Temperatures\")\n",
    "display(priorTemperatures)\n",
    "print(\"Sum of percentages of Temperatures\",priorTemperatures.sum())"
   ]
  },
  {
   "cell_type": "markdown",
   "metadata": {},
   "source": []
  },
  {
   "cell_type": "markdown",
   "metadata": {},
   "source": [
    "P(T|C)= P(T and C)* P(C)"
   ]
  },
  {
   "cell_type": "code",
   "execution_count": null,
   "metadata": {},
   "outputs": [],
   "source": [
    "\n",
    "pHotTypes=(hotTypes/hotDays.shape[0])*100\n",
    "pColdTypes=(coldTypes/coldDays.shape[0])*100\n",
    "pMildTypes = (mildTypes/mildDays.shape[0])*100\n",
    "print(\"Given a hot day probability of a type of crime: \")\n",
    "print(\"Total sum: \", pHotTypes.sum())\n",
    "display(pHotTypes)\n",
    "print(\"Given a mild day probability of a type of crime: \")\n",
    "print(\"Total sum: \", pColdTypes.sum())\n",
    "display(pColdTypes)\n",
    "print(\"Given a cold day probability of a type of crime: \")\n",
    "print(\"Total sum: \", pMildTypes.sum())\n",
    "display(pMildTypes)\n",
    "# display(hotTypes.sum())\n",
    "\n",
    "\n"
   ]
  }
 ],
 "metadata": {
  "kernelspec": {
   "display_name": "Python 3.9.6 64-bit",
   "language": "python",
   "name": "python3"
  },
  "language_info": {
   "codemirror_mode": {
    "name": "ipython",
    "version": 3
   },
   "file_extension": ".py",
   "mimetype": "text/x-python",
   "name": "python",
   "nbconvert_exporter": "python",
   "pygments_lexer": "ipython3",
   "version": "3.9.6"
  },
  "orig_nbformat": 4,
  "vscode": {
   "interpreter": {
    "hash": "aee8b7b246df8f9039afb4144a1f6fd8d2ca17a180786b69acc140d282b71a49"
   }
  }
 },
 "nbformat": 4,
 "nbformat_minor": 2
}
