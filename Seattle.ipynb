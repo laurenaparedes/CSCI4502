{
 "cells": [
  {
   "cell_type": "code",
   "execution_count": 2,
   "id": "cfdf5623",
   "metadata": {},
   "outputs": [],
   "source": [
    "import pandas as pd\n",
    "import numpy as np\n",
    "import pickle\n",
    "import matplotlib.pyplot as plt\n",
    "from matplotlib.pyplot import figure"
   ]
  },
  {
   "cell_type": "code",
   "execution_count": 3,
   "id": "80b1dc04",
   "metadata": {},
   "outputs": [
    {
     "name": "stderr",
     "output_type": "stream",
     "text": [
      "C:\\Users\\dylan\\anaconda3\\lib\\site-packages\\IPython\\core\\interactiveshell.py:3444: DtypeWarning: Columns (0,4) have mixed types.Specify dtype option on import or set low_memory=False.\n",
      "  exec(code_obj, self.user_global_ns, self.user_ns)\n"
     ]
    }
   ],
   "source": [
    "crimeDF= pd.read_csv(\"Seattle_crime.csv\", low_memory=False)\n",
    "weatherDF = pd.read_csv(\"Seattle_weather.csv\")"
   ]
  },
  {
   "cell_type": "code",
   "execution_count": 4,
   "id": "1076644f",
   "metadata": {},
   "outputs": [
    {
     "data": {
      "text/html": [
       "<div>\n",
       "<style scoped>\n",
       "    .dataframe tbody tr th:only-of-type {\n",
       "        vertical-align: middle;\n",
       "    }\n",
       "\n",
       "    .dataframe tbody tr th {\n",
       "        vertical-align: top;\n",
       "    }\n",
       "\n",
       "    .dataframe thead th {\n",
       "        text-align: right;\n",
       "    }\n",
       "</style>\n",
       "<table border=\"1\" class=\"dataframe\">\n",
       "  <thead>\n",
       "    <tr style=\"text-align: right;\">\n",
       "      <th></th>\n",
       "      <th>Report Number</th>\n",
       "      <th>Offense Start DateTime</th>\n",
       "      <th>Offense End DateTime</th>\n",
       "      <th>Report DateTime</th>\n",
       "      <th>Crime Against Category</th>\n",
       "      <th>Offense Parent Group</th>\n",
       "      <th>Offense</th>\n",
       "    </tr>\n",
       "  </thead>\n",
       "  <tbody>\n",
       "    <tr>\n",
       "      <th>0</th>\n",
       "      <td>2020-044620</td>\n",
       "      <td>2/5/2020 10:10</td>\n",
       "      <td>NaN</td>\n",
       "      <td>2/5/2020 11:24</td>\n",
       "      <td>SOCIETY</td>\n",
       "      <td>DRUG/NARCOTIC OFFENSES</td>\n",
       "      <td>Drug/Narcotic Violations</td>\n",
       "    </tr>\n",
       "    <tr>\n",
       "      <th>1</th>\n",
       "      <td>2020-044452</td>\n",
       "      <td>2/3/2020 8:00</td>\n",
       "      <td>2/4/2020 8:00</td>\n",
       "      <td>2/5/2020 10:06</td>\n",
       "      <td>PROPERTY</td>\n",
       "      <td>LARCENY-THEFT</td>\n",
       "      <td>Theft of Motor Vehicle Parts or Accessories</td>\n",
       "    </tr>\n",
       "    <tr>\n",
       "      <th>2</th>\n",
       "      <td>2020-044465</td>\n",
       "      <td>2/2/2020 20:30</td>\n",
       "      <td>2/2/2020 21:30</td>\n",
       "      <td>2/5/2020 9:39</td>\n",
       "      <td>PROPERTY</td>\n",
       "      <td>ROBBERY</td>\n",
       "      <td>Robbery</td>\n",
       "    </tr>\n",
       "    <tr>\n",
       "      <th>3</th>\n",
       "      <td>2020-044225</td>\n",
       "      <td>2/5/2020 1:17</td>\n",
       "      <td>2/5/2020 2:21</td>\n",
       "      <td>2/5/2020 3:30</td>\n",
       "      <td>PROPERTY</td>\n",
       "      <td>DESTRUCTION/DAMAGE/VANDALISM OF PROPERTY</td>\n",
       "      <td>Destruction/Damage/Vandalism of Property</td>\n",
       "    </tr>\n",
       "    <tr>\n",
       "      <th>4</th>\n",
       "      <td>2020-044076</td>\n",
       "      <td>2/5/2020 0:51</td>\n",
       "      <td>NaN</td>\n",
       "      <td>2/5/2020 0:51</td>\n",
       "      <td>SOCIETY</td>\n",
       "      <td>DRIVING UNDER THE INFLUENCE</td>\n",
       "      <td>Driving Under the Influence</td>\n",
       "    </tr>\n",
       "  </tbody>\n",
       "</table>\n",
       "</div>"
      ],
      "text/plain": [
       "  Report Number Offense Start DateTime Offense End DateTime Report DateTime  \\\n",
       "0   2020-044620         2/5/2020 10:10                  NaN  2/5/2020 11:24   \n",
       "1   2020-044452          2/3/2020 8:00        2/4/2020 8:00  2/5/2020 10:06   \n",
       "2   2020-044465         2/2/2020 20:30       2/2/2020 21:30   2/5/2020 9:39   \n",
       "3   2020-044225          2/5/2020 1:17        2/5/2020 2:21   2/5/2020 3:30   \n",
       "4   2020-044076          2/5/2020 0:51                  NaN   2/5/2020 0:51   \n",
       "\n",
       "  Crime Against Category                      Offense Parent Group  \\\n",
       "0                SOCIETY                    DRUG/NARCOTIC OFFENSES   \n",
       "1               PROPERTY                             LARCENY-THEFT   \n",
       "2               PROPERTY                                   ROBBERY   \n",
       "3               PROPERTY  DESTRUCTION/DAMAGE/VANDALISM OF PROPERTY   \n",
       "4                SOCIETY               DRIVING UNDER THE INFLUENCE   \n",
       "\n",
       "                                       Offense  \n",
       "0                     Drug/Narcotic Violations  \n",
       "1  Theft of Motor Vehicle Parts or Accessories  \n",
       "2                                      Robbery  \n",
       "3     Destruction/Damage/Vandalism of Property  \n",
       "4                  Driving Under the Influence  "
      ]
     },
     "execution_count": 4,
     "metadata": {},
     "output_type": "execute_result"
    }
   ],
   "source": [
    "crimeDF.head()"
   ]
  },
  {
   "cell_type": "code",
   "execution_count": 5,
   "id": "066f16e3",
   "metadata": {},
   "outputs": [
    {
     "data": {
      "text/html": [
       "<div>\n",
       "<style scoped>\n",
       "    .dataframe tbody tr th:only-of-type {\n",
       "        vertical-align: middle;\n",
       "    }\n",
       "\n",
       "    .dataframe tbody tr th {\n",
       "        vertical-align: top;\n",
       "    }\n",
       "\n",
       "    .dataframe thead th {\n",
       "        text-align: right;\n",
       "    }\n",
       "</style>\n",
       "<table border=\"1\" class=\"dataframe\">\n",
       "  <thead>\n",
       "    <tr style=\"text-align: right;\">\n",
       "      <th></th>\n",
       "      <th>DATE</th>\n",
       "      <th>PRCP</th>\n",
       "      <th>TMAX</th>\n",
       "      <th>TMIN</th>\n",
       "      <th>RAIN</th>\n",
       "      <th>TAVG</th>\n",
       "    </tr>\n",
       "  </thead>\n",
       "  <tbody>\n",
       "    <tr>\n",
       "      <th>0</th>\n",
       "      <td>12/14/2017</td>\n",
       "      <td>0.0</td>\n",
       "      <td>50.0</td>\n",
       "      <td>36.0</td>\n",
       "      <td>False</td>\n",
       "      <td>43.0</td>\n",
       "    </tr>\n",
       "    <tr>\n",
       "      <th>1</th>\n",
       "      <td>12/13/2017</td>\n",
       "      <td>0.0</td>\n",
       "      <td>48.0</td>\n",
       "      <td>34.0</td>\n",
       "      <td>False</td>\n",
       "      <td>41.0</td>\n",
       "    </tr>\n",
       "    <tr>\n",
       "      <th>2</th>\n",
       "      <td>12/12/2017</td>\n",
       "      <td>0.0</td>\n",
       "      <td>46.0</td>\n",
       "      <td>32.0</td>\n",
       "      <td>False</td>\n",
       "      <td>39.0</td>\n",
       "    </tr>\n",
       "    <tr>\n",
       "      <th>3</th>\n",
       "      <td>12/11/2017</td>\n",
       "      <td>0.0</td>\n",
       "      <td>49.0</td>\n",
       "      <td>29.0</td>\n",
       "      <td>False</td>\n",
       "      <td>39.0</td>\n",
       "    </tr>\n",
       "    <tr>\n",
       "      <th>4</th>\n",
       "      <td>12/10/2017</td>\n",
       "      <td>0.0</td>\n",
       "      <td>49.0</td>\n",
       "      <td>34.0</td>\n",
       "      <td>False</td>\n",
       "      <td>41.5</td>\n",
       "    </tr>\n",
       "  </tbody>\n",
       "</table>\n",
       "</div>"
      ],
      "text/plain": [
       "         DATE  PRCP  TMAX  TMIN   RAIN  TAVG\n",
       "0  12/14/2017   0.0  50.0  36.0  False  43.0\n",
       "1  12/13/2017   0.0  48.0  34.0  False  41.0\n",
       "2  12/12/2017   0.0  46.0  32.0  False  39.0\n",
       "3  12/11/2017   0.0  49.0  29.0  False  39.0\n",
       "4  12/10/2017   0.0  49.0  34.0  False  41.5"
      ]
     },
     "execution_count": 5,
     "metadata": {},
     "output_type": "execute_result"
    }
   ],
   "source": [
    "weatherDF.head()"
   ]
  },
  {
   "cell_type": "code",
   "execution_count": 6,
   "id": "5e01372a",
   "metadata": {},
   "outputs": [],
   "source": [
    "df_split = crimeDF['Offense Start DateTime'].str.split(' ',expand=True)"
   ]
  },
  {
   "cell_type": "code",
   "execution_count": 7,
   "id": "42d2624b",
   "metadata": {
    "scrolled": false
   },
   "outputs": [],
   "source": [
    "crimeDF['Offense Start DateTime'] = df_split[0]\n",
    "crimeDF.rename(columns={\"Offense Start DateTime\": \"DATE\"},inplace = True)"
   ]
  },
  {
   "cell_type": "code",
   "execution_count": 8,
   "id": "4d8f4d91",
   "metadata": {},
   "outputs": [],
   "source": [
    "crimeDF.drop('Offense End DateTime', axis=1, inplace=True)\n",
    "crimeDF.drop('Report DateTime', axis=1, inplace=True)\n",
    "crimeDF.drop('Report Number', axis=1, inplace=True)"
   ]
  },
  {
   "cell_type": "code",
   "execution_count": 9,
   "id": "26e938d7",
   "metadata": {},
   "outputs": [
    {
     "data": {
      "text/html": [
       "<div>\n",
       "<style scoped>\n",
       "    .dataframe tbody tr th:only-of-type {\n",
       "        vertical-align: middle;\n",
       "    }\n",
       "\n",
       "    .dataframe tbody tr th {\n",
       "        vertical-align: top;\n",
       "    }\n",
       "\n",
       "    .dataframe thead th {\n",
       "        text-align: right;\n",
       "    }\n",
       "</style>\n",
       "<table border=\"1\" class=\"dataframe\">\n",
       "  <thead>\n",
       "    <tr style=\"text-align: right;\">\n",
       "      <th></th>\n",
       "      <th>DATE</th>\n",
       "      <th>Crime Against Category</th>\n",
       "      <th>Offense Parent Group</th>\n",
       "      <th>Offense</th>\n",
       "    </tr>\n",
       "  </thead>\n",
       "  <tbody>\n",
       "    <tr>\n",
       "      <th>0</th>\n",
       "      <td>2/5/2020</td>\n",
       "      <td>SOCIETY</td>\n",
       "      <td>DRUG/NARCOTIC OFFENSES</td>\n",
       "      <td>Drug/Narcotic Violations</td>\n",
       "    </tr>\n",
       "    <tr>\n",
       "      <th>1</th>\n",
       "      <td>2/3/2020</td>\n",
       "      <td>PROPERTY</td>\n",
       "      <td>LARCENY-THEFT</td>\n",
       "      <td>Theft of Motor Vehicle Parts or Accessories</td>\n",
       "    </tr>\n",
       "    <tr>\n",
       "      <th>2</th>\n",
       "      <td>2/2/2020</td>\n",
       "      <td>PROPERTY</td>\n",
       "      <td>ROBBERY</td>\n",
       "      <td>Robbery</td>\n",
       "    </tr>\n",
       "    <tr>\n",
       "      <th>3</th>\n",
       "      <td>2/5/2020</td>\n",
       "      <td>PROPERTY</td>\n",
       "      <td>DESTRUCTION/DAMAGE/VANDALISM OF PROPERTY</td>\n",
       "      <td>Destruction/Damage/Vandalism of Property</td>\n",
       "    </tr>\n",
       "    <tr>\n",
       "      <th>4</th>\n",
       "      <td>2/5/2020</td>\n",
       "      <td>SOCIETY</td>\n",
       "      <td>DRIVING UNDER THE INFLUENCE</td>\n",
       "      <td>Driving Under the Influence</td>\n",
       "    </tr>\n",
       "    <tr>\n",
       "      <th>...</th>\n",
       "      <td>...</td>\n",
       "      <td>...</td>\n",
       "      <td>...</td>\n",
       "      <td>...</td>\n",
       "    </tr>\n",
       "    <tr>\n",
       "      <th>1012484</th>\n",
       "      <td>7/13/2013</td>\n",
       "      <td>PROPERTY</td>\n",
       "      <td>MOTOR VEHICLE THEFT</td>\n",
       "      <td>Motor Vehicle Theft</td>\n",
       "    </tr>\n",
       "    <tr>\n",
       "      <th>1012485</th>\n",
       "      <td>6/26/2013</td>\n",
       "      <td>PROPERTY</td>\n",
       "      <td>MOTOR VEHICLE THEFT</td>\n",
       "      <td>Motor Vehicle Theft</td>\n",
       "    </tr>\n",
       "    <tr>\n",
       "      <th>1012486</th>\n",
       "      <td>2/14/2012</td>\n",
       "      <td>PROPERTY</td>\n",
       "      <td>LARCENY-THEFT</td>\n",
       "      <td>Shoplifting</td>\n",
       "    </tr>\n",
       "    <tr>\n",
       "      <th>1012487</th>\n",
       "      <td>9/19/2010</td>\n",
       "      <td>PROPERTY</td>\n",
       "      <td>LARCENY-THEFT</td>\n",
       "      <td>Shoplifting</td>\n",
       "    </tr>\n",
       "    <tr>\n",
       "      <th>1012488</th>\n",
       "      <td>2/25/2010</td>\n",
       "      <td>PROPERTY</td>\n",
       "      <td>MOTOR VEHICLE THEFT</td>\n",
       "      <td>Motor Vehicle Theft</td>\n",
       "    </tr>\n",
       "  </tbody>\n",
       "</table>\n",
       "<p>1012489 rows × 4 columns</p>\n",
       "</div>"
      ],
      "text/plain": [
       "              DATE Crime Against Category  \\\n",
       "0         2/5/2020                SOCIETY   \n",
       "1         2/3/2020               PROPERTY   \n",
       "2         2/2/2020               PROPERTY   \n",
       "3         2/5/2020               PROPERTY   \n",
       "4         2/5/2020                SOCIETY   \n",
       "...            ...                    ...   \n",
       "1012484  7/13/2013               PROPERTY   \n",
       "1012485  6/26/2013               PROPERTY   \n",
       "1012486  2/14/2012               PROPERTY   \n",
       "1012487  9/19/2010               PROPERTY   \n",
       "1012488  2/25/2010               PROPERTY   \n",
       "\n",
       "                             Offense Parent Group  \\\n",
       "0                          DRUG/NARCOTIC OFFENSES   \n",
       "1                                   LARCENY-THEFT   \n",
       "2                                         ROBBERY   \n",
       "3        DESTRUCTION/DAMAGE/VANDALISM OF PROPERTY   \n",
       "4                     DRIVING UNDER THE INFLUENCE   \n",
       "...                                           ...   \n",
       "1012484                       MOTOR VEHICLE THEFT   \n",
       "1012485                       MOTOR VEHICLE THEFT   \n",
       "1012486                             LARCENY-THEFT   \n",
       "1012487                             LARCENY-THEFT   \n",
       "1012488                       MOTOR VEHICLE THEFT   \n",
       "\n",
       "                                             Offense  \n",
       "0                           Drug/Narcotic Violations  \n",
       "1        Theft of Motor Vehicle Parts or Accessories  \n",
       "2                                            Robbery  \n",
       "3           Destruction/Damage/Vandalism of Property  \n",
       "4                        Driving Under the Influence  \n",
       "...                                              ...  \n",
       "1012484                          Motor Vehicle Theft  \n",
       "1012485                          Motor Vehicle Theft  \n",
       "1012486                                  Shoplifting  \n",
       "1012487                                  Shoplifting  \n",
       "1012488                          Motor Vehicle Theft  \n",
       "\n",
       "[1012489 rows x 4 columns]"
      ]
     },
     "execution_count": 9,
     "metadata": {},
     "output_type": "execute_result"
    }
   ],
   "source": [
    "crimeDF"
   ]
  },
  {
   "cell_type": "code",
   "execution_count": 10,
   "id": "dbad5ba4",
   "metadata": {},
   "outputs": [],
   "source": [
    "# weatherDF.to_csv('Seattle_weather_trimmed.csv')\n",
    "# crimeDF.to_csv('Seattle_crime_trimmed.csv')"
   ]
  },
  {
   "cell_type": "code",
   "execution_count": 17,
   "id": "b7658482",
   "metadata": {},
   "outputs": [
    {
     "data": {
      "text/plain": [
       "array(['SOCIETY', 'PROPERTY', 'PERSON', 'NOT_A_CRIME'], dtype=object)"
      ]
     },
     "execution_count": 17,
     "metadata": {},
     "output_type": "execute_result"
    }
   ],
   "source": [
    "un = crimeDF['Crime Against Category'].unique()\n",
    "un"
   ]
  },
  {
   "cell_type": "code",
   "execution_count": 11,
   "id": "160de824",
   "metadata": {},
   "outputs": [],
   "source": [
    "crime_2017= pd.read_csv(\"Seattle_crime_2017.csv\", low_memory=False)\n",
    "weather_2017 = pd.read_csv(\"Seattle_weather_2017.csv\")"
   ]
  },
  {
   "cell_type": "code",
   "execution_count": 34,
   "id": "a9622306",
   "metadata": {},
   "outputs": [],
   "source": [
    "joined = pd.merge(crime_2017, weather_2017,how='inner',on='DATE')"
   ]
  },
  {
   "cell_type": "code",
   "execution_count": 35,
   "id": "2c4959b8",
   "metadata": {},
   "outputs": [
    {
     "data": {
      "text/html": [
       "<div>\n",
       "<style scoped>\n",
       "    .dataframe tbody tr th:only-of-type {\n",
       "        vertical-align: middle;\n",
       "    }\n",
       "\n",
       "    .dataframe tbody tr th {\n",
       "        vertical-align: top;\n",
       "    }\n",
       "\n",
       "    .dataframe thead th {\n",
       "        text-align: right;\n",
       "    }\n",
       "</style>\n",
       "<table border=\"1\" class=\"dataframe\">\n",
       "  <thead>\n",
       "    <tr style=\"text-align: right;\">\n",
       "      <th></th>\n",
       "      <th>DATE</th>\n",
       "      <th>Crime Against Category</th>\n",
       "      <th>Offense Parent Group</th>\n",
       "      <th>Offense</th>\n",
       "      <th>PRCP</th>\n",
       "      <th>TMAX</th>\n",
       "      <th>TMIN</th>\n",
       "      <th>RAIN</th>\n",
       "      <th>TAVG</th>\n",
       "    </tr>\n",
       "  </thead>\n",
       "  <tbody>\n",
       "    <tr>\n",
       "      <th>0</th>\n",
       "      <td>4/19/2017</td>\n",
       "      <td>PROPERTY</td>\n",
       "      <td>LARCENY-THEFT</td>\n",
       "      <td>Theft From Motor Vehicle</td>\n",
       "      <td>0.35</td>\n",
       "      <td>56</td>\n",
       "      <td>46</td>\n",
       "      <td>True</td>\n",
       "      <td>51.0</td>\n",
       "    </tr>\n",
       "    <tr>\n",
       "      <th>1</th>\n",
       "      <td>4/19/2017</td>\n",
       "      <td>PROPERTY</td>\n",
       "      <td>LARCENY-THEFT</td>\n",
       "      <td>All Other Larceny</td>\n",
       "      <td>0.35</td>\n",
       "      <td>56</td>\n",
       "      <td>46</td>\n",
       "      <td>True</td>\n",
       "      <td>51.0</td>\n",
       "    </tr>\n",
       "    <tr>\n",
       "      <th>2</th>\n",
       "      <td>4/19/2017</td>\n",
       "      <td>PROPERTY</td>\n",
       "      <td>FRAUD OFFENSES</td>\n",
       "      <td>Impersonation</td>\n",
       "      <td>0.35</td>\n",
       "      <td>56</td>\n",
       "      <td>46</td>\n",
       "      <td>True</td>\n",
       "      <td>51.0</td>\n",
       "    </tr>\n",
       "    <tr>\n",
       "      <th>3</th>\n",
       "      <td>4/19/2017</td>\n",
       "      <td>PROPERTY</td>\n",
       "      <td>LARCENY-THEFT</td>\n",
       "      <td>Theft From Building</td>\n",
       "      <td>0.35</td>\n",
       "      <td>56</td>\n",
       "      <td>46</td>\n",
       "      <td>True</td>\n",
       "      <td>51.0</td>\n",
       "    </tr>\n",
       "    <tr>\n",
       "      <th>4</th>\n",
       "      <td>4/19/2017</td>\n",
       "      <td>PROPERTY</td>\n",
       "      <td>FRAUD OFFENSES</td>\n",
       "      <td>Impersonation</td>\n",
       "      <td>0.35</td>\n",
       "      <td>56</td>\n",
       "      <td>46</td>\n",
       "      <td>True</td>\n",
       "      <td>51.0</td>\n",
       "    </tr>\n",
       "    <tr>\n",
       "      <th>...</th>\n",
       "      <td>...</td>\n",
       "      <td>...</td>\n",
       "      <td>...</td>\n",
       "      <td>...</td>\n",
       "      <td>...</td>\n",
       "      <td>...</td>\n",
       "      <td>...</td>\n",
       "      <td>...</td>\n",
       "      <td>...</td>\n",
       "    </tr>\n",
       "    <tr>\n",
       "      <th>69687</th>\n",
       "      <td>1/16/2017</td>\n",
       "      <td>SOCIETY</td>\n",
       "      <td>DRUG/NARCOTIC OFFENSES</td>\n",
       "      <td>Drug/Narcotic Violations</td>\n",
       "      <td>0.00</td>\n",
       "      <td>45</td>\n",
       "      <td>30</td>\n",
       "      <td>False</td>\n",
       "      <td>37.5</td>\n",
       "    </tr>\n",
       "    <tr>\n",
       "      <th>69688</th>\n",
       "      <td>1/16/2017</td>\n",
       "      <td>PROPERTY</td>\n",
       "      <td>DESTRUCTION/DAMAGE/VANDALISM OF PROPERTY</td>\n",
       "      <td>Destruction/Damage/Vandalism of Property</td>\n",
       "      <td>0.00</td>\n",
       "      <td>45</td>\n",
       "      <td>30</td>\n",
       "      <td>False</td>\n",
       "      <td>37.5</td>\n",
       "    </tr>\n",
       "    <tr>\n",
       "      <th>69689</th>\n",
       "      <td>1/16/2017</td>\n",
       "      <td>PROPERTY</td>\n",
       "      <td>LARCENY-THEFT</td>\n",
       "      <td>Shoplifting</td>\n",
       "      <td>0.00</td>\n",
       "      <td>45</td>\n",
       "      <td>30</td>\n",
       "      <td>False</td>\n",
       "      <td>37.5</td>\n",
       "    </tr>\n",
       "    <tr>\n",
       "      <th>69690</th>\n",
       "      <td>1/16/2017</td>\n",
       "      <td>PROPERTY</td>\n",
       "      <td>LARCENY-THEFT</td>\n",
       "      <td>Shoplifting</td>\n",
       "      <td>0.00</td>\n",
       "      <td>45</td>\n",
       "      <td>30</td>\n",
       "      <td>False</td>\n",
       "      <td>37.5</td>\n",
       "    </tr>\n",
       "    <tr>\n",
       "      <th>69691</th>\n",
       "      <td>1/16/2017</td>\n",
       "      <td>PROPERTY</td>\n",
       "      <td>MOTOR VEHICLE THEFT</td>\n",
       "      <td>Motor Vehicle Theft</td>\n",
       "      <td>0.00</td>\n",
       "      <td>45</td>\n",
       "      <td>30</td>\n",
       "      <td>False</td>\n",
       "      <td>37.5</td>\n",
       "    </tr>\n",
       "  </tbody>\n",
       "</table>\n",
       "<p>69692 rows × 9 columns</p>\n",
       "</div>"
      ],
      "text/plain": [
       "            DATE Crime Against Category  \\\n",
       "0      4/19/2017               PROPERTY   \n",
       "1      4/19/2017               PROPERTY   \n",
       "2      4/19/2017               PROPERTY   \n",
       "3      4/19/2017               PROPERTY   \n",
       "4      4/19/2017               PROPERTY   \n",
       "...          ...                    ...   \n",
       "69687  1/16/2017                SOCIETY   \n",
       "69688  1/16/2017               PROPERTY   \n",
       "69689  1/16/2017               PROPERTY   \n",
       "69690  1/16/2017               PROPERTY   \n",
       "69691  1/16/2017               PROPERTY   \n",
       "\n",
       "                           Offense Parent Group  \\\n",
       "0                                 LARCENY-THEFT   \n",
       "1                                 LARCENY-THEFT   \n",
       "2                                FRAUD OFFENSES   \n",
       "3                                 LARCENY-THEFT   \n",
       "4                                FRAUD OFFENSES   \n",
       "...                                         ...   \n",
       "69687                    DRUG/NARCOTIC OFFENSES   \n",
       "69688  DESTRUCTION/DAMAGE/VANDALISM OF PROPERTY   \n",
       "69689                             LARCENY-THEFT   \n",
       "69690                             LARCENY-THEFT   \n",
       "69691                       MOTOR VEHICLE THEFT   \n",
       "\n",
       "                                        Offense  PRCP  TMAX  TMIN   RAIN  TAVG  \n",
       "0                      Theft From Motor Vehicle  0.35    56    46   True  51.0  \n",
       "1                             All Other Larceny  0.35    56    46   True  51.0  \n",
       "2                                 Impersonation  0.35    56    46   True  51.0  \n",
       "3                           Theft From Building  0.35    56    46   True  51.0  \n",
       "4                                 Impersonation  0.35    56    46   True  51.0  \n",
       "...                                         ...   ...   ...   ...    ...   ...  \n",
       "69687                  Drug/Narcotic Violations  0.00    45    30  False  37.5  \n",
       "69688  Destruction/Damage/Vandalism of Property  0.00    45    30  False  37.5  \n",
       "69689                               Shoplifting  0.00    45    30  False  37.5  \n",
       "69690                               Shoplifting  0.00    45    30  False  37.5  \n",
       "69691                       Motor Vehicle Theft  0.00    45    30  False  37.5  \n",
       "\n",
       "[69692 rows x 9 columns]"
      ]
     },
     "execution_count": 35,
     "metadata": {},
     "output_type": "execute_result"
    }
   ],
   "source": [
    "joined"
   ]
  },
  {
   "cell_type": "markdown",
   "id": "2f7a02d5",
   "metadata": {},
   "source": [
    "#### Probability of Offense Parent Group Given Cold, Mild, or Hot:"
   ]
  },
  {
   "cell_type": "code",
   "execution_count": 36,
   "id": "74b9ed3b",
   "metadata": {},
   "outputs": [],
   "source": [
    "types = {'HUMAN TRAFFICKING': 'Person', 'SEX OFFENSES, CONSENSUAL': 'Person','GAMBLING OFFENSES':'Person','BRIBERY': 'Society',\n",
    "        'LIQUOR LAW VIOLATIONS':'Society','CURFEW/LOITERING/VAGRANCY VIOLATIONS':'Society','PORNOGRAPHY/OBSCENE MATERIAL':'Society',\n",
    "        'EMBEZZLEMENT':'Society','EXTORTION/BLACKMAIL':'Person','HOMICIDE OFFENSES':'Person','PEEPING TOM':'Person','ARSON':'Property',\n",
    "        'KIDNAPPING/ABDUCTION':'Person','COUNTERFEITING/FORGERY':'Society','BURGLARY/BREAKING&ENTERING':'Property','ASSAULT OFFENSES':'Person',\n",
    "        'TRESPASS OF REAL PROPERTY':'Property','WEAPON LAW VIOLATIONS':'Society','STOLEN PROPERTY OFFENSES':'Property','FAMILY OFFENSES, NONVIOLENT':'Person',\n",
    "        'DRUG/NARCOTIC OFFENSES':'Society','ROBBERY':'Property','PROSTITUTION OFFENSES':'Society','DRIVING UNDER THE INFLUENCE':'Society',\n",
    "        'DESTRUCTION/DAMAGE/VANDALISM OF PROPERTY':'Property','SEX OFFENSES':'Person','MOTOR VEHICLE THEFT':'Property','BAD CHECKS':'Society',\n",
    "        'FRAUD OFFENSES':'Society','LARCENY-THEFT':'Property'}\n",
    "joined['Offense Parent Group'] = joined['Offense Parent Group'].map(types)"
   ]
  },
  {
   "cell_type": "code",
   "execution_count": 37,
   "id": "0a16315b",
   "metadata": {},
   "outputs": [
    {
     "data": {
      "text/plain": [
       "array(['Property', 'Society', 'Person'], dtype=object)"
      ]
     },
     "execution_count": 37,
     "metadata": {},
     "output_type": "execute_result"
    }
   ],
   "source": [
    "offenses = joined['Offense Parent Group'].unique()\n",
    "offenses"
   ]
  },
  {
   "cell_type": "code",
   "execution_count": 45,
   "id": "c44efb48",
   "metadata": {},
   "outputs": [],
   "source": [
    "temp = joined['TAVG'].astype(float)\n",
    "tot_cold = temp[temp < 45.0].count()\n",
    "tot_mild = temp[(temp >= 45.0) & (temp <= 75.0)].count()\n",
    "tot_hot = temp[temp > 75.0].count()\n",
    "total = temp.count()\n",
    "cold = []\n",
    "mild = []\n",
    "hot = []\n",
    "for offense in offenses:\n",
    "    num_cold = len(joined[(joined['Offense Parent Group'] == offense) & (temp < 45.0)])\n",
    "    num_mild = len(joined[(joined['Offense Parent Group'] == offense) & (temp >= 45.0) & (temp <= 75.0)])\n",
    "    num_hot = len(joined[(joined['Offense Parent Group'] == offense) & (temp > 75.0)])\n",
    "    cold.append((offense,(num_cold/tot_cold).round(5)))\n",
    "    mild.append((offense,(num_mild/tot_mild).round(5)))\n",
    "    hot.append((offense,(num_hot/tot_hot).round(5)))"
   ]
  },
  {
   "cell_type": "code",
   "execution_count": 46,
   "id": "965d2df3",
   "metadata": {
    "scrolled": false
   },
   "outputs": [
    {
     "data": {
      "text/plain": [
       "[('Property', 0.70095), ('Society', 0.14162), ('Person', 0.15743)]"
      ]
     },
     "execution_count": 46,
     "metadata": {},
     "output_type": "execute_result"
    }
   ],
   "source": [
    "cold"
   ]
  },
  {
   "cell_type": "code",
   "execution_count": 47,
   "id": "fd6a4c7c",
   "metadata": {},
   "outputs": [
    {
     "data": {
      "text/plain": [
       "<BarContainer object of 3 artists>"
      ]
     },
     "execution_count": 47,
     "metadata": {},
     "output_type": "execute_result"
    },
    {
     "data": {
      "image/png": "[encoded data removed]",
      "text/plain": [
       "<Figure size 800x600 with 1 Axes>"
      ]
     },
     "metadata": {
      "needs_background": "light"
     },
     "output_type": "display_data"
    }
   ],
   "source": [
    "off = []\n",
    "perc = []\n",
    "for o,p in cold:\n",
    "    off.append(o)\n",
    "    perc.append(p)\n",
    "\n",
    "figure(figsize=(8, 6), dpi=100)\n",
    "plt.title(\"Odds of crime given  temperatures in Seattle, 2017\")\n",
    "plt.bar(off,perc)"
   ]
  },
  {
   "cell_type": "code",
   "execution_count": 48,
   "id": "8ffc0cd3",
   "metadata": {},
   "outputs": [
    {
     "data": {
      "text/plain": [
       "[('Property', 0.70089), ('Society', 0.13396), ('Person', 0.16514)]"
      ]
     },
     "execution_count": 48,
     "metadata": {},
     "output_type": "execute_result"
    }
   ],
   "source": [
    "mild"
   ]
  },
  {
   "cell_type": "code",
   "execution_count": 49,
   "id": "426a1188",
   "metadata": {},
   "outputs": [
    {
     "data": {
      "text/plain": [
       "<BarContainer object of 3 artists>"
      ]
     },
     "execution_count": 49,
     "metadata": {},
     "output_type": "execute_result"
    },
    {
     "data": {
      "image/png": "[encoded data removed]",
      "text/plain": [
       "<Figure size 800x600 with 1 Axes>"
      ]
     },
     "metadata": {
      "needs_background": "light"
     },
     "output_type": "display_data"
    }
   ],
   "source": [
    "off = []\n",
    "perc = []\n",
    "for o,p in mild:\n",
    "    off.append(o)\n",
    "    perc.append(p)\n",
    "\n",
    "figure(figsize=(8, 6), dpi=100)\n",
    "plt.title(\"Odds of crime given mild temperatures in Seattle, 2017\")\n",
    "plt.bar(off,perc)"
   ]
  },
  {
   "cell_type": "code",
   "execution_count": 50,
   "id": "09d2c480",
   "metadata": {},
   "outputs": [
    {
     "data": {
      "text/plain": [
       "[('Property', 0.6953), ('Society', 0.12318), ('Person', 0.18152)]"
      ]
     },
     "execution_count": 50,
     "metadata": {},
     "output_type": "execute_result"
    }
   ],
   "source": [
    "hot"
   ]
  },
  {
   "cell_type": "code",
   "execution_count": 51,
   "id": "d728f9de",
   "metadata": {},
   "outputs": [
    {
     "data": {
      "text/plain": [
       "<BarContainer object of 3 artists>"
      ]
     },
     "execution_count": 51,
     "metadata": {},
     "output_type": "execute_result"
    },
    {
     "data": {
      "image/png": "[encoded data removed]",
      "text/plain": [
       "<Figure size 800x600 with 1 Axes>"
      ]
     },
     "metadata": {
      "needs_background": "light"
     },
     "output_type": "display_data"
    }
   ],
   "source": [
    "off = []\n",
    "perc = []\n",
    "for o,p in hot:\n",
    "    off.append(o)\n",
    "    perc.append(p)\n",
    "\n",
    "figure(figsize=(8, 6), dpi=100)\n",
    "plt.title(\"Odds of crime given hot temperatures in Seattle, 2017\")\n",
    "plt.bar(off,perc)"
   ]
  },
  {
   "cell_type": "code",
   "execution_count": null,
   "id": "20ec8767",
   "metadata": {},
   "outputs": [],
   "source": []
  },
  {
   "cell_type": "code",
   "execution_count": null,
   "id": "431ef0ed",
   "metadata": {},
   "outputs": [],
   "source": []
  }
 ],
 "metadata": {
  "kernelspec": {
   "display_name": "Python 3 (ipykernel)",
   "language": "python",
   "name": "python3"
  },
  "language_info": {
   "codemirror_mode": {
    "name": "ipython",
    "version": 3
   },
   "file_extension": ".py",
   "mimetype": "text/x-python",
   "name": "python",
   "nbconvert_exporter": "python",
   "pygments_lexer": "ipython3",
   "version": "3.9.7"
  }
 },
 "nbformat": 4,
 "nbformat_minor": 5
}
