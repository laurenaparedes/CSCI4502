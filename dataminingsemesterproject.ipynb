{
 "cells": [
  {
   "cell_type": "markdown",
   "metadata": {},
   "source": [
    "Crime and weather"
   ]
  },
  {
   "cell_type": "code",
   "execution_count": 1,
   "metadata": {},
   "outputs": [],
   "source": [
    "import pandas as pd\n",
    "import numpy as np\n",
    "import pickle\n",
    "import matplotlib.pyplot as plt"
   ]
  },
  {
   "cell_type": "markdown",
   "metadata": {},
   "source": [
    "First I will read in both datasets as pandas dataframes"
   ]
  },
  {
   "cell_type": "code",
   "execution_count": 2,
   "metadata": {},
   "outputs": [],
   "source": [
    "crimeDF= pd.read_csv(\"crime.csv\", encoding='windows-1254')\n",
    "weatherDF = pd.read_csv(\"weather_data_long.csv\")\n",
    "weatherDF['month'] = pd.DatetimeIndex(weatherDF['Date']).month\n",
    "weatherDF['year'] = pd.DatetimeIndex(weatherDF['Date']).year\n",
    "crimeDF['year'] = pd.DatetimeIndex(crimeDF['FIRST_OCCURRENCE_DATE']).year\n",
    "crimeDF['month'] = pd.DatetimeIndex(crimeDF['FIRST_OCCURRENCE_DATE']).month\n"
   ]
  },
  {
   "cell_type": "code",
   "execution_count": 3,
   "metadata": {},
   "outputs": [
    {
     "data": {
      "text/plain": [
       "Date           0\n",
       "Time           0\n",
       "Temperature    0\n",
       "DewPoint       0\n",
       "Humidity       0\n",
       "Wind           0\n",
       "WinSpeed       0\n",
       "WindGust       0\n",
       "Pressure       0\n",
       "Precip.        0\n",
       "Condition      0\n",
       "month          0\n",
       "year           0\n",
       "dtype: int64"
      ]
     },
     "execution_count": 3,
     "metadata": {},
     "output_type": "execute_result"
    }
   ],
   "source": [
    "weatherDF= weatherDF.dropna()\n",
    "weatherDF.isna().sum()"
   ]
  },
  {
   "cell_type": "code",
   "execution_count": 4,
   "metadata": {},
   "outputs": [
    {
     "data": {
      "text/plain": [
       "incident_id               0\n",
       "offense_id                0\n",
       "OFFENSE_CODE              0\n",
       "OFFENSE_CODE_EXTENSION    0\n",
       "OFFENSE_TYPE_ID           0\n",
       "OFFENSE_CATEGORY_ID       0\n",
       "FIRST_OCCURRENCE_DATE     0\n",
       "LAST_OCCURRENCE_DATE      0\n",
       "REPORTED_DATE             0\n",
       "INCIDENT_ADDRESS          0\n",
       "GEO_X                     0\n",
       "GEO_Y                     0\n",
       "GEO_LON                   0\n",
       "GEO_LAT                   0\n",
       "DISTRICT_ID               0\n",
       "PRECINCT_ID               0\n",
       "NEIGHBORHOOD_ID           0\n",
       "IS_CRIME                  0\n",
       "IS_TRAFFIC                0\n",
       "VICTIM_COUNT              0\n",
       "year                      0\n",
       "month                     0\n",
       "dtype: int64"
      ]
     },
     "execution_count": 4,
     "metadata": {},
     "output_type": "execute_result"
    }
   ],
   "source": [
    "crimeDF= crimeDF.dropna()\n",
    "crimeDF.isna().sum()\n"
   ]
  },
  {
   "cell_type": "markdown",
   "metadata": {},
   "source": [
    "Quick look at the head of both dataframes to get a better idea of what I am working with"
   ]
  },
  {
   "cell_type": "code",
   "execution_count": 5,
   "metadata": {},
   "outputs": [
    {
     "data": {
      "text/html": [
       "<div>\n",
       "<style scoped>\n",
       "    .dataframe tbody tr th:only-of-type {\n",
       "        vertical-align: middle;\n",
       "    }\n",
       "\n",
       "    .dataframe tbody tr th {\n",
       "        vertical-align: top;\n",
       "    }\n",
       "\n",
       "    .dataframe thead th {\n",
       "        text-align: right;\n",
       "    }\n",
       "</style>\n",
       "<table border=\"1\" class=\"dataframe\">\n",
       "  <thead>\n",
       "    <tr style=\"text-align: right;\">\n",
       "      <th></th>\n",
       "      <th>Date</th>\n",
       "      <th>Time</th>\n",
       "      <th>Temperature</th>\n",
       "      <th>DewPoint</th>\n",
       "      <th>Humidity</th>\n",
       "      <th>Wind</th>\n",
       "      <th>WinSpeed</th>\n",
       "      <th>WindGust</th>\n",
       "      <th>Pressure</th>\n",
       "      <th>Precip.</th>\n",
       "      <th>Condition</th>\n",
       "      <th>month</th>\n",
       "      <th>year</th>\n",
       "    </tr>\n",
       "  </thead>\n",
       "  <tbody>\n",
       "    <tr>\n",
       "      <th>0</th>\n",
       "      <td>2002-01-01</td>\n",
       "      <td>12:53 AM</td>\n",
       "      <td>19</td>\n",
       "      <td>13</td>\n",
       "      <td>77</td>\n",
       "      <td>ENE</td>\n",
       "      <td>14</td>\n",
       "      <td>0</td>\n",
       "      <td>24.73</td>\n",
       "      <td>0.0</td>\n",
       "      <td>Cloudy</td>\n",
       "      <td>1</td>\n",
       "      <td>2002</td>\n",
       "    </tr>\n",
       "    <tr>\n",
       "      <th>1</th>\n",
       "      <td>2002-01-02</td>\n",
       "      <td>12:53 AM</td>\n",
       "      <td>10</td>\n",
       "      <td>-3</td>\n",
       "      <td>56</td>\n",
       "      <td>SE</td>\n",
       "      <td>5</td>\n",
       "      <td>0</td>\n",
       "      <td>24.94</td>\n",
       "      <td>0.0</td>\n",
       "      <td>Mostly Cloudy</td>\n",
       "      <td>1</td>\n",
       "      <td>2002</td>\n",
       "    </tr>\n",
       "    <tr>\n",
       "      <th>2</th>\n",
       "      <td>2002-01-04</td>\n",
       "      <td>12:53 AM</td>\n",
       "      <td>30</td>\n",
       "      <td>14</td>\n",
       "      <td>51</td>\n",
       "      <td>W</td>\n",
       "      <td>9</td>\n",
       "      <td>0</td>\n",
       "      <td>24.45</td>\n",
       "      <td>0.0</td>\n",
       "      <td>Partly Cloudy</td>\n",
       "      <td>1</td>\n",
       "      <td>2002</td>\n",
       "    </tr>\n",
       "    <tr>\n",
       "      <th>3</th>\n",
       "      <td>2002-01-05</td>\n",
       "      <td>12:53 AM</td>\n",
       "      <td>25</td>\n",
       "      <td>18</td>\n",
       "      <td>75</td>\n",
       "      <td>CALM</td>\n",
       "      <td>0</td>\n",
       "      <td>0</td>\n",
       "      <td>24.74</td>\n",
       "      <td>0.0</td>\n",
       "      <td>Mostly Cloudy</td>\n",
       "      <td>1</td>\n",
       "      <td>2002</td>\n",
       "    </tr>\n",
       "    <tr>\n",
       "      <th>4</th>\n",
       "      <td>2002-01-06</td>\n",
       "      <td>12:53 AM</td>\n",
       "      <td>23</td>\n",
       "      <td>9</td>\n",
       "      <td>55</td>\n",
       "      <td>SSE</td>\n",
       "      <td>13</td>\n",
       "      <td>0</td>\n",
       "      <td>24.74</td>\n",
       "      <td>0.0</td>\n",
       "      <td>Mostly Cloudy</td>\n",
       "      <td>1</td>\n",
       "      <td>2002</td>\n",
       "    </tr>\n",
       "    <tr>\n",
       "      <th>...</th>\n",
       "      <td>...</td>\n",
       "      <td>...</td>\n",
       "      <td>...</td>\n",
       "      <td>...</td>\n",
       "      <td>...</td>\n",
       "      <td>...</td>\n",
       "      <td>...</td>\n",
       "      <td>...</td>\n",
       "      <td>...</td>\n",
       "      <td>...</td>\n",
       "      <td>...</td>\n",
       "      <td>...</td>\n",
       "      <td>...</td>\n",
       "    </tr>\n",
       "    <tr>\n",
       "      <th>145228</th>\n",
       "      <td>2020-10-20</td>\n",
       "      <td>7:53 PM</td>\n",
       "      <td>48</td>\n",
       "      <td>32</td>\n",
       "      <td>54</td>\n",
       "      <td>E</td>\n",
       "      <td>6</td>\n",
       "      <td>0</td>\n",
       "      <td>24.64</td>\n",
       "      <td>0.0</td>\n",
       "      <td>Mostly Cloudy</td>\n",
       "      <td>10</td>\n",
       "      <td>2020</td>\n",
       "    </tr>\n",
       "    <tr>\n",
       "      <th>145229</th>\n",
       "      <td>2020-10-20</td>\n",
       "      <td>8:53 PM</td>\n",
       "      <td>45</td>\n",
       "      <td>31</td>\n",
       "      <td>58</td>\n",
       "      <td>SE</td>\n",
       "      <td>8</td>\n",
       "      <td>0</td>\n",
       "      <td>24.65</td>\n",
       "      <td>0.0</td>\n",
       "      <td>Mostly Cloudy</td>\n",
       "      <td>10</td>\n",
       "      <td>2020</td>\n",
       "    </tr>\n",
       "    <tr>\n",
       "      <th>145230</th>\n",
       "      <td>2020-10-20</td>\n",
       "      <td>9:53 PM</td>\n",
       "      <td>41</td>\n",
       "      <td>29</td>\n",
       "      <td>62</td>\n",
       "      <td>SSE</td>\n",
       "      <td>10</td>\n",
       "      <td>0</td>\n",
       "      <td>24.65</td>\n",
       "      <td>0.0</td>\n",
       "      <td>Partly Cloudy</td>\n",
       "      <td>10</td>\n",
       "      <td>2020</td>\n",
       "    </tr>\n",
       "    <tr>\n",
       "      <th>145231</th>\n",
       "      <td>2020-10-20</td>\n",
       "      <td>10:53 PM</td>\n",
       "      <td>40</td>\n",
       "      <td>29</td>\n",
       "      <td>65</td>\n",
       "      <td>SSE</td>\n",
       "      <td>12</td>\n",
       "      <td>0</td>\n",
       "      <td>24.65</td>\n",
       "      <td>0.0</td>\n",
       "      <td>Fair</td>\n",
       "      <td>10</td>\n",
       "      <td>2020</td>\n",
       "    </tr>\n",
       "    <tr>\n",
       "      <th>145232</th>\n",
       "      <td>2020-10-20</td>\n",
       "      <td>11:53 PM</td>\n",
       "      <td>39</td>\n",
       "      <td>28</td>\n",
       "      <td>65</td>\n",
       "      <td>SSE</td>\n",
       "      <td>10</td>\n",
       "      <td>0</td>\n",
       "      <td>24.64</td>\n",
       "      <td>0.0</td>\n",
       "      <td>Fair</td>\n",
       "      <td>10</td>\n",
       "      <td>2020</td>\n",
       "    </tr>\n",
       "  </tbody>\n",
       "</table>\n",
       "<p>145032 rows × 13 columns</p>\n",
       "</div>"
      ],
      "text/plain": [
       "              Date      Time  Temperature  DewPoint  Humidity  Wind  WinSpeed  \\\n",
       "0       2002-01-01  12:53 AM           19        13        77   ENE        14   \n",
       "1       2002-01-02  12:53 AM           10        -3        56    SE         5   \n",
       "2       2002-01-04  12:53 AM           30        14        51     W         9   \n",
       "3       2002-01-05  12:53 AM           25        18        75  CALM         0   \n",
       "4       2002-01-06  12:53 AM           23         9        55   SSE        13   \n",
       "...            ...       ...          ...       ...       ...   ...       ...   \n",
       "145228  2020-10-20   7:53 PM           48        32        54     E         6   \n",
       "145229  2020-10-20   8:53 PM           45        31        58    SE         8   \n",
       "145230  2020-10-20   9:53 PM           41        29        62   SSE        10   \n",
       "145231  2020-10-20  10:53 PM           40        29        65   SSE        12   \n",
       "145232  2020-10-20  11:53 PM           39        28        65   SSE        10   \n",
       "\n",
       "        WindGust  Pressure  Precip.      Condition  month  year  \n",
       "0              0     24.73      0.0         Cloudy      1  2002  \n",
       "1              0     24.94      0.0  Mostly Cloudy      1  2002  \n",
       "2              0     24.45      0.0  Partly Cloudy      1  2002  \n",
       "3              0     24.74      0.0  Mostly Cloudy      1  2002  \n",
       "4              0     24.74      0.0  Mostly Cloudy      1  2002  \n",
       "...          ...       ...      ...            ...    ...   ...  \n",
       "145228         0     24.64      0.0  Mostly Cloudy     10  2020  \n",
       "145229         0     24.65      0.0  Mostly Cloudy     10  2020  \n",
       "145230         0     24.65      0.0  Partly Cloudy     10  2020  \n",
       "145231         0     24.65      0.0           Fair     10  2020  \n",
       "145232         0     24.64      0.0           Fair     10  2020  \n",
       "\n",
       "[145032 rows x 13 columns]"
      ]
     },
     "metadata": {},
     "output_type": "display_data"
    }
   ],
   "source": [
    "display(weatherDF)"
   ]
  },
  {
   "cell_type": "code",
   "execution_count": 6,
   "metadata": {},
   "outputs": [
    {
     "data": {
      "text/html": [
       "<div>\n",
       "<style scoped>\n",
       "    .dataframe tbody tr th:only-of-type {\n",
       "        vertical-align: middle;\n",
       "    }\n",
       "\n",
       "    .dataframe tbody tr th {\n",
       "        vertical-align: top;\n",
       "    }\n",
       "\n",
       "    .dataframe thead th {\n",
       "        text-align: right;\n",
       "    }\n",
       "</style>\n",
       "<table border=\"1\" class=\"dataframe\">\n",
       "  <thead>\n",
       "    <tr style=\"text-align: right;\">\n",
       "      <th></th>\n",
       "      <th>incident_id</th>\n",
       "      <th>offense_id</th>\n",
       "      <th>OFFENSE_CODE</th>\n",
       "      <th>OFFENSE_CODE_EXTENSION</th>\n",
       "      <th>OFFENSE_TYPE_ID</th>\n",
       "      <th>OFFENSE_CATEGORY_ID</th>\n",
       "      <th>FIRST_OCCURRENCE_DATE</th>\n",
       "      <th>LAST_OCCURRENCE_DATE</th>\n",
       "      <th>REPORTED_DATE</th>\n",
       "      <th>INCIDENT_ADDRESS</th>\n",
       "      <th>...</th>\n",
       "      <th>GEO_LON</th>\n",
       "      <th>GEO_LAT</th>\n",
       "      <th>DISTRICT_ID</th>\n",
       "      <th>PRECINCT_ID</th>\n",
       "      <th>NEIGHBORHOOD_ID</th>\n",
       "      <th>IS_CRIME</th>\n",
       "      <th>IS_TRAFFIC</th>\n",
       "      <th>VICTIM_COUNT</th>\n",
       "      <th>year</th>\n",
       "      <th>month</th>\n",
       "    </tr>\n",
       "  </thead>\n",
       "  <tbody>\n",
       "    <tr>\n",
       "      <th>8</th>\n",
       "      <td>2017590611</td>\n",
       "      <td>2017590611299900</td>\n",
       "      <td>2999</td>\n",
       "      <td>0</td>\n",
       "      <td>criminal-mischief-other</td>\n",
       "      <td>public-disorder</td>\n",
       "      <td>9/2/2017 2:30:00 PM</td>\n",
       "      <td>9/2/2017 5:00:00 PM</td>\n",
       "      <td>9/3/2017 11:25:00 AM</td>\n",
       "      <td>3663 S SHERIDAN BLVD</td>\n",
       "      <td>...</td>\n",
       "      <td>-105.055221</td>\n",
       "      <td>39.650424</td>\n",
       "      <td>4</td>\n",
       "      <td>423</td>\n",
       "      <td>fort-logan</td>\n",
       "      <td>1</td>\n",
       "      <td>0</td>\n",
       "      <td>1</td>\n",
       "      <td>2017</td>\n",
       "      <td>9</td>\n",
       "    </tr>\n",
       "    <tr>\n",
       "      <th>15</th>\n",
       "      <td>2017211064</td>\n",
       "      <td>2017211064299900</td>\n",
       "      <td>2999</td>\n",
       "      <td>0</td>\n",
       "      <td>criminal-mischief-other</td>\n",
       "      <td>public-disorder</td>\n",
       "      <td>4/1/2017 4:20:00 AM</td>\n",
       "      <td>4/1/2017 4:25:00 AM</td>\n",
       "      <td>4/1/2017 4:38:00 AM</td>\n",
       "      <td>401 S MEADE ST</td>\n",
       "      <td>...</td>\n",
       "      <td>-105.036554</td>\n",
       "      <td>39.709233</td>\n",
       "      <td>4</td>\n",
       "      <td>412</td>\n",
       "      <td>westwood</td>\n",
       "      <td>1</td>\n",
       "      <td>0</td>\n",
       "      <td>1</td>\n",
       "      <td>2017</td>\n",
       "      <td>4</td>\n",
       "    </tr>\n",
       "    <tr>\n",
       "      <th>16</th>\n",
       "      <td>2017864878</td>\n",
       "      <td>2017864878299900</td>\n",
       "      <td>2999</td>\n",
       "      <td>0</td>\n",
       "      <td>criminal-mischief-other</td>\n",
       "      <td>public-disorder</td>\n",
       "      <td>12/28/2017 7:00:00 PM</td>\n",
       "      <td>12/29/2017 6:36:00 AM</td>\n",
       "      <td>12/29/2017 7:51:00 AM</td>\n",
       "      <td>2141 S BROADWAY ST</td>\n",
       "      <td>...</td>\n",
       "      <td>-104.987975</td>\n",
       "      <td>39.677702</td>\n",
       "      <td>3</td>\n",
       "      <td>313</td>\n",
       "      <td>overland</td>\n",
       "      <td>1</td>\n",
       "      <td>0</td>\n",
       "      <td>1</td>\n",
       "      <td>2017</td>\n",
       "      <td>12</td>\n",
       "    </tr>\n",
       "    <tr>\n",
       "      <th>17</th>\n",
       "      <td>2017158231</td>\n",
       "      <td>2017158231299900</td>\n",
       "      <td>2999</td>\n",
       "      <td>0</td>\n",
       "      <td>criminal-mischief-other</td>\n",
       "      <td>public-disorder</td>\n",
       "      <td>3/8/2017 9:12:00 PM</td>\n",
       "      <td>3/9/2017 9:25:00 AM</td>\n",
       "      <td>3/9/2017 9:38:00 AM</td>\n",
       "      <td>1319 22ND ST</td>\n",
       "      <td>...</td>\n",
       "      <td>-104.990219</td>\n",
       "      <td>39.755170</td>\n",
       "      <td>6</td>\n",
       "      <td>612</td>\n",
       "      <td>five-points</td>\n",
       "      <td>1</td>\n",
       "      <td>0</td>\n",
       "      <td>1</td>\n",
       "      <td>2017</td>\n",
       "      <td>3</td>\n",
       "    </tr>\n",
       "    <tr>\n",
       "      <th>18</th>\n",
       "      <td>201747277</td>\n",
       "      <td>201747277299900</td>\n",
       "      <td>2999</td>\n",
       "      <td>0</td>\n",
       "      <td>criminal-mischief-other</td>\n",
       "      <td>public-disorder</td>\n",
       "      <td>1/22/2017 5:00:00 AM</td>\n",
       "      <td>1/22/2017 5:15:00 AM</td>\n",
       "      <td>1/22/2017 6:29:00 AM</td>\n",
       "      <td>2880 S LOCUST ST</td>\n",
       "      <td>...</td>\n",
       "      <td>-104.914776</td>\n",
       "      <td>39.664921</td>\n",
       "      <td>3</td>\n",
       "      <td>323</td>\n",
       "      <td>hampden</td>\n",
       "      <td>1</td>\n",
       "      <td>0</td>\n",
       "      <td>1</td>\n",
       "      <td>2017</td>\n",
       "      <td>1</td>\n",
       "    </tr>\n",
       "    <tr>\n",
       "      <th>...</th>\n",
       "      <td>...</td>\n",
       "      <td>...</td>\n",
       "      <td>...</td>\n",
       "      <td>...</td>\n",
       "      <td>...</td>\n",
       "      <td>...</td>\n",
       "      <td>...</td>\n",
       "      <td>...</td>\n",
       "      <td>...</td>\n",
       "      <td>...</td>\n",
       "      <td>...</td>\n",
       "      <td>...</td>\n",
       "      <td>...</td>\n",
       "      <td>...</td>\n",
       "      <td>...</td>\n",
       "      <td>...</td>\n",
       "      <td>...</td>\n",
       "      <td>...</td>\n",
       "      <td>...</td>\n",
       "      <td>...</td>\n",
       "      <td>...</td>\n",
       "    </tr>\n",
       "    <tr>\n",
       "      <th>397580</th>\n",
       "      <td>2022485983</td>\n",
       "      <td>2022485983260900</td>\n",
       "      <td>2609</td>\n",
       "      <td>0</td>\n",
       "      <td>fraud-by-use-of-computer</td>\n",
       "      <td>white-collar-crime</td>\n",
       "      <td>9/15/2022 12:00:00 AM</td>\n",
       "      <td>9/20/2022 12:00:00 AM</td>\n",
       "      <td>9/20/2022 12:49:00 PM</td>\n",
       "      <td>1235 N GRANT ST</td>\n",
       "      <td>...</td>\n",
       "      <td>-104.983990</td>\n",
       "      <td>39.736036</td>\n",
       "      <td>6</td>\n",
       "      <td>623</td>\n",
       "      <td>capitol-hill</td>\n",
       "      <td>1</td>\n",
       "      <td>0</td>\n",
       "      <td>1</td>\n",
       "      <td>2022</td>\n",
       "      <td>9</td>\n",
       "    </tr>\n",
       "    <tr>\n",
       "      <th>397581</th>\n",
       "      <td>20228042873</td>\n",
       "      <td>20228042873269903</td>\n",
       "      <td>2699</td>\n",
       "      <td>3</td>\n",
       "      <td>theft-of-services</td>\n",
       "      <td>larceny</td>\n",
       "      <td>9/23/2022 7:39:00 AM</td>\n",
       "      <td>9/23/2022 8:05:00 AM</td>\n",
       "      <td>9/23/2022 8:05:00 AM</td>\n",
       "      <td>8511 PENA BLVD</td>\n",
       "      <td>...</td>\n",
       "      <td>-104.667270</td>\n",
       "      <td>39.850723</td>\n",
       "      <td>7</td>\n",
       "      <td>759</td>\n",
       "      <td>dia</td>\n",
       "      <td>1</td>\n",
       "      <td>0</td>\n",
       "      <td>1</td>\n",
       "      <td>2022</td>\n",
       "      <td>9</td>\n",
       "    </tr>\n",
       "    <tr>\n",
       "      <th>397582</th>\n",
       "      <td>2022491659</td>\n",
       "      <td>2022491659269903</td>\n",
       "      <td>2699</td>\n",
       "      <td>3</td>\n",
       "      <td>theft-of-services</td>\n",
       "      <td>larceny</td>\n",
       "      <td>9/23/2022 11:00:00 AM</td>\n",
       "      <td>9/23/2022 11:15:00 AM</td>\n",
       "      <td>9/23/2022 11:56:00 AM</td>\n",
       "      <td>900 W ALAMEDA AVE</td>\n",
       "      <td>...</td>\n",
       "      <td>-104.997323</td>\n",
       "      <td>39.710777</td>\n",
       "      <td>3</td>\n",
       "      <td>312</td>\n",
       "      <td>baker</td>\n",
       "      <td>1</td>\n",
       "      <td>0</td>\n",
       "      <td>1</td>\n",
       "      <td>2022</td>\n",
       "      <td>9</td>\n",
       "    </tr>\n",
       "    <tr>\n",
       "      <th>397586</th>\n",
       "      <td>2022493303</td>\n",
       "      <td>2022493303131506</td>\n",
       "      <td>1315</td>\n",
       "      <td>6</td>\n",
       "      <td>agg-aslt-shoot</td>\n",
       "      <td>aggravated-assault</td>\n",
       "      <td>9/24/2022 2:30:00 AM</td>\n",
       "      <td>9/24/2022 3:00:00 AM</td>\n",
       "      <td>9/24/2022 4:31:00 AM</td>\n",
       "      <td>4500 BLK E 9TH AVE</td>\n",
       "      <td>...</td>\n",
       "      <td>-104.934029</td>\n",
       "      <td>39.732320</td>\n",
       "      <td>2</td>\n",
       "      <td>222</td>\n",
       "      <td>hale</td>\n",
       "      <td>1</td>\n",
       "      <td>0</td>\n",
       "      <td>1</td>\n",
       "      <td>2022</td>\n",
       "      <td>9</td>\n",
       "    </tr>\n",
       "    <tr>\n",
       "      <th>397587</th>\n",
       "      <td>2022495516</td>\n",
       "      <td>2022495516131506</td>\n",
       "      <td>1315</td>\n",
       "      <td>6</td>\n",
       "      <td>agg-aslt-shoot</td>\n",
       "      <td>aggravated-assault</td>\n",
       "      <td>9/23/2022 12:00:00 AM</td>\n",
       "      <td>9/24/2022 1:00:00 AM</td>\n",
       "      <td>9/25/2022 12:32:00 PM</td>\n",
       "      <td>3500 WALNUT ST</td>\n",
       "      <td>...</td>\n",
       "      <td>-104.974995</td>\n",
       "      <td>39.767704</td>\n",
       "      <td>2</td>\n",
       "      <td>211</td>\n",
       "      <td>five-points</td>\n",
       "      <td>1</td>\n",
       "      <td>0</td>\n",
       "      <td>1</td>\n",
       "      <td>2022</td>\n",
       "      <td>9</td>\n",
       "    </tr>\n",
       "  </tbody>\n",
       "</table>\n",
       "<p>198907 rows × 22 columns</p>\n",
       "</div>"
      ],
      "text/plain": [
       "        incident_id         offense_id  OFFENSE_CODE  OFFENSE_CODE_EXTENSION  \\\n",
       "8        2017590611   2017590611299900          2999                       0   \n",
       "15       2017211064   2017211064299900          2999                       0   \n",
       "16       2017864878   2017864878299900          2999                       0   \n",
       "17       2017158231   2017158231299900          2999                       0   \n",
       "18        201747277    201747277299900          2999                       0   \n",
       "...             ...                ...           ...                     ...   \n",
       "397580   2022485983   2022485983260900          2609                       0   \n",
       "397581  20228042873  20228042873269903          2699                       3   \n",
       "397582   2022491659   2022491659269903          2699                       3   \n",
       "397586   2022493303   2022493303131506          1315                       6   \n",
       "397587   2022495516   2022495516131506          1315                       6   \n",
       "\n",
       "                 OFFENSE_TYPE_ID OFFENSE_CATEGORY_ID  FIRST_OCCURRENCE_DATE  \\\n",
       "8        criminal-mischief-other     public-disorder    9/2/2017 2:30:00 PM   \n",
       "15       criminal-mischief-other     public-disorder    4/1/2017 4:20:00 AM   \n",
       "16       criminal-mischief-other     public-disorder  12/28/2017 7:00:00 PM   \n",
       "17       criminal-mischief-other     public-disorder    3/8/2017 9:12:00 PM   \n",
       "18       criminal-mischief-other     public-disorder   1/22/2017 5:00:00 AM   \n",
       "...                          ...                 ...                    ...   \n",
       "397580  fraud-by-use-of-computer  white-collar-crime  9/15/2022 12:00:00 AM   \n",
       "397581         theft-of-services             larceny   9/23/2022 7:39:00 AM   \n",
       "397582         theft-of-services             larceny  9/23/2022 11:00:00 AM   \n",
       "397586            agg-aslt-shoot  aggravated-assault   9/24/2022 2:30:00 AM   \n",
       "397587            agg-aslt-shoot  aggravated-assault  9/23/2022 12:00:00 AM   \n",
       "\n",
       "         LAST_OCCURRENCE_DATE          REPORTED_DATE      INCIDENT_ADDRESS  \\\n",
       "8         9/2/2017 5:00:00 PM   9/3/2017 11:25:00 AM  3663 S SHERIDAN BLVD   \n",
       "15        4/1/2017 4:25:00 AM    4/1/2017 4:38:00 AM        401 S MEADE ST   \n",
       "16      12/29/2017 6:36:00 AM  12/29/2017 7:51:00 AM    2141 S BROADWAY ST   \n",
       "17        3/9/2017 9:25:00 AM    3/9/2017 9:38:00 AM          1319 22ND ST   \n",
       "18       1/22/2017 5:15:00 AM   1/22/2017 6:29:00 AM      2880 S LOCUST ST   \n",
       "...                       ...                    ...                   ...   \n",
       "397580  9/20/2022 12:00:00 AM  9/20/2022 12:49:00 PM       1235 N GRANT ST   \n",
       "397581   9/23/2022 8:05:00 AM   9/23/2022 8:05:00 AM        8511 PENA BLVD   \n",
       "397582  9/23/2022 11:15:00 AM  9/23/2022 11:56:00 AM     900 W ALAMEDA AVE   \n",
       "397586   9/24/2022 3:00:00 AM   9/24/2022 4:31:00 AM    4500 BLK E 9TH AVE   \n",
       "397587   9/24/2022 1:00:00 AM  9/25/2022 12:32:00 PM        3500 WALNUT ST   \n",
       "\n",
       "        ...     GEO_LON    GEO_LAT  DISTRICT_ID  PRECINCT_ID NEIGHBORHOOD_ID  \\\n",
       "8       ... -105.055221  39.650424            4          423      fort-logan   \n",
       "15      ... -105.036554  39.709233            4          412        westwood   \n",
       "16      ... -104.987975  39.677702            3          313        overland   \n",
       "17      ... -104.990219  39.755170            6          612     five-points   \n",
       "18      ... -104.914776  39.664921            3          323         hampden   \n",
       "...     ...         ...        ...          ...          ...             ...   \n",
       "397580  ... -104.983990  39.736036            6          623    capitol-hill   \n",
       "397581  ... -104.667270  39.850723            7          759             dia   \n",
       "397582  ... -104.997323  39.710777            3          312           baker   \n",
       "397586  ... -104.934029  39.732320            2          222            hale   \n",
       "397587  ... -104.974995  39.767704            2          211     five-points   \n",
       "\n",
       "        IS_CRIME IS_TRAFFIC  VICTIM_COUNT  year  month  \n",
       "8              1          0             1  2017      9  \n",
       "15             1          0             1  2017      4  \n",
       "16             1          0             1  2017     12  \n",
       "17             1          0             1  2017      3  \n",
       "18             1          0             1  2017      1  \n",
       "...          ...        ...           ...   ...    ...  \n",
       "397580         1          0             1  2022      9  \n",
       "397581         1          0             1  2022      9  \n",
       "397582         1          0             1  2022      9  \n",
       "397586         1          0             1  2022      9  \n",
       "397587         1          0             1  2022      9  \n",
       "\n",
       "[198907 rows x 22 columns]"
      ]
     },
     "metadata": {},
     "output_type": "display_data"
    }
   ],
   "source": [
    "display(crimeDF)"
   ]
  },
  {
   "cell_type": "code",
   "execution_count": 7,
   "metadata": {},
   "outputs": [],
   "source": [
    "del weatherDF['Time']"
   ]
  },
  {
   "cell_type": "markdown",
   "metadata": {},
   "source": [
    "\n",
    "Data prep for Denver weather"
   ]
  },
  {
   "cell_type": "code",
   "execution_count": 8,
   "metadata": {},
   "outputs": [],
   "source": [
    "del weatherDF[\"DewPoint\"]\n",
    "del weatherDF[\"WindGust\"]\n",
    "del weatherDF[\"Precip.\"]\n",
    "# del weatherDF[\"Condition\"]\n",
    "del weatherDF[\"Humidity\"]"
   ]
  },
  {
   "cell_type": "code",
   "execution_count": 9,
   "metadata": {},
   "outputs": [
    {
     "data": {
      "text/plain": [
       "Date           0\n",
       "Temperature    0\n",
       "Wind           0\n",
       "WinSpeed       0\n",
       "Pressure       0\n",
       "Condition      0\n",
       "month          0\n",
       "year           0\n",
       "dtype: int64"
      ]
     },
     "execution_count": 9,
     "metadata": {},
     "output_type": "execute_result"
    }
   ],
   "source": [
    "weatherDF.isna().sum()\n"
   ]
  },
  {
   "cell_type": "code",
   "execution_count": 10,
   "metadata": {},
   "outputs": [
    {
     "data": {
      "text/html": [
       "<div>\n",
       "<style scoped>\n",
       "    .dataframe tbody tr th:only-of-type {\n",
       "        vertical-align: middle;\n",
       "    }\n",
       "\n",
       "    .dataframe tbody tr th {\n",
       "        vertical-align: top;\n",
       "    }\n",
       "\n",
       "    .dataframe thead th {\n",
       "        text-align: right;\n",
       "    }\n",
       "</style>\n",
       "<table border=\"1\" class=\"dataframe\">\n",
       "  <thead>\n",
       "    <tr style=\"text-align: right;\">\n",
       "      <th></th>\n",
       "      <th>Date</th>\n",
       "      <th>Temperature</th>\n",
       "      <th>Wind</th>\n",
       "      <th>WinSpeed</th>\n",
       "      <th>Pressure</th>\n",
       "      <th>Condition</th>\n",
       "      <th>month</th>\n",
       "      <th>year</th>\n",
       "    </tr>\n",
       "  </thead>\n",
       "  <tbody>\n",
       "    <tr>\n",
       "      <th>0</th>\n",
       "      <td>2002-01-01</td>\n",
       "      <td>19</td>\n",
       "      <td>ENE</td>\n",
       "      <td>14</td>\n",
       "      <td>24.73</td>\n",
       "      <td>Cloudy</td>\n",
       "      <td>1</td>\n",
       "      <td>2002</td>\n",
       "    </tr>\n",
       "    <tr>\n",
       "      <th>1</th>\n",
       "      <td>2002-01-02</td>\n",
       "      <td>10</td>\n",
       "      <td>SE</td>\n",
       "      <td>5</td>\n",
       "      <td>24.94</td>\n",
       "      <td>Mostly Cloudy</td>\n",
       "      <td>1</td>\n",
       "      <td>2002</td>\n",
       "    </tr>\n",
       "    <tr>\n",
       "      <th>2</th>\n",
       "      <td>2002-01-04</td>\n",
       "      <td>30</td>\n",
       "      <td>W</td>\n",
       "      <td>9</td>\n",
       "      <td>24.45</td>\n",
       "      <td>Partly Cloudy</td>\n",
       "      <td>1</td>\n",
       "      <td>2002</td>\n",
       "    </tr>\n",
       "    <tr>\n",
       "      <th>3</th>\n",
       "      <td>2002-01-05</td>\n",
       "      <td>25</td>\n",
       "      <td>CALM</td>\n",
       "      <td>0</td>\n",
       "      <td>24.74</td>\n",
       "      <td>Mostly Cloudy</td>\n",
       "      <td>1</td>\n",
       "      <td>2002</td>\n",
       "    </tr>\n",
       "    <tr>\n",
       "      <th>4</th>\n",
       "      <td>2002-01-06</td>\n",
       "      <td>23</td>\n",
       "      <td>SSE</td>\n",
       "      <td>13</td>\n",
       "      <td>24.74</td>\n",
       "      <td>Mostly Cloudy</td>\n",
       "      <td>1</td>\n",
       "      <td>2002</td>\n",
       "    </tr>\n",
       "    <tr>\n",
       "      <th>...</th>\n",
       "      <td>...</td>\n",
       "      <td>...</td>\n",
       "      <td>...</td>\n",
       "      <td>...</td>\n",
       "      <td>...</td>\n",
       "      <td>...</td>\n",
       "      <td>...</td>\n",
       "      <td>...</td>\n",
       "    </tr>\n",
       "    <tr>\n",
       "      <th>145228</th>\n",
       "      <td>2020-10-20</td>\n",
       "      <td>48</td>\n",
       "      <td>E</td>\n",
       "      <td>6</td>\n",
       "      <td>24.64</td>\n",
       "      <td>Mostly Cloudy</td>\n",
       "      <td>10</td>\n",
       "      <td>2020</td>\n",
       "    </tr>\n",
       "    <tr>\n",
       "      <th>145229</th>\n",
       "      <td>2020-10-20</td>\n",
       "      <td>45</td>\n",
       "      <td>SE</td>\n",
       "      <td>8</td>\n",
       "      <td>24.65</td>\n",
       "      <td>Mostly Cloudy</td>\n",
       "      <td>10</td>\n",
       "      <td>2020</td>\n",
       "    </tr>\n",
       "    <tr>\n",
       "      <th>145230</th>\n",
       "      <td>2020-10-20</td>\n",
       "      <td>41</td>\n",
       "      <td>SSE</td>\n",
       "      <td>10</td>\n",
       "      <td>24.65</td>\n",
       "      <td>Partly Cloudy</td>\n",
       "      <td>10</td>\n",
       "      <td>2020</td>\n",
       "    </tr>\n",
       "    <tr>\n",
       "      <th>145231</th>\n",
       "      <td>2020-10-20</td>\n",
       "      <td>40</td>\n",
       "      <td>SSE</td>\n",
       "      <td>12</td>\n",
       "      <td>24.65</td>\n",
       "      <td>Fair</td>\n",
       "      <td>10</td>\n",
       "      <td>2020</td>\n",
       "    </tr>\n",
       "    <tr>\n",
       "      <th>145232</th>\n",
       "      <td>2020-10-20</td>\n",
       "      <td>39</td>\n",
       "      <td>SSE</td>\n",
       "      <td>10</td>\n",
       "      <td>24.64</td>\n",
       "      <td>Fair</td>\n",
       "      <td>10</td>\n",
       "      <td>2020</td>\n",
       "    </tr>\n",
       "  </tbody>\n",
       "</table>\n",
       "<p>145032 rows × 8 columns</p>\n",
       "</div>"
      ],
      "text/plain": [
       "              Date  Temperature  Wind  WinSpeed  Pressure      Condition  \\\n",
       "0       2002-01-01           19   ENE        14     24.73         Cloudy   \n",
       "1       2002-01-02           10    SE         5     24.94  Mostly Cloudy   \n",
       "2       2002-01-04           30     W         9     24.45  Partly Cloudy   \n",
       "3       2002-01-05           25  CALM         0     24.74  Mostly Cloudy   \n",
       "4       2002-01-06           23   SSE        13     24.74  Mostly Cloudy   \n",
       "...            ...          ...   ...       ...       ...            ...   \n",
       "145228  2020-10-20           48     E         6     24.64  Mostly Cloudy   \n",
       "145229  2020-10-20           45    SE         8     24.65  Mostly Cloudy   \n",
       "145230  2020-10-20           41   SSE        10     24.65  Partly Cloudy   \n",
       "145231  2020-10-20           40   SSE        12     24.65           Fair   \n",
       "145232  2020-10-20           39   SSE        10     24.64           Fair   \n",
       "\n",
       "        month  year  \n",
       "0           1  2002  \n",
       "1           1  2002  \n",
       "2           1  2002  \n",
       "3           1  2002  \n",
       "4           1  2002  \n",
       "...       ...   ...  \n",
       "145228     10  2020  \n",
       "145229     10  2020  \n",
       "145230     10  2020  \n",
       "145231     10  2020  \n",
       "145232     10  2020  \n",
       "\n",
       "[145032 rows x 8 columns]"
      ]
     },
     "metadata": {},
     "output_type": "display_data"
    }
   ],
   "source": [
    "display(weatherDF)"
   ]
  },
  {
   "cell_type": "code",
   "execution_count": 11,
   "metadata": {},
   "outputs": [
    {
     "data": {
      "image/png": "[encoded data removed]",
      "text/plain": [
       "<Figure size 432x288 with 1 Axes>"
      ]
     },
     "metadata": {
      "needs_background": "light"
     },
     "output_type": "display_data"
    }
   ],
   "source": [
    "plt.scatter(weatherDF[\"Date\"], weatherDF[\"Temperature\"])\n",
    "plt.title(\"Temperature vs Date Denver\")\n",
    "plt.xlabel(\"Date\")\n",
    "plt.ylabel(\"Temp (F)\")\n",
    "plt.show()\n"
   ]
  },
  {
   "cell_type": "code",
   "execution_count": null,
   "metadata": {},
   "outputs": [],
   "source": []
  },
  {
   "cell_type": "markdown",
   "metadata": {},
   "source": [
    "Clean up and prep of Denver Crime"
   ]
  },
  {
   "cell_type": "markdown",
   "metadata": {},
   "source": [
    "break down occurrence and report date into datetime objects"
   ]
  },
  {
   "cell_type": "markdown",
   "metadata": {},
   "source": [
    "Now I am going to drop the columns that I do not need/columns that are incomplete: incidentID,offenseID, offense code, offense code extension, first occurrence date, last occurrence date, reported date, victim count as well as  geo x, geo y, geo lon, geo lat"
   ]
  },
  {
   "cell_type": "code",
   "execution_count": 12,
   "metadata": {},
   "outputs": [],
   "source": [
    "del crimeDF[\"incident_id\"]\n",
    "del crimeDF[\"offense_id\"]\n",
    "del crimeDF[\"OFFENSE_CODE\"]\n",
    "del crimeDF[\"OFFENSE_CODE_EXTENSION\"]\n",
    "del crimeDF[\"FIRST_OCCURRENCE_DATE\"]\n",
    "del crimeDF[\"LAST_OCCURRENCE_DATE\"]\n",
    "del crimeDF[\"REPORTED_DATE\"]\n",
    "del crimeDF[\"VICTIM_COUNT\"]\n",
    "del crimeDF[\"GEO_X\"]\n",
    "del crimeDF[\"GEO_Y\"]\n",
    "del crimeDF[\"GEO_LON\"]\n",
    "del crimeDF[\"GEO_LAT\"]\n",
    "del crimeDF[\"DISTRICT_ID\"]\n",
    "del crimeDF[\"PRECINCT_ID\"]\n",
    "del crimeDF[\"NEIGHBORHOOD_ID\"]\n",
    "del crimeDF[\"IS_CRIME\"]\n",
    "del crimeDF[\"IS_TRAFFIC\"]"
   ]
  },
  {
   "cell_type": "code",
   "execution_count": 13,
   "metadata": {},
   "outputs": [],
   "source": [
    "del crimeDF[\"INCIDENT_ADDRESS\"]"
   ]
  },
  {
   "cell_type": "markdown",
   "metadata": {},
   "source": [
    "Exploratory analysis"
   ]
  },
  {
   "cell_type": "markdown",
   "metadata": {},
   "source": [
    "Count the amount of occurrences by offense type ID"
   ]
  },
  {
   "cell_type": "code",
   "execution_count": 14,
   "metadata": {},
   "outputs": [
    {
     "name": "stdout",
     "output_type": "stream",
     "text": [
      "theft-of-motor-vehicle       37185\n",
      "theft-items-from-vehicle     33924\n",
      "theft-parts-from-vehicle     19775\n",
      "criminal-mischief-mtr-veh    17217\n",
      "theft-other                  15047\n",
      "                             ...  \n",
      "prostitution-pimping             1\n",
      "bigamy                           1\n",
      "homicide-conspiracy              1\n",
      "probation-violation              1\n",
      "homicide-negligent               1\n",
      "Name: OFFENSE_TYPE_ID, Length: 163, dtype: int64\n"
     ]
    },
    {
     "data": {
      "text/plain": [
       "Text(0, 0.5, 'Number of Occurrences')"
      ]
     },
     "execution_count": 14,
     "metadata": {},
     "output_type": "execute_result"
    },
    {
     "data": {
      "image/png": "[encoded data removed]",
      "text/plain": [
       "<Figure size 432x288 with 1 Axes>"
      ]
     },
     "metadata": {
      "needs_background": "light"
     },
     "output_type": "display_data"
    }
   ],
   "source": [
    "# print(crimeDF[\"OFFENSE_TYPE_ID\"].value_counts())\n",
    "offenseType =(crimeDF[\"OFFENSE_TYPE_ID\"].value_counts())\n",
    "print(offenseType)\n",
    "crimeDF.shape\n",
    "ax = offenseType.plot(title=\"Count distribution of offense type ID\")\n",
    "ax.set_xlabel(\"Crime type\")\n",
    "ax.set_ylabel(\"Number of Occurrences\")\n",
    "\n",
    "\n",
    "# print(crimeDF[\"OFFENSE_CATEGORY_ID\"].value_counts())\n",
    "# print(crimeDF[\"DISTRICT_ID\"].value_counts())\n",
    "# print(crimeDF[\"PRECINCT_ID\"].value_counts())\n",
    "# print(crimeDF[\"NEIGHBORHOOD_ID\"].value_counts())\n",
    "# print(crimeDF[\"IS_CRIME\"].value_counts())\n",
    "# print(crimeDF[\"IS_TRAFFIC\"].value_counts())"
   ]
  },
  {
   "cell_type": "code",
   "execution_count": 15,
   "metadata": {},
   "outputs": [
    {
     "data": {
      "image/png": "[encoded data removed]",
      "text/plain": [
       "<Figure size 432x288 with 1 Axes>"
      ]
     },
     "metadata": {
      "needs_background": "light"
     },
     "output_type": "display_data"
    }
   ],
   "source": [
    "res = crimeDF[~crimeDF['OFFENSE_TYPE_ID'].isin(offenseType[offenseType < 5000].index)]\n",
    "\n",
    "# print(res)\n",
    "ax = (res[\"OFFENSE_TYPE_ID\"].value_counts()).plot(title=\"Count distribution of offense type ID\")\n",
    "ax.set_xlabel(\"Crime type\")\n",
    "ax.set_ylabel(\"Number of Occurrences\")\n",
    "plt.xticks(rotation=90)\n",
    "plt.show()"
   ]
  },
  {
   "cell_type": "code",
   "execution_count": 16,
   "metadata": {},
   "outputs": [
    {
     "name": "stderr",
     "output_type": "stream",
     "text": [
      "/Library/Frameworks/Python.framework/Versions/3.9/lib/python3.9/site-packages/scipy/__init__.py:146: UserWarning: A NumPy version >=1.16.5 and <1.23.0 is required for this version of SciPy (detected version 1.23.3\n",
      "  warnings.warn(f\"A NumPy version >={np_minversion} and <{np_maxversion}\"\n"
     ]
    },
    {
     "data": {
      "image/png": "[encoded data removed]",
      "text/plain": [
       "<Figure size 432x288 with 1 Axes>"
      ]
     },
     "metadata": {
      "needs_background": "light"
     },
     "output_type": "display_data"
    }
   ],
   "source": [
    "ax2 =(res[\"OFFENSE_TYPE_ID\"].value_counts()).plot.kde(title=\"Density plot of Offense Type ID\")"
   ]
  },
  {
   "cell_type": "markdown",
   "metadata": {},
   "source": [
    "group by type: within type\n",
    "offense category id"
   ]
  },
  {
   "cell_type": "code",
   "execution_count": 17,
   "metadata": {},
   "outputs": [
    {
     "name": "stdout",
     "output_type": "stream",
     "text": [
      "Offense Types in Denver and Occurrence count\n",
      "theft-from-motor-vehicle        53699\n",
      "auto-theft                      38017\n",
      "larceny                         34216\n",
      "public-disorder                 29436\n",
      "burglary                        25084\n",
      "all-other-crimes                 5280\n",
      "other-crimes-against-persons     4042\n",
      "aggravated-assault               3345\n",
      "white-collar-crime               3152\n",
      "robbery                          1822\n",
      "drug-alcohol                      529\n",
      "arson                             178\n",
      "murder                            107\n",
      "Name: OFFENSE_CATEGORY_ID, dtype: int64\n"
     ]
    }
   ],
   "source": [
    "offenseCategory =(crimeDF[\"OFFENSE_CATEGORY_ID\"].value_counts())\n",
    "print(\"Offense Types in Denver and Occurrence count\")\n",
    "print(offenseCategory)"
   ]
  },
  {
   "cell_type": "code",
   "execution_count": 18,
   "metadata": {},
   "outputs": [
    {
     "data": {
      "text/plain": [
       "<AxesSubplot:ylabel='Density'>"
      ]
     },
     "execution_count": 18,
     "metadata": {},
     "output_type": "execute_result"
    },
    {
     "data": {
      "image/png": "[encoded data removed]",
      "text/plain": [
       "<Figure size 432x288 with 1 Axes>"
      ]
     },
     "metadata": {
      "needs_background": "light"
     },
     "output_type": "display_data"
    }
   ],
   "source": [
    "offenseCategory.plot.kde()"
   ]
  },
  {
   "cell_type": "code",
   "execution_count": 19,
   "metadata": {},
   "outputs": [
    {
     "data": {
      "image/png": "[encoded data removed]",
      "text/plain": [
       "<Figure size 432x288 with 1 Axes>"
      ]
     },
     "metadata": {
      "needs_background": "light"
     },
     "output_type": "display_data"
    }
   ],
   "source": [
    "ax = offenseCategory.plot(title=\"Crime Type vs Number of Occurrences\")\n",
    "plt.xticks(rotation=90)\n",
    "ax.set_xlabel(\"Crime type\")\n",
    "ax.set_ylabel(\"Number of Occurrences\")\n",
    "\n",
    "plt.show()"
   ]
  },
  {
   "cell_type": "code",
   "execution_count": 23,
   "metadata": {},
   "outputs": [
    {
     "data": {
      "image/png": "[encoded data removed]",
      "text/plain": [
       "<Figure size 432x288 with 1 Axes>"
      ]
     },
     "metadata": {
      "needs_background": "light"
     },
     "output_type": "display_data"
    }
   ],
   "source": [
    "\n",
    "ax = crimeDF.groupby(\"month\").size().plot(kind = \"bar\", title= \"Total Crime Events by Month Denver\")\n",
    "ax.set_ylabel(\"Number of Occurrences\")\n",
    "plt.xticks(rotation=0)\n",
    "plt.show()"
   ]
  },
  {
   "cell_type": "markdown",
   "metadata": {},
   "source": [
    "Merging data on date of occurrence from crime and date from weather"
   ]
  },
  {
   "cell_type": "code",
   "execution_count": 24,
   "metadata": {},
   "outputs": [
    {
     "data": {
      "image/png": "[encoded data removed]",
      "text/plain": [
       "<Figure size 432x288 with 1 Axes>"
      ]
     },
     "metadata": {
      "needs_background": "light"
     },
     "output_type": "display_data"
    }
   ],
   "source": [
    "ax = crimeDF.groupby(\"year\").size().plot(kind = \"bar\", title= \"Total Crime Events by Year Denver\")\n",
    "ax.set_ylabel(\"Number of Occurrences\")\n",
    "plt.xticks(rotation=0)\n",
    "plt.show()"
   ]
  },
  {
   "cell_type": "code",
   "execution_count": 29,
   "metadata": {},
   "outputs": [
    {
     "data": {
      "text/html": [
       "<div>\n",
       "<style scoped>\n",
       "    .dataframe tbody tr th:only-of-type {\n",
       "        vertical-align: middle;\n",
       "    }\n",
       "\n",
       "    .dataframe tbody tr th {\n",
       "        vertical-align: top;\n",
       "    }\n",
       "\n",
       "    .dataframe thead th {\n",
       "        text-align: right;\n",
       "    }\n",
       "</style>\n",
       "<table border=\"1\" class=\"dataframe\">\n",
       "  <thead>\n",
       "    <tr style=\"text-align: right;\">\n",
       "      <th></th>\n",
       "      <th>Temperature</th>\n",
       "      <th>Wind</th>\n",
       "      <th>WinSpeed</th>\n",
       "      <th>Pressure</th>\n",
       "      <th>Condition</th>\n",
       "      <th>month</th>\n",
       "      <th>year</th>\n",
       "    </tr>\n",
       "    <tr>\n",
       "      <th>Date</th>\n",
       "      <th></th>\n",
       "      <th></th>\n",
       "      <th></th>\n",
       "      <th></th>\n",
       "      <th></th>\n",
       "      <th></th>\n",
       "      <th></th>\n",
       "    </tr>\n",
       "  </thead>\n",
       "  <tbody>\n",
       "    <tr>\n",
       "      <th>2002-01-01</th>\n",
       "      <td>23</td>\n",
       "      <td>WNW</td>\n",
       "      <td>14</td>\n",
       "      <td>24.95</td>\n",
       "      <td>Mostly Cloudy</td>\n",
       "      <td>1</td>\n",
       "      <td>2002</td>\n",
       "    </tr>\n",
       "    <tr>\n",
       "      <th>2002-01-02</th>\n",
       "      <td>35</td>\n",
       "      <td>WSW</td>\n",
       "      <td>14</td>\n",
       "      <td>24.95</td>\n",
       "      <td>Partly Cloudy</td>\n",
       "      <td>1</td>\n",
       "      <td>2002</td>\n",
       "    </tr>\n",
       "    <tr>\n",
       "      <th>2002-01-04</th>\n",
       "      <td>36</td>\n",
       "      <td>WSW</td>\n",
       "      <td>21</td>\n",
       "      <td>24.73</td>\n",
       "      <td>Partly Cloudy</td>\n",
       "      <td>1</td>\n",
       "      <td>2002</td>\n",
       "    </tr>\n",
       "    <tr>\n",
       "      <th>2002-01-05</th>\n",
       "      <td>40</td>\n",
       "      <td>WSW</td>\n",
       "      <td>14</td>\n",
       "      <td>24.79</td>\n",
       "      <td>Partly Cloudy</td>\n",
       "      <td>1</td>\n",
       "      <td>2002</td>\n",
       "    </tr>\n",
       "    <tr>\n",
       "      <th>2002-01-06</th>\n",
       "      <td>42</td>\n",
       "      <td>SSW</td>\n",
       "      <td>13</td>\n",
       "      <td>24.83</td>\n",
       "      <td>Partly Cloudy</td>\n",
       "      <td>1</td>\n",
       "      <td>2002</td>\n",
       "    </tr>\n",
       "    <tr>\n",
       "      <th>...</th>\n",
       "      <td>...</td>\n",
       "      <td>...</td>\n",
       "      <td>...</td>\n",
       "      <td>...</td>\n",
       "      <td>...</td>\n",
       "      <td>...</td>\n",
       "      <td>...</td>\n",
       "    </tr>\n",
       "    <tr>\n",
       "      <th>2020-10-11</th>\n",
       "      <td>78</td>\n",
       "      <td>WSW</td>\n",
       "      <td>40</td>\n",
       "      <td>24.65</td>\n",
       "      <td>Partly Cloudy</td>\n",
       "      <td>10</td>\n",
       "      <td>2020</td>\n",
       "    </tr>\n",
       "    <tr>\n",
       "      <th>2020-10-12</th>\n",
       "      <td>75</td>\n",
       "      <td>WSW</td>\n",
       "      <td>31</td>\n",
       "      <td>24.65</td>\n",
       "      <td>Fair / Windy</td>\n",
       "      <td>10</td>\n",
       "      <td>2020</td>\n",
       "    </tr>\n",
       "    <tr>\n",
       "      <th>2020-10-13</th>\n",
       "      <td>80</td>\n",
       "      <td>WSW</td>\n",
       "      <td>28</td>\n",
       "      <td>24.76</td>\n",
       "      <td>Partly Cloudy</td>\n",
       "      <td>10</td>\n",
       "      <td>2020</td>\n",
       "    </tr>\n",
       "    <tr>\n",
       "      <th>2020-10-18</th>\n",
       "      <td>49</td>\n",
       "      <td>WSW</td>\n",
       "      <td>16</td>\n",
       "      <td>24.70</td>\n",
       "      <td>Partly Cloudy</td>\n",
       "      <td>10</td>\n",
       "      <td>2020</td>\n",
       "    </tr>\n",
       "    <tr>\n",
       "      <th>2020-10-20</th>\n",
       "      <td>66</td>\n",
       "      <td>WSW</td>\n",
       "      <td>20</td>\n",
       "      <td>24.65</td>\n",
       "      <td>Partly Cloudy</td>\n",
       "      <td>10</td>\n",
       "      <td>2020</td>\n",
       "    </tr>\n",
       "  </tbody>\n",
       "</table>\n",
       "<p>6076 rows × 7 columns</p>\n",
       "</div>"
      ],
      "text/plain": [
       "            Temperature Wind  WinSpeed  Pressure      Condition  month  year\n",
       "Date                                                                        \n",
       "2002-01-01           23  WNW        14     24.95  Mostly Cloudy      1  2002\n",
       "2002-01-02           35  WSW        14     24.95  Partly Cloudy      1  2002\n",
       "2002-01-04           36  WSW        21     24.73  Partly Cloudy      1  2002\n",
       "2002-01-05           40  WSW        14     24.79  Partly Cloudy      1  2002\n",
       "2002-01-06           42  SSW        13     24.83  Partly Cloudy      1  2002\n",
       "...                 ...  ...       ...       ...            ...    ...   ...\n",
       "2020-10-11           78  WSW        40     24.65  Partly Cloudy     10  2020\n",
       "2020-10-12           75  WSW        31     24.65   Fair / Windy     10  2020\n",
       "2020-10-13           80  WSW        28     24.76  Partly Cloudy     10  2020\n",
       "2020-10-18           49  WSW        16     24.70  Partly Cloudy     10  2020\n",
       "2020-10-20           66  WSW        20     24.65  Partly Cloudy     10  2020\n",
       "\n",
       "[6076 rows x 7 columns]"
      ]
     },
     "execution_count": 29,
     "metadata": {},
     "output_type": "execute_result"
    }
   ],
   "source": [
    "weather = weatherDF.groupby('Date').max()\n",
    "weather"
   ]
  },
  {
   "cell_type": "code",
   "execution_count": 37,
   "metadata": {},
   "outputs": [
    {
     "data": {
      "image/png": "[encoded data removed]",
      "text/plain": [
       "<Figure size 432x288 with 1 Axes>"
      ]
     },
     "metadata": {
      "needs_background": "light"
     },
     "output_type": "display_data"
    }
   ],
   "source": [
    "plt.scatter(weather[\"month\"], weather[\"Temperature\"])\n",
    "plt.title(\"Monthly High Temperature Denver\")\n",
    "plt.xlabel(\"Month\")\n",
    "plt.ylabel(\"Temp(F)\")\n",
    "plt.show()"
   ]
  },
  {
   "cell_type": "code",
   "execution_count": 38,
   "metadata": {},
   "outputs": [
    {
     "data": {
      "image/png": "[encoded data removed]",
      "text/plain": [
       "<Figure size 432x288 with 1 Axes>"
      ]
     },
     "metadata": {
      "needs_background": "light"
     },
     "output_type": "display_data"
    }
   ],
   "source": [
    "plt.scatter(weather[\"year\"], weather[\"Temperature\"])\n",
    "plt.title(\"Yearly High Temperature Denver\")\n",
    "plt.xlabel(\"Year\")\n",
    "plt.ylabel(\"Temp(F)\")\n",
    "plt.show()"
   ]
  },
  {
   "cell_type": "markdown",
   "metadata": {},
   "source": []
  },
  {
   "cell_type": "markdown",
   "metadata": {},
   "source": [
    "Works Cited:\n",
    "https://medium.com/analytics-vidhya/how-to-pd-merge-two-data-frames-on-a-common-date-column-e7808d7ccaee \n",
    "https://towardsdatascience.com/analysis-of-nyc-reported-crime-data-using-pandas-821753cd7e22\n"
   ]
  },
  {
   "cell_type": "markdown",
   "metadata": {},
   "source": [
    "crimeDF"
   ]
  },
  {
   "cell_type": "code",
   "execution_count": null,
   "metadata": {},
   "outputs": [],
   "source": []
  }
 ],
 "metadata": {
  "kernelspec": {
   "display_name": "Python 3.9.6 64-bit",
   "language": "python",
   "name": "python3"
  },
  "language_info": {
   "codemirror_mode": {
    "name": "ipython",
    "version": 3
   },
   "file_extension": ".py",
   "mimetype": "text/x-python",
   "name": "python",
   "nbconvert_exporter": "python",
   "pygments_lexer": "ipython3",
   "version": "3.9.6"
  },
  "orig_nbformat": 4,
  "vscode": {
   "interpreter": {
    "hash": "aee8b7b246df8f9039afb4144a1f6fd8d2ca17a180786b69acc140d282b71a49"
   }
  }
 },
 "nbformat": 4,
 "nbformat_minor": 2
}
