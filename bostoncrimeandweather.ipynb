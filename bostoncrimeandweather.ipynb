{
 "cells": [
  {
   "cell_type": "markdown",
   "metadata": {},
   "source": [
    "Crime and Weather: Boston"
   ]
  },
  {
   "cell_type": "code",
   "execution_count": 148,
   "metadata": {},
   "outputs": [],
   "source": [
    "import math\n",
    "import csv\n",
    "import statistics \n",
    "import argparse\n",
    "import pandas as pd\n",
    "import numpy as np\n",
    "import pickle\n",
    "from pathlib import Path\n",
    "import matplotlib.pyplot as plt"
   ]
  },
  {
   "cell_type": "markdown",
   "metadata": {},
   "source": [
    "Create Dataframes from Data Files"
   ]
  },
  {
   "cell_type": "code",
   "execution_count": 149,
   "metadata": {},
   "outputs": [
    {
     "name": "stdout",
     "output_type": "stream",
     "text": [
      "Total Crimes: 327820\n",
      "Weather Entries: 3749\n"
     ]
    },
    {
     "name": "stderr",
     "output_type": "stream",
     "text": [
      "c:\\Users\\Brady Murphy\\anaconda3\\lib\\site-packages\\IPython\\core\\interactiveshell.py:3146: DtypeWarning: Columns (6) have mixed types.Specify dtype option on import or set low_memory=False.\n",
      "  has_raised = await self.run_ast_nodes(code_ast.body, cell_name,\n"
     ]
    }
   ],
   "source": [
    "crimeDF = pd.read_csv(\"bcrime.csv\", encoding='windows-1254')\n",
    "weatherDF = pd.read_csv(\"bweather.csv\")\n",
    "\n",
    "numofcrimes = len(crimeDF.index)\n",
    "print(\"Total Crimes:\", numofcrimes)\n",
    "\n",
    "numofweather = len(weatherDF.index)\n",
    "print(\"Weather Entries:\", numofweather)"
   ]
  },
  {
   "cell_type": "markdown",
   "metadata": {},
   "source": [
    "Remove Unwanted Data and Display Working Dataframe"
   ]
  },
  {
   "cell_type": "code",
   "execution_count": 150,
   "metadata": {},
   "outputs": [],
   "source": [
    "del crimeDF[\"INCIDENT_NUMBER\"]\n",
    "del crimeDF[\"UCR_PART\"]\n",
    "del crimeDF[\"OFFENSE_CODE\"]\n",
    "del crimeDF[\"DISTRICT\"]\n",
    "del crimeDF[\"REPORTING_AREA\"]\n",
    "del crimeDF[\"SHOOTING\"]\n",
    "del crimeDF[\"DAY_OF_WEEK\"]\n",
    "del crimeDF[\"HOUR\"]\n",
    "del crimeDF[\"Lat\"]\n",
    "del crimeDF[\"Long\"]"
   ]
  },
  {
   "cell_type": "code",
   "execution_count": 151,
   "metadata": {},
   "outputs": [
    {
     "data": {
      "text/html": [
       "<div>\n",
       "<style scoped>\n",
       "    .dataframe tbody tr th:only-of-type {\n",
       "        vertical-align: middle;\n",
       "    }\n",
       "\n",
       "    .dataframe tbody tr th {\n",
       "        vertical-align: top;\n",
       "    }\n",
       "\n",
       "    .dataframe thead th {\n",
       "        text-align: right;\n",
       "    }\n",
       "</style>\n",
       "<table border=\"1\" class=\"dataframe\">\n",
       "  <thead>\n",
       "    <tr style=\"text-align: right;\">\n",
       "      <th></th>\n",
       "      <th>OFFENSE_CODE_GROUP</th>\n",
       "      <th>OFFENSE_DESCRIPTION</th>\n",
       "      <th>OCCURRED_ON_DATE</th>\n",
       "      <th>YEAR</th>\n",
       "      <th>MONTH</th>\n",
       "      <th>STREET</th>\n",
       "      <th>Location</th>\n",
       "    </tr>\n",
       "  </thead>\n",
       "  <tbody>\n",
       "    <tr>\n",
       "      <th>0</th>\n",
       "      <td>Disorderly Conduct</td>\n",
       "      <td>DISTURBING THE PEACE</td>\n",
       "      <td>2018-10-03 20:13:00</td>\n",
       "      <td>2018</td>\n",
       "      <td>10</td>\n",
       "      <td>ARLINGTON ST</td>\n",
       "      <td>(42.26260773, -71.12118637)</td>\n",
       "    </tr>\n",
       "    <tr>\n",
       "      <th>1</th>\n",
       "      <td>Property Lost</td>\n",
       "      <td>PROPERTY - LOST</td>\n",
       "      <td>2018-08-30 20:00:00</td>\n",
       "      <td>2018</td>\n",
       "      <td>8</td>\n",
       "      <td>ALLSTON ST</td>\n",
       "      <td>(42.35211146, -71.13531147)</td>\n",
       "    </tr>\n",
       "    <tr>\n",
       "      <th>2</th>\n",
       "      <td>Other</td>\n",
       "      <td>THREATS TO DO BODILY HARM</td>\n",
       "      <td>2018-10-03 19:20:00</td>\n",
       "      <td>2018</td>\n",
       "      <td>10</td>\n",
       "      <td>DEVON ST</td>\n",
       "      <td>(42.30812619, -71.07692974)</td>\n",
       "    </tr>\n",
       "    <tr>\n",
       "      <th>3</th>\n",
       "      <td>Aggravated Assault</td>\n",
       "      <td>ASSAULT - AGGRAVATED - BATTERY</td>\n",
       "      <td>2018-10-03 20:00:00</td>\n",
       "      <td>2018</td>\n",
       "      <td>10</td>\n",
       "      <td>CAMBRIDGE ST</td>\n",
       "      <td>(42.35945371, -71.05964817)</td>\n",
       "    </tr>\n",
       "    <tr>\n",
       "      <th>4</th>\n",
       "      <td>Aircraft</td>\n",
       "      <td>AIRCRAFT INCIDENTS</td>\n",
       "      <td>2018-10-03 20:49:00</td>\n",
       "      <td>2018</td>\n",
       "      <td>10</td>\n",
       "      <td>PRESCOTT ST</td>\n",
       "      <td>(42.37525782, -71.02466343)</td>\n",
       "    </tr>\n",
       "  </tbody>\n",
       "</table>\n",
       "</div>"
      ],
      "text/plain": [
       "   OFFENSE_CODE_GROUP             OFFENSE_DESCRIPTION     OCCURRED_ON_DATE  \\\n",
       "0  Disorderly Conduct            DISTURBING THE PEACE  2018-10-03 20:13:00   \n",
       "1       Property Lost                 PROPERTY - LOST  2018-08-30 20:00:00   \n",
       "2               Other       THREATS TO DO BODILY HARM  2018-10-03 19:20:00   \n",
       "3  Aggravated Assault  ASSAULT - AGGRAVATED - BATTERY  2018-10-03 20:00:00   \n",
       "4            Aircraft              AIRCRAFT INCIDENTS  2018-10-03 20:49:00   \n",
       "\n",
       "   YEAR  MONTH        STREET                     Location  \n",
       "0  2018     10  ARLINGTON ST  (42.26260773, -71.12118637)  \n",
       "1  2018      8    ALLSTON ST  (42.35211146, -71.13531147)  \n",
       "2  2018     10      DEVON ST  (42.30812619, -71.07692974)  \n",
       "3  2018     10  CAMBRIDGE ST  (42.35945371, -71.05964817)  \n",
       "4  2018     10   PRESCOTT ST  (42.37525782, -71.02466343)  "
      ]
     },
     "execution_count": 151,
     "metadata": {},
     "output_type": "execute_result"
    }
   ],
   "source": [
    "crimeDF.head()"
   ]
  },
  {
   "cell_type": "code",
   "execution_count": 152,
   "metadata": {},
   "outputs": [],
   "source": [
    "del weatherDF[\"High Dew Point (F)\"]\n",
    "del weatherDF[\"Low Dew Point (F)\"]\n",
    "del weatherDF[\"Avg Dew Point (F)\"]\n",
    "del weatherDF[\"High Humidity (%)\"]\n",
    "del weatherDF[\"Low Sea Level Press (in)\"]\n",
    "del weatherDF[\"High Visibility (mi)\"]\n",
    "del weatherDF[\"Avg Visibility (mi)\"]\n",
    "del weatherDF[\"Low Visibility (mi)\"]\n",
    "del weatherDF[\"Snowfall (in)\"]\n",
    "del weatherDF[\"Precip (in)\"]\n",
    "del weatherDF[\"Low Humidity (%)\"]\n",
    "del weatherDF[\"Avg Humidity (%)\"]\n",
    "del weatherDF[\"Avg Sea Level Press (in)\"]\n",
    "del weatherDF[\"High Sea Level Press (in)\"]"
   ]
  },
  {
   "cell_type": "code",
   "execution_count": 153,
   "metadata": {},
   "outputs": [
    {
     "data": {
      "text/html": [
       "<div>\n",
       "<style scoped>\n",
       "    .dataframe tbody tr th:only-of-type {\n",
       "        vertical-align: middle;\n",
       "    }\n",
       "\n",
       "    .dataframe tbody tr th {\n",
       "        vertical-align: top;\n",
       "    }\n",
       "\n",
       "    .dataframe thead th {\n",
       "        text-align: right;\n",
       "    }\n",
       "</style>\n",
       "<table border=\"1\" class=\"dataframe\">\n",
       "  <thead>\n",
       "    <tr style=\"text-align: right;\">\n",
       "      <th></th>\n",
       "      <th>Year</th>\n",
       "      <th>Month</th>\n",
       "      <th>Day</th>\n",
       "      <th>High Temp (F)</th>\n",
       "      <th>Avg Temp (F)</th>\n",
       "      <th>Low Temp (F)</th>\n",
       "      <th>High Wind (mph)</th>\n",
       "      <th>Avg Wind (mph)</th>\n",
       "      <th>High Wind Gust (mph)</th>\n",
       "      <th>Events</th>\n",
       "    </tr>\n",
       "  </thead>\n",
       "  <tbody>\n",
       "    <tr>\n",
       "      <th>0</th>\n",
       "      <td>2008</td>\n",
       "      <td>1</td>\n",
       "      <td>1</td>\n",
       "      <td>40</td>\n",
       "      <td>34</td>\n",
       "      <td>28</td>\n",
       "      <td>23</td>\n",
       "      <td>10</td>\n",
       "      <td>36</td>\n",
       "      <td>Both</td>\n",
       "    </tr>\n",
       "    <tr>\n",
       "      <th>1</th>\n",
       "      <td>2008</td>\n",
       "      <td>1</td>\n",
       "      <td>2</td>\n",
       "      <td>33</td>\n",
       "      <td>22</td>\n",
       "      <td>10</td>\n",
       "      <td>28</td>\n",
       "      <td>15</td>\n",
       "      <td>38</td>\n",
       "      <td>Snow</td>\n",
       "    </tr>\n",
       "    <tr>\n",
       "      <th>2</th>\n",
       "      <td>2008</td>\n",
       "      <td>1</td>\n",
       "      <td>3</td>\n",
       "      <td>14</td>\n",
       "      <td>11</td>\n",
       "      <td>7</td>\n",
       "      <td>25</td>\n",
       "      <td>17</td>\n",
       "      <td>32</td>\n",
       "      <td>None</td>\n",
       "    </tr>\n",
       "    <tr>\n",
       "      <th>3</th>\n",
       "      <td>2008</td>\n",
       "      <td>1</td>\n",
       "      <td>4</td>\n",
       "      <td>32</td>\n",
       "      <td>20</td>\n",
       "      <td>8</td>\n",
       "      <td>23</td>\n",
       "      <td>12</td>\n",
       "      <td>28</td>\n",
       "      <td>None</td>\n",
       "    </tr>\n",
       "    <tr>\n",
       "      <th>4</th>\n",
       "      <td>2008</td>\n",
       "      <td>1</td>\n",
       "      <td>5</td>\n",
       "      <td>42</td>\n",
       "      <td>35</td>\n",
       "      <td>27</td>\n",
       "      <td>16</td>\n",
       "      <td>9</td>\n",
       "      <td>23</td>\n",
       "      <td>None</td>\n",
       "    </tr>\n",
       "  </tbody>\n",
       "</table>\n",
       "</div>"
      ],
      "text/plain": [
       "   Year  Month  Day  High Temp (F)  Avg Temp (F)  Low Temp (F)  \\\n",
       "0  2008      1    1             40            34            28   \n",
       "1  2008      1    2             33            22            10   \n",
       "2  2008      1    3             14            11             7   \n",
       "3  2008      1    4             32            20             8   \n",
       "4  2008      1    5             42            35            27   \n",
       "\n",
       "   High Wind (mph)  Avg Wind (mph)  High Wind Gust (mph) Events  \n",
       "0               23              10                    36   Both  \n",
       "1               28              15                    38   Snow  \n",
       "2               25              17                    32   None  \n",
       "3               23              12                    28   None  \n",
       "4               16               9                    23   None  "
      ]
     },
     "execution_count": 153,
     "metadata": {},
     "output_type": "execute_result"
    }
   ],
   "source": [
    "weatherDF.head()"
   ]
  },
  {
   "cell_type": "markdown",
   "metadata": {},
   "source": [
    "-------------------------------------------------------------------------------------------------------------------------------------------------------------------------------------------------"
   ]
  },
  {
   "cell_type": "markdown",
   "metadata": {},
   "source": [
    "Crime Occurrences per Month"
   ]
  },
  {
   "cell_type": "code",
   "execution_count": 154,
   "metadata": {},
   "outputs": [
    {
     "data": {
      "image/png": "[encoded data removed]",
      "text/plain": [
       "<Figure size 432x288 with 1 Axes>"
      ]
     },
     "metadata": {
      "needs_background": "light"
     },
     "output_type": "display_data"
    }
   ],
   "source": [
    "ax = crimeDF.groupby(\"MONTH\").size().plot(kind = \"bar\", title= \"Total crime events by month\")\n",
    "ax.set_ylabel(\"Number of Occurrences\")\n",
    "plt.xticks(rotation=0)\n",
    "plt.show()"
   ]
  },
  {
   "cell_type": "markdown",
   "metadata": {},
   "source": [
    "Crime Occurences per Year"
   ]
  },
  {
   "cell_type": "code",
   "execution_count": 155,
   "metadata": {},
   "outputs": [
    {
     "data": {
      "image/png": "[encoded data removed]",
      "text/plain": [
       "<Figure size 432x288 with 1 Axes>"
      ]
     },
     "metadata": {
      "needs_background": "light"
     },
     "output_type": "display_data"
    }
   ],
   "source": [
    "ax = crimeDF.groupby(\"YEAR\").size().plot(kind = \"bar\", title= \"Total crime events by Year\")\n",
    "ax.set_ylabel(\"Number of Occurrences\")\n",
    "plt.xticks(rotation=0)\n",
    "plt.show()"
   ]
  },
  {
   "cell_type": "markdown",
   "metadata": {},
   "source": [
    "-------------------------------------------------------------------------------------------------------------------------------------------------------------------------------------------------------"
   ]
  },
  {
   "cell_type": "markdown",
   "metadata": {},
   "source": [
    "Crime Types and Classification (work in progress)"
   ]
  },
  {
   "cell_type": "code",
   "execution_count": 156,
   "metadata": {},
   "outputs": [
    {
     "name": "stdout",
     "output_type": "stream",
     "text": [
      "Motor Vehicle Accident Response              38134\n",
      "Larceny                                      26670\n",
      "Medical Assistance                           24226\n",
      "Investigate Person                           19176\n",
      "Other                                        18612\n",
      "                                             ...  \n",
      "HUMAN TRAFFICKING                                7\n",
      "INVESTIGATE PERSON                               4\n",
      "Burglary - No Property Taken                     2\n",
      "HUMAN TRAFFICKING - INVOLUNTARY SERVITUDE        2\n",
      "Biological Threat                                2\n",
      "Name: OFFENSE_CODE_GROUP, Length: 67, dtype: int64\n"
     ]
    },
    {
     "data": {
      "image/png": "[encoded data removed]",
      "text/plain": [
       "<Figure size 432x288 with 1 Axes>"
      ]
     },
     "metadata": {
      "needs_background": "light"
     },
     "output_type": "display_data"
    }
   ],
   "source": [
    "offenseType =(crimeDF[\"OFFENSE_CODE_GROUP\"].value_counts())\n",
    "print(offenseType)\n",
    "crimeDF.shape\n",
    "ax = offenseType.plot(title=\"Count distribution of offense type\")\n",
    "ax.set_xlabel(\"Crime type\")\n",
    "ax.set_ylabel(\"Number of Occurrences\")\n",
    "plt.xticks(rotation=90)\n",
    "plt.show()"
   ]
  },
  {
   "cell_type": "markdown",
   "metadata": {},
   "source": [
    "Crime Occurances by Type (working on classification of \"Type\")"
   ]
  },
  {
   "cell_type": "code",
   "execution_count": 157,
   "metadata": {},
   "outputs": [
    {
     "data": {
      "image/png": "[encoded data removed]",
      "text/plain": [
       "<Figure size 432x288 with 1 Axes>"
      ]
     },
     "metadata": {
      "needs_background": "light"
     },
     "output_type": "display_data"
    }
   ],
   "source": [
    "res = crimeDF[~crimeDF['OFFENSE_DESCRIPTION'].isin(offenseType[offenseType < 1000].index)]\n",
    "\n",
    "# print(res)\n",
    "ax = (res[\"OFFENSE_DESCRIPTION\"].value_counts()).plot(title=\"Count distribution of offense description\")\n",
    "ax.set_xlabel(\"Crime type\")\n",
    "ax.set_ylabel(\"Number of Occurrences\")\n",
    "plt.xticks(rotation=90)\n",
    "plt.show()"
   ]
  },
  {
   "cell_type": "markdown",
   "metadata": {},
   "source": [
    "------------------------------------------------------------------------------------------------------------------------------------------------------------------------------------------------------"
   ]
  },
  {
   "cell_type": "markdown",
   "metadata": {},
   "source": [
    "Crimes Against Property (OFFENSE_DESCRIPTION COLUMN)"
   ]
  },
  {
   "cell_type": "code",
   "execution_count": 158,
   "metadata": {},
   "outputs": [
    {
     "name": "stdout",
     "output_type": "stream",
     "text": [
      "Theft Crimes: 27740\n",
      "Vadalism Crimes: 15542\n",
      "Larceny Crimes: 37790\n",
      "Burglary Crimes: 7542\n",
      "Property Crimes: 51506\n",
      "Crimes Against Property: 140120\n",
      "Percent of Crimes: 42.74296870233665\n"
     ]
    }
   ],
   "source": [
    "theft = crimeDF.loc[crimeDF['OFFENSE_DESCRIPTION'].str.contains(\"theft\", case=False)]\n",
    "numoftheft = len(theft.index)\n",
    "print(\"Theft Crimes:\", numoftheft)\n",
    "\n",
    "vandalism = crimeDF.loc[crimeDF['OFFENSE_DESCRIPTION'].str.contains(\"vandalism\", case=False)]\n",
    "numofvandalism = len(vandalism.index)\n",
    "print(\"Vadalism Crimes:\", numofvandalism)\n",
    "\n",
    "larceny = crimeDF.loc[crimeDF['OFFENSE_DESCRIPTION'].str.contains(\"larceny\", case=False)]\n",
    "numoflarceny = len(larceny.index)\n",
    "print(\"Larceny Crimes:\", numoflarceny)\n",
    "\n",
    "burglary = crimeDF.loc[crimeDF['OFFENSE_DESCRIPTION'].str.contains(\"burglary\", case=False)]\n",
    "numofburglary = len(burglary.index)\n",
    "print(\"Burglary Crimes:\", numofburglary)\n",
    "\n",
    "property = crimeDF.loc[crimeDF['OFFENSE_DESCRIPTION'].str.contains(\"property\", case=False)]\n",
    "numofproperty = len(property.index)\n",
    "print(\"Property Crimes:\", numofproperty)\n",
    "\n",
    "numcrimeprop = numofburglary + numoflarceny + numoftheft + numofproperty + numofvandalism\n",
    "print(\"Crimes Against Property:\", numcrimeprop)\n",
    "\n",
    "proppercent = (numcrimeprop/numofcrimes)\n",
    "print(\"Percent of Crimes:\", proppercent*100)"
   ]
  },
  {
   "cell_type": "markdown",
   "metadata": {},
   "source": [
    "Crimes Against People (OFFENSE_DESCRIPTION COLUMN)"
   ]
  },
  {
   "cell_type": "code",
   "execution_count": 159,
   "metadata": {},
   "outputs": [
    {
     "name": "stdout",
     "output_type": "stream",
     "text": [
      "Assault Crimes: 24476\n",
      "Manslaughter Crimes: 173\n",
      "Warrants: 9560\n",
      "Medical: 20798\n",
      "Person Crimes: 55145\n",
      "Harassment Crimes: 4263\n",
      "Crimes Against People: 114415\n",
      "Percent of Crimes: 34.901775364529314\n"
     ]
    }
   ],
   "source": [
    "assault = crimeDF.loc[crimeDF['OFFENSE_DESCRIPTION'].str.contains(\"assault\", case=False)]\n",
    "numofassault = len(assault.index)\n",
    "print(\"Assault Crimes:\", numofassault)\n",
    "\n",
    "manslaught = crimeDF.loc[crimeDF['OFFENSE_DESCRIPTION'].str.contains(\"manslaughter\", case=False)]\n",
    "numofmanslaught = len(manslaught.index)\n",
    "print(\"Manslaughter Crimes:\", numofmanslaught)\n",
    "\n",
    "warrant = crimeDF.loc[crimeDF['OFFENSE_DESCRIPTION'].str.contains(\"warrant\", case=False)]\n",
    "numofwarrant = len(warrant.index)\n",
    "print(\"Warrants:\", numofwarrant)\n",
    "\n",
    "medical = crimeDF.loc[crimeDF['OFFENSE_DESCRIPTION'].str.contains(\"medical\", case=False)]\n",
    "numofmedical = len(medical.index)\n",
    "print(\"Medical:\", numofmedical)\n",
    "\n",
    "person = crimeDF.loc[crimeDF['OFFENSE_DESCRIPTION'].str.contains(\"person\", case=False)]\n",
    "numofperson = len(person.index)\n",
    "print(\"Person Crimes:\", numofperson)\n",
    "\n",
    "harassment = crimeDF.loc[crimeDF['OFFENSE_DESCRIPTION'].str.contains(\"harassment\", case=False)]\n",
    "numofharass = len(harassment.index)\n",
    "print(\"Harassment Crimes:\", numofharass)\n",
    "\n",
    "numcrimeperson = numofassault + numofmanslaught + numofwarrant + numofmedical + numofperson + numofharass\n",
    "print(\"Crimes Against People:\", numcrimeperson)\n",
    "\n",
    "peoplepercent = (numcrimeperson/numofcrimes)\n",
    "print(\"Percent of Crimes:\", peoplepercent*100)"
   ]
  },
  {
   "cell_type": "markdown",
   "metadata": {},
   "source": [
    "Crimes Against Society (OFFENSE_DESCRIPTION COLUMN)"
   ]
  },
  {
   "cell_type": "code",
   "execution_count": 160,
   "metadata": {},
   "outputs": [
    {
     "name": "stdout",
     "output_type": "stream",
     "text": [
      "Violations: 5996\n",
      "Threats: 9425\n",
      "Other: 20893\n",
      "Crimes Against Society/Other: 36314\n",
      "Percent of Crimes: 11.077420535659813\n"
     ]
    }
   ],
   "source": [
    "Violations = crimeDF.loc[crimeDF['OFFENSE_DESCRIPTION'].str.contains(\"violation\", case=False)]\n",
    "numofvio = len(Violations.index)\n",
    "print(\"Violations:\", numofvio)\n",
    "\n",
    "threat = crimeDF.loc[crimeDF['OFFENSE_DESCRIPTION'].str.contains(\"threat\", case=False)]\n",
    "numofthreat = len(threat.index)\n",
    "print(\"Threats:\", numofthreat)\n",
    "\n",
    "other = crimeDF.loc[crimeDF['OFFENSE_DESCRIPTION'].str.contains(\"other\", case=False)]\n",
    "numofother = len(other.index)\n",
    "print(\"Other:\", numofother)\n",
    "\n",
    "numcrimesociety = numofvio + numofthreat + numofother\n",
    "print(\"Crimes Against Society/Other:\", numcrimesociety)\n",
    "\n",
    "societypercent = (numcrimesociety/numofcrimes)\n",
    "print(\"Percent of Crimes:\", societypercent*100)"
   ]
  },
  {
   "cell_type": "markdown",
   "metadata": {},
   "source": [
    "Missing Crimes (OFFENSE_DESCRIPTION COLUMN)"
   ]
  },
  {
   "cell_type": "code",
   "execution_count": 161,
   "metadata": {},
   "outputs": [
    {
     "name": "stdout",
     "output_type": "stream",
     "text": [
      "Number Missing: 36971\n",
      "Percent of Crimes: 11.277835397474224\n"
     ]
    }
   ],
   "source": [
    "numofmissing = numofcrimes - (numcrimeprop + numcrimeperson + numcrimesociety)\n",
    "print(\"Number Missing:\", numofmissing)\n",
    "\n",
    "missingpercent = (numofmissing/numofcrimes)\n",
    "print(\"Percent of Crimes:\", missingpercent*100)"
   ]
  },
  {
   "cell_type": "markdown",
   "metadata": {},
   "source": [
    "-----------------------------------------------------------------------------------------------------------------------------------------------------------------------------------------------------"
   ]
  },
  {
   "cell_type": "markdown",
   "metadata": {},
   "source": [
    "Crimes Against Property (OFFENSE_CODE_GROUP COLUMN)"
   ]
  },
  {
   "cell_type": "code",
   "execution_count": 162,
   "metadata": {},
   "outputs": [
    {
     "name": "stdout",
     "output_type": "stream",
     "text": [
      "Theft Crimes: 6036\n",
      "Vadalism Crimes: 15810\n",
      "Larceny Crimes: 37790\n",
      "Burglary Crimes: 7551\n",
      "Property Crimes: 27993\n",
      "Crimes Against Property: 95180\n",
      "Percent of Crimes: 29.034226099688855\n"
     ]
    }
   ],
   "source": [
    "theft1 = crimeDF.loc[crimeDF['OFFENSE_CODE_GROUP'].str.contains(\"theft\", case=False)]\n",
    "numoftheft1 = len(theft1.index)\n",
    "print(\"Theft Crimes:\", numoftheft1)\n",
    "\n",
    "vandalism1 = crimeDF.loc[crimeDF['OFFENSE_CODE_GROUP'].str.contains(\"vandalism\", case=False)]\n",
    "numofvandalism1 = len(vandalism1.index)\n",
    "print(\"Vadalism Crimes:\", numofvandalism1)\n",
    "\n",
    "larceny1 = crimeDF.loc[crimeDF['OFFENSE_CODE_GROUP'].str.contains(\"larceny\", case=False)]\n",
    "numoflarceny1 = len(larceny1.index)\n",
    "print(\"Larceny Crimes:\", numoflarceny1)\n",
    "\n",
    "burglary1 = crimeDF.loc[crimeDF['OFFENSE_CODE_GROUP'].str.contains(\"burglary\", case=False)]\n",
    "numofburglary1 = len(burglary1.index)\n",
    "print(\"Burglary Crimes:\", numofburglary1)\n",
    "\n",
    "property1 = crimeDF.loc[crimeDF['OFFENSE_CODE_GROUP'].str.contains(\"property\", case=False)]\n",
    "numofproperty1 = len(property1.index)\n",
    "print(\"Property Crimes:\", numofproperty1)\n",
    "\n",
    "numcrimeprop1 = numofburglary1 + numoflarceny1 + numoftheft1 + numofproperty1 + numofvandalism1\n",
    "print(\"Crimes Against Property:\", numcrimeprop1)\n",
    "\n",
    "proppercent1 = (numcrimeprop1/numofcrimes)\n",
    "print(\"Percent of Crimes:\", proppercent1*100)"
   ]
  },
  {
   "cell_type": "markdown",
   "metadata": {},
   "source": [
    "Crimes Against People (OFFENSE_CODE_GROUP COLUMN)"
   ]
  },
  {
   "cell_type": "code",
   "execution_count": 170,
   "metadata": {},
   "outputs": [
    {
     "name": "stdout",
     "output_type": "stream",
     "text": [
      "Assault Crimes: 24296\n",
      "Manslaughter Crimes: 9\n",
      "Warrants: 9560\n",
      "Medical: 24226\n",
      "Person Crimes: 28160\n",
      "Harassment Crimes: 4263\n",
      "Crimes Against People: 90514\n",
      "Percent of Crimes: 27.610884021719233\n"
     ]
    }
   ],
   "source": [
    "assault1 = crimeDF.loc[crimeDF['OFFENSE_CODE_GROUP'].str.contains(\"assault\", case=False)]\n",
    "numofassault1 = len(assault1.index)\n",
    "print(\"Assault Crimes:\", numofassault1)\n",
    "\n",
    "manslaught1 = crimeDF.loc[crimeDF['OFFENSE_CODE_GROUP'].str.contains(\"manslaughter\", case=False)]\n",
    "numofmanslaught1 = len(manslaught1.index)\n",
    "print(\"Manslaughter Crimes:\", numofmanslaught1)\n",
    "\n",
    "warrant1 = crimeDF.loc[crimeDF['OFFENSE_CODE_GROUP'].str.contains(\"warrant\", case=False)]\n",
    "numofwarrant1 = len(warrant1.index)\n",
    "print(\"Warrants:\", numofwarrant1)\n",
    "\n",
    "medical1 = crimeDF.loc[crimeDF['OFFENSE_CODE_GROUP'].str.contains(\"medical\", case=False)]\n",
    "numofmedical1 = len(medical1.index)\n",
    "print(\"Medical:\", numofmedical1)\n",
    "\n",
    "person1 = crimeDF.loc[crimeDF['OFFENSE_CODE_GROUP'].str.contains(\"person\", case=False)]\n",
    "numofperson1 = len(person1.index)\n",
    "print(\"Person Crimes:\", numofperson1)\n",
    "\n",
    "harassment1 = crimeDF.loc[crimeDF['OFFENSE_CODE_GROUP'].str.contains(\"harassment\", case=False)]\n",
    "numofharass1 = len(harassment1.index)\n",
    "print(\"Harassment Crimes:\", numofharass1)\n",
    "\n",
    "numcrimeperson1 = numofassault1 + numofmanslaught1 + numofwarrant1 + numofmedical1 + numofperson1 + numofharass1\n",
    "print(\"Crimes Against People:\", numcrimeperson1)\n",
    "\n",
    "peoplepercent1 = (numcrimeperson1/numofcrimes)\n",
    "print(\"Percent of Crimes:\", peoplepercent1*100)"
   ]
  },
  {
   "cell_type": "markdown",
   "metadata": {},
   "source": [
    "Crimes Against Society (OFFENSE_CODE_GROUP COLUMN)"
   ]
  },
  {
   "cell_type": "code",
   "execution_count": 169,
   "metadata": {},
   "outputs": [
    {
     "name": "stdout",
     "output_type": "stream",
     "text": [
      "Violations: 30553\n",
      "Threats: 2\n",
      "Other: 19085\n",
      "Crimes Against Society/Other: 49640\n",
      "Percent of Crimes: 15.142456225977671\n"
     ]
    }
   ],
   "source": [
    "Violations1 = crimeDF.loc[crimeDF['OFFENSE_CODE_GROUP'].str.contains(\"violation\", case=False)]\n",
    "numofvio1 = len(Violations1.index)\n",
    "print(\"Violations:\", numofvio1)\n",
    "\n",
    "threat1 = crimeDF.loc[crimeDF['OFFENSE_CODE_GROUP'].str.contains(\"threat\", case=False)]\n",
    "numofthreat1 = len(threat1.index)\n",
    "print(\"Threats:\", numofthreat1)\n",
    "\n",
    "other1 = crimeDF.loc[crimeDF['OFFENSE_CODE_GROUP'].str.contains(\"other\", case=False)]\n",
    "numofother1 = len(other1.index)\n",
    "print(\"Other:\", numofother1)\n",
    "\n",
    "numcrimesociety1 = numofvio1 + numofthreat1 + numofother1\n",
    "print(\"Crimes Against Society/Other:\", numcrimesociety1)\n",
    "\n",
    "societypercent1 = (numcrimesociety1/numofcrimes)\n",
    "print(\"Percent of Crimes:\", societypercent1*100)"
   ]
  },
  {
   "cell_type": "code",
   "execution_count": 165,
   "metadata": {},
   "outputs": [
    {
     "name": "stdout",
     "output_type": "stream",
     "text": [
      "Number Missing: 92486\n",
      "Percent of Crimes: 28.212433652614237\n"
     ]
    }
   ],
   "source": [
    "numofmissing1 = numofcrimes - (numcrimeprop1 + numcrimeperson1 + numcrimesociety1)\n",
    "print(\"Number Missing:\", numofmissing1)\n",
    "\n",
    "missingpercent1 = (numofmissing1/numofcrimes)\n",
    "print(\"Percent of Crimes:\", missingpercent1*100)"
   ]
  },
  {
   "cell_type": "markdown",
   "metadata": {},
   "source": [
    "---------------------------------------------------------------------------------------------------------------------------------------------------------------------------------------"
   ]
  },
  {
   "cell_type": "markdown",
   "metadata": {},
   "source": [
    "Temperature Through the Months"
   ]
  },
  {
   "cell_type": "code",
   "execution_count": 166,
   "metadata": {},
   "outputs": [
    {
     "data": {
      "image/png": "[encoded data removed]",
      "text/plain": [
       "<Figure size 432x288 with 1 Axes>"
      ]
     },
     "metadata": {
      "needs_background": "light"
     },
     "output_type": "display_data"
    }
   ],
   "source": [
    "plt.scatter(weatherDF[\"Month\"], weatherDF[\"Avg Temp (F)\"])\n",
    "plt.show()"
   ]
  },
  {
   "cell_type": "markdown",
   "metadata": {},
   "source": [
    "Temperature Through the Years"
   ]
  },
  {
   "cell_type": "code",
   "execution_count": 167,
   "metadata": {},
   "outputs": [
    {
     "data": {
      "image/png": "[encoded data removed]",
      "text/plain": [
       "<Figure size 432x288 with 1 Axes>"
      ]
     },
     "metadata": {
      "needs_background": "light"
     },
     "output_type": "display_data"
    }
   ],
   "source": [
    "plt.scatter(weatherDF[\"Year\"], weatherDF[\"Avg Temp (F)\"])\n",
    "plt.show()"
   ]
  },
  {
   "cell_type": "markdown",
   "metadata": {},
   "source": [
    "Temperature Spread for Weather Events"
   ]
  },
  {
   "cell_type": "code",
   "execution_count": 168,
   "metadata": {},
   "outputs": [
    {
     "data": {
      "image/png": "[encoded data removed]",
      "text/plain": [
       "<Figure size 432x288 with 1 Axes>"
      ]
     },
     "metadata": {
      "needs_background": "light"
     },
     "output_type": "display_data"
    }
   ],
   "source": [
    "plt.scatter(weatherDF[\"Events\"], weatherDF[\"Avg Temp (F)\"])\n",
    "plt.show()"
   ]
  },
  {
   "cell_type": "code",
   "execution_count": null,
   "metadata": {},
   "outputs": [],
   "source": []
  }
 ],
 "metadata": {
  "kernelspec": {
   "display_name": "Python 3.8.5 ('base')",
   "language": "python",
   "name": "python3"
  },
  "language_info": {
   "codemirror_mode": {
    "name": "ipython",
    "version": 3
   },
   "file_extension": ".py",
   "mimetype": "text/x-python",
   "name": "python",
   "nbconvert_exporter": "python",
   "pygments_lexer": "ipython3",
   "version": "3.8.5"
  },
  "orig_nbformat": 4,
  "vscode": {
   "interpreter": {
    "hash": "a4c4d524a3e7d96cb2722bbbef05a3229e834a3dea0ab15c6ddb69eca9adc16f"
   }
  }
 },
 "nbformat": 4,
 "nbformat_minor": 2
}
